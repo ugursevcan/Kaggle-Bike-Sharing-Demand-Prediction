{
  "cells": [
    {
      "cell_type": "markdown",
      "metadata": {
        "id": "view-in-github",
        "colab_type": "text"
      },
      "source": [
        "<a href=\"https://colab.research.google.com/github/ugursevcan/Kaggle-Bike-Sharing-Demand-Prediction/blob/main/Bike_Sharing_Prediction.ipynb\" target=\"_parent\"><img src=\"https://colab.research.google.com/assets/colab-badge.svg\" alt=\"Open In Colab\"/></a>"
      ]
    },
    {
      "cell_type": "markdown",
      "id": "1438023a",
      "metadata": {
        "id": "1438023a"
      },
      "source": [
        "<center><h1><u><b>Bike Sharing Demand</b></u></h1></center>"
      ]
    },
    {
      "cell_type": "markdown",
      "source": [
        "<h2><b>Table of Contents</b></h2>\n",
        "\n",
        "* 1 INTRODUCTION\n",
        "  * 1.1 Overview   \n",
        "  * 1.2  Feature Description\n",
        "  * 1.3  Problem Statement\n",
        "  * 1.4  Data Set Overview\n",
        "      * 1.4.1  Importing Necessary Libraries\n",
        "      * 1.4.2  Shape of the Data\n",
        "      * 1.4.3  First Few Observations\n",
        "      * 1.4.4  Feature Data Types\n",
        "      * 1.4.5  Feature Statistics Summary\n",
        "\n",
        "* 2 EDA\n",
        "  * 2.1  Data Distribution Visualization - Part 1\n",
        "      * 2.1.1  Distribution vs. Weather, Season, Working Day, Holiday\n",
        "      * 2.1.2  Distribution vs. Temperature\n",
        "  * 2.2  Feature Engineering - Part 1\n",
        "      * 2.2.1 Converting \"datetime\" Column\n",
        "      * 2.2.2 Reordering Columns\n",
        "  * 2.3  Data Distribution Visualization - Part 2\n",
        "      * 2.3.1  Hourly Distribution\n",
        "      * 2.3.2  Monthly Distribution\n",
        "  * 2.4  Outliers Analysis\n",
        "      * 2.4.1  Count\n",
        "      * 2.4.2  Eliminate Possible Outliers\n",
        "  * 2.5  Correlation Analysis\n",
        "      * 2.5.1  Regression Plots vs. Temperature, Humidity and Windspeed\n",
        "      * 2.5.2  Heatmap Plot\n",
        "  * 2.6  Feature Engineering - Part 2\n",
        "      * 2.6.1  Dropping Columns (casual and registered)\n",
        "      * 2.6.2  Weather Conversion\n",
        "      * 2.6.3  Creating Dummy Variables\n",
        "\n",
        "* 3 MODELLING\n",
        "  * 3.1 Scaling Numeric Values\n",
        "  * 3.2 Train/Validation Split\n",
        "  * 3.3 Defining Metric\n",
        "  * 3.4 Model Selection\n",
        "  * 3.5 Feature Importance\n",
        "  * 3.6 Submission\n",
        "  \n",
        "* 4 SUMMARY AND CONCLUSIONS\n",
        "  * 4.1  Data Exploration Conclusions\n",
        "  * 4.2  Limitations and Scope for Future Work"
      ],
      "metadata": {
        "id": "bHMG3G5doHvs"
      },
      "id": "bHMG3G5doHvs"
    },
    {
      "cell_type": "markdown",
      "source": [
        "# **1 INTRODUCTION**"
      ],
      "metadata": {
        "id": "rPaqeBeCwy-r"
      },
      "id": "rPaqeBeCwy-r"
    },
    {
      "cell_type": "markdown",
      "source": [
        "## **1.1 Overview**\n",
        "Kaggle competition: https://www.kaggle.com/c/bike-sharing-demand\n",
        "\n",
        "Bike sharing systems are a means of renting bicycles where the process of obtaining membership, rental, and bike return is automated via a network of kiosk locations throughout a city. Using these systems, people are able rent a bike from a one location and return it to a different place on an as-needed basis. Currently, there are over 500 bike-sharing programs around the world.\n",
        "\n"
      ],
      "metadata": {
        "id": "ZMrIg0ZGw6G-"
      },
      "id": "ZMrIg0ZGw6G-"
    },
    {
      "cell_type": "markdown",
      "source": [
        "## **1.2 Feature Description**\n",
        "The data set available at (https://www.kaggle.com/c/bike-sharing-demand/data) comprises of two spreadsheets - train.csv, which contains data to train the prediction algorithm, and test.csv, which contains data to test the prediction algorithm. The fields of data in train.csv are listed below.\n",
        "\n",
        "* <u><b>datetime:</b></u> hourly date + timestamp\n",
        "* <u><b>season:</b></u> 1 = spring, 2 = summer, 3 = fall, 4 = winter \n",
        "* <u><b>holiday:</b></u> whether the day is considered a holiday\n",
        "* <u><b>workingday:</b></u> whether the day is neither a weekend nor holiday\n",
        "* <u><b>weather:</b></u> \n",
        "  * 1: Clear, Few clouds, Partly cloudy, Partly cloudy\n",
        "  * 2: Mist + Cloudy, Mist + Broken clouds, Mist + Few clouds, Mist\n",
        "  * 3: Light Snow, Light Rain + Thunderstorm + Scattered clouds, Light Rain + Scattered clouds\n",
        "  * 4: Heavy Rain + Ice Pallets + Thunderstorm + Mist, Snow + Fog \n",
        "* <u><b>temp:</b></u> temperature in Celsius\n",
        "* <u><b>atemp:</b></u> \"feels like\" temperature in Celsius\n",
        "* <u><b>humidity:</b></u> relative humidity\n",
        "* <u><b>windspeed:</b></u> wind speed\n",
        "* <u><b>casual:</b></u> number of non-registered user rentals initiated\n",
        "* <u><b>registered:</b></u> number of registered user rentals initiated\n",
        "count - number of total rentals"
      ],
      "metadata": {
        "id": "2-e5sysCxh-m"
      },
      "id": "2-e5sysCxh-m"
    },
    {
      "cell_type": "markdown",
      "source": [
        "## **1.3 Problem Statement**\n",
        "\n",
        "The objective of this project is to integrate historical bike usage patterns with weather data to predict bike rental demand.\n",
        "\n",
        "* The target column to be predicted is 'count'\n",
        "* Eight input columns are utilized as variables: 'datetime', 'season', 'holiday', 'workingday', 'weather', 'temp', 'atemp', 'humidity', and 'windspeed'. \n",
        "* The remaining two columns, 'casual' and 'registered', represent the breakdown of the 'count' target column."
      ],
      "metadata": {
        "id": "_iIRE6AT0OZU"
      },
      "id": "_iIRE6AT0OZU"
    },
    {
      "cell_type": "markdown",
      "source": [
        "## **1.4 Data Overview**"
      ],
      "metadata": {
        "id": "dGVBsw3t0zcb"
      },
      "id": "dGVBsw3t0zcb"
    },
    {
      "cell_type": "markdown",
      "source": [
        "### **1.4.1  Importing Necessary Libraries**\n"
      ],
      "metadata": {
        "id": "5tgLDx_RT-gT"
      },
      "id": "5tgLDx_RT-gT"
    },
    {
      "cell_type": "code",
      "execution_count": 1,
      "id": "9b9f1b02",
      "metadata": {
        "id": "9b9f1b02"
      },
      "outputs": [],
      "source": [
        "import numpy as np \n",
        "import pandas as pd \n",
        "import numpy as np\n",
        "import pandas as pd\n",
        "import statsmodels.api as sm \n",
        "import matplotlib.pyplot as plt\n",
        "import datetime\n",
        "import seaborn as sns\n",
        "sns.set()\n",
        "\n",
        "import warnings\n",
        "warnings.filterwarnings('ignore')"
      ]
    },
    {
      "cell_type": "code",
      "source": [
        "# Loading the data:\n",
        "from google.colab import drive\n",
        "drive.mount('/content/drive')"
      ],
      "metadata": {
        "colab": {
          "base_uri": "https://localhost:8080/"
        },
        "id": "524dxGptGS4s",
        "outputId": "f3d92886-ccc0-484b-c42b-82947ddf250b"
      },
      "id": "524dxGptGS4s",
      "execution_count": 2,
      "outputs": [
        {
          "output_type": "stream",
          "name": "stdout",
          "text": [
            "Drive already mounted at /content/drive; to attempt to forcibly remount, call drive.mount(\"/content/drive\", force_remount=True).\n"
          ]
        }
      ]
    },
    {
      "cell_type": "code",
      "execution_count": 3,
      "id": "25dde0d9",
      "metadata": {
        "id": "25dde0d9"
      },
      "outputs": [],
      "source": [
        "# Loading the data:\n",
        "raw_train_data = pd.read_csv('/content/drive/MyDrive/Bike-Sharing-Demand-Prediction/train.csv')\n",
        "raw_test_data = pd.read_csv('/content/drive/MyDrive/Bike-Sharing-Demand-Prediction/test.csv')"
      ]
    },
    {
      "cell_type": "markdown",
      "source": [
        "### **1.4.2  Shape of the Data**\n"
      ],
      "metadata": {
        "id": "VzKf0Pbo_rhT"
      },
      "id": "VzKf0Pbo_rhT"
    },
    {
      "cell_type": "code",
      "source": [
        "print('shape of the data: ', raw_train_data.shape)"
      ],
      "metadata": {
        "colab": {
          "base_uri": "https://localhost:8080/"
        },
        "id": "fc0ZIliy_5hV",
        "outputId": "1a6ce5dd-1198-4efd-875a-7b47f6662d45"
      },
      "id": "fc0ZIliy_5hV",
      "execution_count": 4,
      "outputs": [
        {
          "output_type": "stream",
          "name": "stdout",
          "text": [
            "shape of the data:  (10886, 12)\n"
          ]
        }
      ]
    },
    {
      "cell_type": "markdown",
      "source": [
        "The data contains more than 10,000 observations and consists of 12 columns."
      ],
      "metadata": {
        "id": "_n79Ht6XDuZ7"
      },
      "id": "_n79Ht6XDuZ7"
    },
    {
      "cell_type": "markdown",
      "source": [
        "### **1.4.3  First Few Observations**\n"
      ],
      "metadata": {
        "id": "-72W3xC7ANqJ"
      },
      "id": "-72W3xC7ANqJ"
    },
    {
      "cell_type": "code",
      "execution_count": 5,
      "id": "74ad5a22",
      "metadata": {
        "colab": {
          "base_uri": "https://localhost:8080/",
          "height": 206
        },
        "id": "74ad5a22",
        "outputId": "660f203b-c554-4fd2-aea6-bc7ad7f1e04b"
      },
      "outputs": [
        {
          "output_type": "execute_result",
          "data": {
            "text/plain": [
              "              datetime  season  holiday  workingday  weather  temp   atemp  \\\n",
              "0  2011-01-01 00:00:00       1        0           0        1  9.84  14.395   \n",
              "1  2011-01-01 01:00:00       1        0           0        1  9.02  13.635   \n",
              "2  2011-01-01 02:00:00       1        0           0        1  9.02  13.635   \n",
              "3  2011-01-01 03:00:00       1        0           0        1  9.84  14.395   \n",
              "4  2011-01-01 04:00:00       1        0           0        1  9.84  14.395   \n",
              "\n",
              "   humidity  windspeed  casual  registered  count  \n",
              "0        81        0.0       3          13     16  \n",
              "1        80        0.0       8          32     40  \n",
              "2        80        0.0       5          27     32  \n",
              "3        75        0.0       3          10     13  \n",
              "4        75        0.0       0           1      1  "
            ],
            "text/html": [
              "\n",
              "  <div id=\"df-54db93b1-ca4c-4c80-ae3a-a58fbce62817\">\n",
              "    <div class=\"colab-df-container\">\n",
              "      <div>\n",
              "<style scoped>\n",
              "    .dataframe tbody tr th:only-of-type {\n",
              "        vertical-align: middle;\n",
              "    }\n",
              "\n",
              "    .dataframe tbody tr th {\n",
              "        vertical-align: top;\n",
              "    }\n",
              "\n",
              "    .dataframe thead th {\n",
              "        text-align: right;\n",
              "    }\n",
              "</style>\n",
              "<table border=\"1\" class=\"dataframe\">\n",
              "  <thead>\n",
              "    <tr style=\"text-align: right;\">\n",
              "      <th></th>\n",
              "      <th>datetime</th>\n",
              "      <th>season</th>\n",
              "      <th>holiday</th>\n",
              "      <th>workingday</th>\n",
              "      <th>weather</th>\n",
              "      <th>temp</th>\n",
              "      <th>atemp</th>\n",
              "      <th>humidity</th>\n",
              "      <th>windspeed</th>\n",
              "      <th>casual</th>\n",
              "      <th>registered</th>\n",
              "      <th>count</th>\n",
              "    </tr>\n",
              "  </thead>\n",
              "  <tbody>\n",
              "    <tr>\n",
              "      <th>0</th>\n",
              "      <td>2011-01-01 00:00:00</td>\n",
              "      <td>1</td>\n",
              "      <td>0</td>\n",
              "      <td>0</td>\n",
              "      <td>1</td>\n",
              "      <td>9.84</td>\n",
              "      <td>14.395</td>\n",
              "      <td>81</td>\n",
              "      <td>0.0</td>\n",
              "      <td>3</td>\n",
              "      <td>13</td>\n",
              "      <td>16</td>\n",
              "    </tr>\n",
              "    <tr>\n",
              "      <th>1</th>\n",
              "      <td>2011-01-01 01:00:00</td>\n",
              "      <td>1</td>\n",
              "      <td>0</td>\n",
              "      <td>0</td>\n",
              "      <td>1</td>\n",
              "      <td>9.02</td>\n",
              "      <td>13.635</td>\n",
              "      <td>80</td>\n",
              "      <td>0.0</td>\n",
              "      <td>8</td>\n",
              "      <td>32</td>\n",
              "      <td>40</td>\n",
              "    </tr>\n",
              "    <tr>\n",
              "      <th>2</th>\n",
              "      <td>2011-01-01 02:00:00</td>\n",
              "      <td>1</td>\n",
              "      <td>0</td>\n",
              "      <td>0</td>\n",
              "      <td>1</td>\n",
              "      <td>9.02</td>\n",
              "      <td>13.635</td>\n",
              "      <td>80</td>\n",
              "      <td>0.0</td>\n",
              "      <td>5</td>\n",
              "      <td>27</td>\n",
              "      <td>32</td>\n",
              "    </tr>\n",
              "    <tr>\n",
              "      <th>3</th>\n",
              "      <td>2011-01-01 03:00:00</td>\n",
              "      <td>1</td>\n",
              "      <td>0</td>\n",
              "      <td>0</td>\n",
              "      <td>1</td>\n",
              "      <td>9.84</td>\n",
              "      <td>14.395</td>\n",
              "      <td>75</td>\n",
              "      <td>0.0</td>\n",
              "      <td>3</td>\n",
              "      <td>10</td>\n",
              "      <td>13</td>\n",
              "    </tr>\n",
              "    <tr>\n",
              "      <th>4</th>\n",
              "      <td>2011-01-01 04:00:00</td>\n",
              "      <td>1</td>\n",
              "      <td>0</td>\n",
              "      <td>0</td>\n",
              "      <td>1</td>\n",
              "      <td>9.84</td>\n",
              "      <td>14.395</td>\n",
              "      <td>75</td>\n",
              "      <td>0.0</td>\n",
              "      <td>0</td>\n",
              "      <td>1</td>\n",
              "      <td>1</td>\n",
              "    </tr>\n",
              "  </tbody>\n",
              "</table>\n",
              "</div>\n",
              "      <button class=\"colab-df-convert\" onclick=\"convertToInteractive('df-54db93b1-ca4c-4c80-ae3a-a58fbce62817')\"\n",
              "              title=\"Convert this dataframe to an interactive table.\"\n",
              "              style=\"display:none;\">\n",
              "        \n",
              "  <svg xmlns=\"http://www.w3.org/2000/svg\" height=\"24px\"viewBox=\"0 0 24 24\"\n",
              "       width=\"24px\">\n",
              "    <path d=\"M0 0h24v24H0V0z\" fill=\"none\"/>\n",
              "    <path d=\"M18.56 5.44l.94 2.06.94-2.06 2.06-.94-2.06-.94-.94-2.06-.94 2.06-2.06.94zm-11 1L8.5 8.5l.94-2.06 2.06-.94-2.06-.94L8.5 2.5l-.94 2.06-2.06.94zm10 10l.94 2.06.94-2.06 2.06-.94-2.06-.94-.94-2.06-.94 2.06-2.06.94z\"/><path d=\"M17.41 7.96l-1.37-1.37c-.4-.4-.92-.59-1.43-.59-.52 0-1.04.2-1.43.59L10.3 9.45l-7.72 7.72c-.78.78-.78 2.05 0 2.83L4 21.41c.39.39.9.59 1.41.59.51 0 1.02-.2 1.41-.59l7.78-7.78 2.81-2.81c.8-.78.8-2.07 0-2.86zM5.41 20L4 18.59l7.72-7.72 1.47 1.35L5.41 20z\"/>\n",
              "  </svg>\n",
              "      </button>\n",
              "      \n",
              "  <style>\n",
              "    .colab-df-container {\n",
              "      display:flex;\n",
              "      flex-wrap:wrap;\n",
              "      gap: 12px;\n",
              "    }\n",
              "\n",
              "    .colab-df-convert {\n",
              "      background-color: #E8F0FE;\n",
              "      border: none;\n",
              "      border-radius: 50%;\n",
              "      cursor: pointer;\n",
              "      display: none;\n",
              "      fill: #1967D2;\n",
              "      height: 32px;\n",
              "      padding: 0 0 0 0;\n",
              "      width: 32px;\n",
              "    }\n",
              "\n",
              "    .colab-df-convert:hover {\n",
              "      background-color: #E2EBFA;\n",
              "      box-shadow: 0px 1px 2px rgba(60, 64, 67, 0.3), 0px 1px 3px 1px rgba(60, 64, 67, 0.15);\n",
              "      fill: #174EA6;\n",
              "    }\n",
              "\n",
              "    [theme=dark] .colab-df-convert {\n",
              "      background-color: #3B4455;\n",
              "      fill: #D2E3FC;\n",
              "    }\n",
              "\n",
              "    [theme=dark] .colab-df-convert:hover {\n",
              "      background-color: #434B5C;\n",
              "      box-shadow: 0px 1px 3px 1px rgba(0, 0, 0, 0.15);\n",
              "      filter: drop-shadow(0px 1px 2px rgba(0, 0, 0, 0.3));\n",
              "      fill: #FFFFFF;\n",
              "    }\n",
              "  </style>\n",
              "\n",
              "      <script>\n",
              "        const buttonEl =\n",
              "          document.querySelector('#df-54db93b1-ca4c-4c80-ae3a-a58fbce62817 button.colab-df-convert');\n",
              "        buttonEl.style.display =\n",
              "          google.colab.kernel.accessAllowed ? 'block' : 'none';\n",
              "\n",
              "        async function convertToInteractive(key) {\n",
              "          const element = document.querySelector('#df-54db93b1-ca4c-4c80-ae3a-a58fbce62817');\n",
              "          const dataTable =\n",
              "            await google.colab.kernel.invokeFunction('convertToInteractive',\n",
              "                                                     [key], {});\n",
              "          if (!dataTable) return;\n",
              "\n",
              "          const docLinkHtml = 'Like what you see? Visit the ' +\n",
              "            '<a target=\"_blank\" href=https://colab.research.google.com/notebooks/data_table.ipynb>data table notebook</a>'\n",
              "            + ' to learn more about interactive tables.';\n",
              "          element.innerHTML = '';\n",
              "          dataTable['output_type'] = 'display_data';\n",
              "          await google.colab.output.renderOutput(dataTable, element);\n",
              "          const docLink = document.createElement('div');\n",
              "          docLink.innerHTML = docLinkHtml;\n",
              "          element.appendChild(docLink);\n",
              "        }\n",
              "      </script>\n",
              "    </div>\n",
              "  </div>\n",
              "  "
            ]
          },
          "metadata": {},
          "execution_count": 5
        }
      ],
      "source": [
        "raw_train_data.head()"
      ]
    },
    {
      "cell_type": "code",
      "execution_count": 6,
      "id": "9e958508",
      "metadata": {
        "colab": {
          "base_uri": "https://localhost:8080/",
          "height": 206
        },
        "id": "9e958508",
        "outputId": "61d703fe-9ca0-466f-e211-f71449ecee3b"
      },
      "outputs": [
        {
          "output_type": "execute_result",
          "data": {
            "text/plain": [
              "              datetime  season  holiday  workingday  weather   temp   atemp  \\\n",
              "0  2011-01-20 00:00:00       1        0           1        1  10.66  11.365   \n",
              "1  2011-01-20 01:00:00       1        0           1        1  10.66  13.635   \n",
              "2  2011-01-20 02:00:00       1        0           1        1  10.66  13.635   \n",
              "3  2011-01-20 03:00:00       1        0           1        1  10.66  12.880   \n",
              "4  2011-01-20 04:00:00       1        0           1        1  10.66  12.880   \n",
              "\n",
              "   humidity  windspeed  \n",
              "0        56    26.0027  \n",
              "1        56     0.0000  \n",
              "2        56     0.0000  \n",
              "3        56    11.0014  \n",
              "4        56    11.0014  "
            ],
            "text/html": [
              "\n",
              "  <div id=\"df-0c7cd809-2dc2-4dec-a605-1899431ea7a6\">\n",
              "    <div class=\"colab-df-container\">\n",
              "      <div>\n",
              "<style scoped>\n",
              "    .dataframe tbody tr th:only-of-type {\n",
              "        vertical-align: middle;\n",
              "    }\n",
              "\n",
              "    .dataframe tbody tr th {\n",
              "        vertical-align: top;\n",
              "    }\n",
              "\n",
              "    .dataframe thead th {\n",
              "        text-align: right;\n",
              "    }\n",
              "</style>\n",
              "<table border=\"1\" class=\"dataframe\">\n",
              "  <thead>\n",
              "    <tr style=\"text-align: right;\">\n",
              "      <th></th>\n",
              "      <th>datetime</th>\n",
              "      <th>season</th>\n",
              "      <th>holiday</th>\n",
              "      <th>workingday</th>\n",
              "      <th>weather</th>\n",
              "      <th>temp</th>\n",
              "      <th>atemp</th>\n",
              "      <th>humidity</th>\n",
              "      <th>windspeed</th>\n",
              "    </tr>\n",
              "  </thead>\n",
              "  <tbody>\n",
              "    <tr>\n",
              "      <th>0</th>\n",
              "      <td>2011-01-20 00:00:00</td>\n",
              "      <td>1</td>\n",
              "      <td>0</td>\n",
              "      <td>1</td>\n",
              "      <td>1</td>\n",
              "      <td>10.66</td>\n",
              "      <td>11.365</td>\n",
              "      <td>56</td>\n",
              "      <td>26.0027</td>\n",
              "    </tr>\n",
              "    <tr>\n",
              "      <th>1</th>\n",
              "      <td>2011-01-20 01:00:00</td>\n",
              "      <td>1</td>\n",
              "      <td>0</td>\n",
              "      <td>1</td>\n",
              "      <td>1</td>\n",
              "      <td>10.66</td>\n",
              "      <td>13.635</td>\n",
              "      <td>56</td>\n",
              "      <td>0.0000</td>\n",
              "    </tr>\n",
              "    <tr>\n",
              "      <th>2</th>\n",
              "      <td>2011-01-20 02:00:00</td>\n",
              "      <td>1</td>\n",
              "      <td>0</td>\n",
              "      <td>1</td>\n",
              "      <td>1</td>\n",
              "      <td>10.66</td>\n",
              "      <td>13.635</td>\n",
              "      <td>56</td>\n",
              "      <td>0.0000</td>\n",
              "    </tr>\n",
              "    <tr>\n",
              "      <th>3</th>\n",
              "      <td>2011-01-20 03:00:00</td>\n",
              "      <td>1</td>\n",
              "      <td>0</td>\n",
              "      <td>1</td>\n",
              "      <td>1</td>\n",
              "      <td>10.66</td>\n",
              "      <td>12.880</td>\n",
              "      <td>56</td>\n",
              "      <td>11.0014</td>\n",
              "    </tr>\n",
              "    <tr>\n",
              "      <th>4</th>\n",
              "      <td>2011-01-20 04:00:00</td>\n",
              "      <td>1</td>\n",
              "      <td>0</td>\n",
              "      <td>1</td>\n",
              "      <td>1</td>\n",
              "      <td>10.66</td>\n",
              "      <td>12.880</td>\n",
              "      <td>56</td>\n",
              "      <td>11.0014</td>\n",
              "    </tr>\n",
              "  </tbody>\n",
              "</table>\n",
              "</div>\n",
              "      <button class=\"colab-df-convert\" onclick=\"convertToInteractive('df-0c7cd809-2dc2-4dec-a605-1899431ea7a6')\"\n",
              "              title=\"Convert this dataframe to an interactive table.\"\n",
              "              style=\"display:none;\">\n",
              "        \n",
              "  <svg xmlns=\"http://www.w3.org/2000/svg\" height=\"24px\"viewBox=\"0 0 24 24\"\n",
              "       width=\"24px\">\n",
              "    <path d=\"M0 0h24v24H0V0z\" fill=\"none\"/>\n",
              "    <path d=\"M18.56 5.44l.94 2.06.94-2.06 2.06-.94-2.06-.94-.94-2.06-.94 2.06-2.06.94zm-11 1L8.5 8.5l.94-2.06 2.06-.94-2.06-.94L8.5 2.5l-.94 2.06-2.06.94zm10 10l.94 2.06.94-2.06 2.06-.94-2.06-.94-.94-2.06-.94 2.06-2.06.94z\"/><path d=\"M17.41 7.96l-1.37-1.37c-.4-.4-.92-.59-1.43-.59-.52 0-1.04.2-1.43.59L10.3 9.45l-7.72 7.72c-.78.78-.78 2.05 0 2.83L4 21.41c.39.39.9.59 1.41.59.51 0 1.02-.2 1.41-.59l7.78-7.78 2.81-2.81c.8-.78.8-2.07 0-2.86zM5.41 20L4 18.59l7.72-7.72 1.47 1.35L5.41 20z\"/>\n",
              "  </svg>\n",
              "      </button>\n",
              "      \n",
              "  <style>\n",
              "    .colab-df-container {\n",
              "      display:flex;\n",
              "      flex-wrap:wrap;\n",
              "      gap: 12px;\n",
              "    }\n",
              "\n",
              "    .colab-df-convert {\n",
              "      background-color: #E8F0FE;\n",
              "      border: none;\n",
              "      border-radius: 50%;\n",
              "      cursor: pointer;\n",
              "      display: none;\n",
              "      fill: #1967D2;\n",
              "      height: 32px;\n",
              "      padding: 0 0 0 0;\n",
              "      width: 32px;\n",
              "    }\n",
              "\n",
              "    .colab-df-convert:hover {\n",
              "      background-color: #E2EBFA;\n",
              "      box-shadow: 0px 1px 2px rgba(60, 64, 67, 0.3), 0px 1px 3px 1px rgba(60, 64, 67, 0.15);\n",
              "      fill: #174EA6;\n",
              "    }\n",
              "\n",
              "    [theme=dark] .colab-df-convert {\n",
              "      background-color: #3B4455;\n",
              "      fill: #D2E3FC;\n",
              "    }\n",
              "\n",
              "    [theme=dark] .colab-df-convert:hover {\n",
              "      background-color: #434B5C;\n",
              "      box-shadow: 0px 1px 3px 1px rgba(0, 0, 0, 0.15);\n",
              "      filter: drop-shadow(0px 1px 2px rgba(0, 0, 0, 0.3));\n",
              "      fill: #FFFFFF;\n",
              "    }\n",
              "  </style>\n",
              "\n",
              "      <script>\n",
              "        const buttonEl =\n",
              "          document.querySelector('#df-0c7cd809-2dc2-4dec-a605-1899431ea7a6 button.colab-df-convert');\n",
              "        buttonEl.style.display =\n",
              "          google.colab.kernel.accessAllowed ? 'block' : 'none';\n",
              "\n",
              "        async function convertToInteractive(key) {\n",
              "          const element = document.querySelector('#df-0c7cd809-2dc2-4dec-a605-1899431ea7a6');\n",
              "          const dataTable =\n",
              "            await google.colab.kernel.invokeFunction('convertToInteractive',\n",
              "                                                     [key], {});\n",
              "          if (!dataTable) return;\n",
              "\n",
              "          const docLinkHtml = 'Like what you see? Visit the ' +\n",
              "            '<a target=\"_blank\" href=https://colab.research.google.com/notebooks/data_table.ipynb>data table notebook</a>'\n",
              "            + ' to learn more about interactive tables.';\n",
              "          element.innerHTML = '';\n",
              "          dataTable['output_type'] = 'display_data';\n",
              "          await google.colab.output.renderOutput(dataTable, element);\n",
              "          const docLink = document.createElement('div');\n",
              "          docLink.innerHTML = docLinkHtml;\n",
              "          element.appendChild(docLink);\n",
              "        }\n",
              "      </script>\n",
              "    </div>\n",
              "  </div>\n",
              "  "
            ]
          },
          "metadata": {},
          "execution_count": 6
        }
      ],
      "source": [
        "raw_test_data.head()"
      ]
    },
    {
      "cell_type": "markdown",
      "source": [
        "### **1.4.4 Feature Data Types**"
      ],
      "metadata": {
        "id": "wUVLSf0mEfbK"
      },
      "id": "wUVLSf0mEfbK"
    },
    {
      "cell_type": "code",
      "execution_count": 7,
      "id": "c9174ff2",
      "metadata": {
        "colab": {
          "base_uri": "https://localhost:8080/"
        },
        "id": "c9174ff2",
        "outputId": "746295a0-842a-49ae-f929-f4a5c5c46473"
      },
      "outputs": [
        {
          "output_type": "stream",
          "name": "stdout",
          "text": [
            "<class 'pandas.core.frame.DataFrame'>\n",
            "RangeIndex: 10886 entries, 0 to 10885\n",
            "Data columns (total 12 columns):\n",
            " #   Column      Non-Null Count  Dtype  \n",
            "---  ------      --------------  -----  \n",
            " 0   datetime    10886 non-null  object \n",
            " 1   season      10886 non-null  int64  \n",
            " 2   holiday     10886 non-null  int64  \n",
            " 3   workingday  10886 non-null  int64  \n",
            " 4   weather     10886 non-null  int64  \n",
            " 5   temp        10886 non-null  float64\n",
            " 6   atemp       10886 non-null  float64\n",
            " 7   humidity    10886 non-null  int64  \n",
            " 8   windspeed   10886 non-null  float64\n",
            " 9   casual      10886 non-null  int64  \n",
            " 10  registered  10886 non-null  int64  \n",
            " 11  count       10886 non-null  int64  \n",
            "dtypes: float64(3), int64(8), object(1)\n",
            "memory usage: 1020.7+ KB\n"
          ]
        }
      ],
      "source": [
        "raw_train_data.info()"
      ]
    },
    {
      "cell_type": "markdown",
      "source": [
        "Based on the output of the .info() command above, we can see that there are no missing values in any of the 10886 rows of the dataset. This suggests that the dataset is complete and clean.\n",
        "\n",
        "\n",
        "\n"
      ],
      "metadata": {
        "id": "TI0OYqNhocJz"
      },
      "id": "TI0OYqNhocJz"
    },
    {
      "cell_type": "markdown",
      "source": [
        "### **1.4.5 Feature Statistics Summary**"
      ],
      "metadata": {
        "id": "vJ0S70l3Eqhk"
      },
      "id": "vJ0S70l3Eqhk"
    },
    {
      "cell_type": "code",
      "execution_count": 8,
      "id": "b1af3b15",
      "metadata": {
        "colab": {
          "base_uri": "https://localhost:8080/",
          "height": 364
        },
        "id": "b1af3b15",
        "outputId": "744effcf-3056-4d29-df79-3bb8d54b1cb3"
      },
      "outputs": [
        {
          "output_type": "execute_result",
          "data": {
            "text/plain": [
              "             season       holiday    workingday       weather         temp  \\\n",
              "count  10886.000000  10886.000000  10886.000000  10886.000000  10886.00000   \n",
              "mean       2.506614      0.028569      0.680875      1.418427     20.23086   \n",
              "std        1.116174      0.166599      0.466159      0.633839      7.79159   \n",
              "min        1.000000      0.000000      0.000000      1.000000      0.82000   \n",
              "25%        2.000000      0.000000      0.000000      1.000000     13.94000   \n",
              "50%        3.000000      0.000000      1.000000      1.000000     20.50000   \n",
              "75%        4.000000      0.000000      1.000000      2.000000     26.24000   \n",
              "max        4.000000      1.000000      1.000000      4.000000     41.00000   \n",
              "\n",
              "              atemp      humidity     windspeed        casual    registered  \\\n",
              "count  10886.000000  10886.000000  10886.000000  10886.000000  10886.000000   \n",
              "mean      23.655084     61.886460     12.799395     36.021955    155.552177   \n",
              "std        8.474601     19.245033      8.164537     49.960477    151.039033   \n",
              "min        0.760000      0.000000      0.000000      0.000000      0.000000   \n",
              "25%       16.665000     47.000000      7.001500      4.000000     36.000000   \n",
              "50%       24.240000     62.000000     12.998000     17.000000    118.000000   \n",
              "75%       31.060000     77.000000     16.997900     49.000000    222.000000   \n",
              "max       45.455000    100.000000     56.996900    367.000000    886.000000   \n",
              "\n",
              "              count  \n",
              "count  10886.000000  \n",
              "mean     191.574132  \n",
              "std      181.144454  \n",
              "min        1.000000  \n",
              "25%       42.000000  \n",
              "50%      145.000000  \n",
              "75%      284.000000  \n",
              "max      977.000000  "
            ],
            "text/html": [
              "\n",
              "  <div id=\"df-0d6bf264-69ac-4025-9ef9-280c3990ac76\">\n",
              "    <div class=\"colab-df-container\">\n",
              "      <div>\n",
              "<style scoped>\n",
              "    .dataframe tbody tr th:only-of-type {\n",
              "        vertical-align: middle;\n",
              "    }\n",
              "\n",
              "    .dataframe tbody tr th {\n",
              "        vertical-align: top;\n",
              "    }\n",
              "\n",
              "    .dataframe thead th {\n",
              "        text-align: right;\n",
              "    }\n",
              "</style>\n",
              "<table border=\"1\" class=\"dataframe\">\n",
              "  <thead>\n",
              "    <tr style=\"text-align: right;\">\n",
              "      <th></th>\n",
              "      <th>season</th>\n",
              "      <th>holiday</th>\n",
              "      <th>workingday</th>\n",
              "      <th>weather</th>\n",
              "      <th>temp</th>\n",
              "      <th>atemp</th>\n",
              "      <th>humidity</th>\n",
              "      <th>windspeed</th>\n",
              "      <th>casual</th>\n",
              "      <th>registered</th>\n",
              "      <th>count</th>\n",
              "    </tr>\n",
              "  </thead>\n",
              "  <tbody>\n",
              "    <tr>\n",
              "      <th>count</th>\n",
              "      <td>10886.000000</td>\n",
              "      <td>10886.000000</td>\n",
              "      <td>10886.000000</td>\n",
              "      <td>10886.000000</td>\n",
              "      <td>10886.00000</td>\n",
              "      <td>10886.000000</td>\n",
              "      <td>10886.000000</td>\n",
              "      <td>10886.000000</td>\n",
              "      <td>10886.000000</td>\n",
              "      <td>10886.000000</td>\n",
              "      <td>10886.000000</td>\n",
              "    </tr>\n",
              "    <tr>\n",
              "      <th>mean</th>\n",
              "      <td>2.506614</td>\n",
              "      <td>0.028569</td>\n",
              "      <td>0.680875</td>\n",
              "      <td>1.418427</td>\n",
              "      <td>20.23086</td>\n",
              "      <td>23.655084</td>\n",
              "      <td>61.886460</td>\n",
              "      <td>12.799395</td>\n",
              "      <td>36.021955</td>\n",
              "      <td>155.552177</td>\n",
              "      <td>191.574132</td>\n",
              "    </tr>\n",
              "    <tr>\n",
              "      <th>std</th>\n",
              "      <td>1.116174</td>\n",
              "      <td>0.166599</td>\n",
              "      <td>0.466159</td>\n",
              "      <td>0.633839</td>\n",
              "      <td>7.79159</td>\n",
              "      <td>8.474601</td>\n",
              "      <td>19.245033</td>\n",
              "      <td>8.164537</td>\n",
              "      <td>49.960477</td>\n",
              "      <td>151.039033</td>\n",
              "      <td>181.144454</td>\n",
              "    </tr>\n",
              "    <tr>\n",
              "      <th>min</th>\n",
              "      <td>1.000000</td>\n",
              "      <td>0.000000</td>\n",
              "      <td>0.000000</td>\n",
              "      <td>1.000000</td>\n",
              "      <td>0.82000</td>\n",
              "      <td>0.760000</td>\n",
              "      <td>0.000000</td>\n",
              "      <td>0.000000</td>\n",
              "      <td>0.000000</td>\n",
              "      <td>0.000000</td>\n",
              "      <td>1.000000</td>\n",
              "    </tr>\n",
              "    <tr>\n",
              "      <th>25%</th>\n",
              "      <td>2.000000</td>\n",
              "      <td>0.000000</td>\n",
              "      <td>0.000000</td>\n",
              "      <td>1.000000</td>\n",
              "      <td>13.94000</td>\n",
              "      <td>16.665000</td>\n",
              "      <td>47.000000</td>\n",
              "      <td>7.001500</td>\n",
              "      <td>4.000000</td>\n",
              "      <td>36.000000</td>\n",
              "      <td>42.000000</td>\n",
              "    </tr>\n",
              "    <tr>\n",
              "      <th>50%</th>\n",
              "      <td>3.000000</td>\n",
              "      <td>0.000000</td>\n",
              "      <td>1.000000</td>\n",
              "      <td>1.000000</td>\n",
              "      <td>20.50000</td>\n",
              "      <td>24.240000</td>\n",
              "      <td>62.000000</td>\n",
              "      <td>12.998000</td>\n",
              "      <td>17.000000</td>\n",
              "      <td>118.000000</td>\n",
              "      <td>145.000000</td>\n",
              "    </tr>\n",
              "    <tr>\n",
              "      <th>75%</th>\n",
              "      <td>4.000000</td>\n",
              "      <td>0.000000</td>\n",
              "      <td>1.000000</td>\n",
              "      <td>2.000000</td>\n",
              "      <td>26.24000</td>\n",
              "      <td>31.060000</td>\n",
              "      <td>77.000000</td>\n",
              "      <td>16.997900</td>\n",
              "      <td>49.000000</td>\n",
              "      <td>222.000000</td>\n",
              "      <td>284.000000</td>\n",
              "    </tr>\n",
              "    <tr>\n",
              "      <th>max</th>\n",
              "      <td>4.000000</td>\n",
              "      <td>1.000000</td>\n",
              "      <td>1.000000</td>\n",
              "      <td>4.000000</td>\n",
              "      <td>41.00000</td>\n",
              "      <td>45.455000</td>\n",
              "      <td>100.000000</td>\n",
              "      <td>56.996900</td>\n",
              "      <td>367.000000</td>\n",
              "      <td>886.000000</td>\n",
              "      <td>977.000000</td>\n",
              "    </tr>\n",
              "  </tbody>\n",
              "</table>\n",
              "</div>\n",
              "      <button class=\"colab-df-convert\" onclick=\"convertToInteractive('df-0d6bf264-69ac-4025-9ef9-280c3990ac76')\"\n",
              "              title=\"Convert this dataframe to an interactive table.\"\n",
              "              style=\"display:none;\">\n",
              "        \n",
              "  <svg xmlns=\"http://www.w3.org/2000/svg\" height=\"24px\"viewBox=\"0 0 24 24\"\n",
              "       width=\"24px\">\n",
              "    <path d=\"M0 0h24v24H0V0z\" fill=\"none\"/>\n",
              "    <path d=\"M18.56 5.44l.94 2.06.94-2.06 2.06-.94-2.06-.94-.94-2.06-.94 2.06-2.06.94zm-11 1L8.5 8.5l.94-2.06 2.06-.94-2.06-.94L8.5 2.5l-.94 2.06-2.06.94zm10 10l.94 2.06.94-2.06 2.06-.94-2.06-.94-.94-2.06-.94 2.06-2.06.94z\"/><path d=\"M17.41 7.96l-1.37-1.37c-.4-.4-.92-.59-1.43-.59-.52 0-1.04.2-1.43.59L10.3 9.45l-7.72 7.72c-.78.78-.78 2.05 0 2.83L4 21.41c.39.39.9.59 1.41.59.51 0 1.02-.2 1.41-.59l7.78-7.78 2.81-2.81c.8-.78.8-2.07 0-2.86zM5.41 20L4 18.59l7.72-7.72 1.47 1.35L5.41 20z\"/>\n",
              "  </svg>\n",
              "      </button>\n",
              "      \n",
              "  <style>\n",
              "    .colab-df-container {\n",
              "      display:flex;\n",
              "      flex-wrap:wrap;\n",
              "      gap: 12px;\n",
              "    }\n",
              "\n",
              "    .colab-df-convert {\n",
              "      background-color: #E8F0FE;\n",
              "      border: none;\n",
              "      border-radius: 50%;\n",
              "      cursor: pointer;\n",
              "      display: none;\n",
              "      fill: #1967D2;\n",
              "      height: 32px;\n",
              "      padding: 0 0 0 0;\n",
              "      width: 32px;\n",
              "    }\n",
              "\n",
              "    .colab-df-convert:hover {\n",
              "      background-color: #E2EBFA;\n",
              "      box-shadow: 0px 1px 2px rgba(60, 64, 67, 0.3), 0px 1px 3px 1px rgba(60, 64, 67, 0.15);\n",
              "      fill: #174EA6;\n",
              "    }\n",
              "\n",
              "    [theme=dark] .colab-df-convert {\n",
              "      background-color: #3B4455;\n",
              "      fill: #D2E3FC;\n",
              "    }\n",
              "\n",
              "    [theme=dark] .colab-df-convert:hover {\n",
              "      background-color: #434B5C;\n",
              "      box-shadow: 0px 1px 3px 1px rgba(0, 0, 0, 0.15);\n",
              "      filter: drop-shadow(0px 1px 2px rgba(0, 0, 0, 0.3));\n",
              "      fill: #FFFFFF;\n",
              "    }\n",
              "  </style>\n",
              "\n",
              "      <script>\n",
              "        const buttonEl =\n",
              "          document.querySelector('#df-0d6bf264-69ac-4025-9ef9-280c3990ac76 button.colab-df-convert');\n",
              "        buttonEl.style.display =\n",
              "          google.colab.kernel.accessAllowed ? 'block' : 'none';\n",
              "\n",
              "        async function convertToInteractive(key) {\n",
              "          const element = document.querySelector('#df-0d6bf264-69ac-4025-9ef9-280c3990ac76');\n",
              "          const dataTable =\n",
              "            await google.colab.kernel.invokeFunction('convertToInteractive',\n",
              "                                                     [key], {});\n",
              "          if (!dataTable) return;\n",
              "\n",
              "          const docLinkHtml = 'Like what you see? Visit the ' +\n",
              "            '<a target=\"_blank\" href=https://colab.research.google.com/notebooks/data_table.ipynb>data table notebook</a>'\n",
              "            + ' to learn more about interactive tables.';\n",
              "          element.innerHTML = '';\n",
              "          dataTable['output_type'] = 'display_data';\n",
              "          await google.colab.output.renderOutput(dataTable, element);\n",
              "          const docLink = document.createElement('div');\n",
              "          docLink.innerHTML = docLinkHtml;\n",
              "          element.appendChild(docLink);\n",
              "        }\n",
              "      </script>\n",
              "    </div>\n",
              "  </div>\n",
              "  "
            ]
          },
          "metadata": {},
          "execution_count": 8
        }
      ],
      "source": [
        "raw_train_data.describe()"
      ]
    },
    {
      "cell_type": "code",
      "source": [
        "print('Casual + Registered = Count? ', ~(raw_train_data.casual + raw_train_data.registered - raw_train_data['count']).any())"
      ],
      "metadata": {
        "colab": {
          "base_uri": "https://localhost:8080/"
        },
        "id": "DCzgKU1PJyHt",
        "outputId": "6521944a-7f15-41e0-cc39-cc42161592e9"
      },
      "id": "DCzgKU1PJyHt",
      "execution_count": 9,
      "outputs": [
        {
          "output_type": "stream",
          "name": "stdout",
          "text": [
            "Casual + Registered = Count?  True\n"
          ]
        }
      ]
    },
    {
      "cell_type": "markdown",
      "source": [
        "# **2 EDA**"
      ],
      "metadata": {
        "id": "guPKTYmbT5mf"
      },
      "id": "guPKTYmbT5mf"
    },
    {
      "cell_type": "markdown",
      "source": [
        "## **2.1  Data Distribution Visualization - Part 1**"
      ],
      "metadata": {
        "id": "8ANqJHtDWNvg"
      },
      "id": "8ANqJHtDWNvg"
    },
    {
      "cell_type": "markdown",
      "source": [
        "### **2.1.1 Distribution vs. Season, Holiday, Working Day, Weather**"
      ],
      "metadata": {
        "id": "jURFDA9wXI9T"
      },
      "id": "jURFDA9wXI9T"
    },
    {
      "cell_type": "code",
      "source": [
        "# Average values across each of the categorical columns \n",
        "fig = plt.figure(figsize=(15, 12))\n",
        "axes = fig.add_subplot(2, 2, 1)\n",
        "group_weather = pd.DataFrame(raw_train_data.groupby(['season'])['count'].mean()).reset_index()\n",
        "sns.barplot(data=group_weather, x='season', y='count', ax=axes)\n",
        "axes.set(xlabel='season', ylabel='Count', title='Average bike rentals across season')\n",
        "\n",
        "axes = fig.add_subplot(2, 2, 2)\n",
        "group_season = pd.DataFrame(raw_train_data.groupby(['holiday'])['count'].mean()).reset_index()\n",
        "sns.barplot(data=group_season, x='holiday', y='count', ax=axes)\n",
        "axes.set(xlabel='holiday', ylabel='Count', title='Average bike rentals across holiday')\n",
        "\n",
        "axes = fig.add_subplot(2, 2, 3)\n",
        "group_workingday = pd.DataFrame(raw_train_data.groupby(['workingday'])['count'].mean()).reset_index()\n",
        "sns.barplot(data=group_workingday, x='workingday', y='count', ax=axes)\n",
        "axes.set(xlabel='workingday', ylabel='Count', title='Average bike rentals across workingday')\n",
        "\n",
        "axes = fig.add_subplot(2, 2, 4)\n",
        "group_season = pd.DataFrame(raw_train_data.groupby(['weather'])['count'].mean()).reset_index()\n",
        "sns.barplot(data=group_season, x='weather', y='count', ax=axes)\n",
        "axes.set(xlabel='weather', ylabel='Count', title='Average bike rentals across weather')\n",
        "plt.show()"
      ],
      "metadata": {
        "colab": {
          "base_uri": "https://localhost:8080/",
          "height": 736
        },
        "id": "AoqT03Y8WODA",
        "outputId": "c12fa57b-b816-42a5-88ba-4d359612a35d"
      },
      "id": "AoqT03Y8WODA",
      "execution_count": 10,
      "outputs": [
        {
          "output_type": "display_data",
          "data": {
            "text/plain": [
              "<Figure size 1080x864 with 4 Axes>"
            ],
            "image/png": "[encoded data removed]"
          },
          "metadata": {}
        }
      ]
    },
    {
      "cell_type": "code",
      "source": [
        "# Seaborn boxplots to get an idea of the distribution/outliers\n",
        "f, axes = plt.subplots(2, 2, figsize=(15, 12))\n",
        "sns.boxplot(data=raw_train_data, y='count', x='season', ax=axes[0][0])\n",
        "sns.boxplot(data=raw_train_data, y='count', x='holiday', ax=axes[0][1])\n",
        "sns.boxplot(data=raw_train_data, y='count', x='workingday', ax=axes[1][0])\n",
        "sns.boxplot(data=raw_train_data, y='count', x='weather', ax=axes[1][1])\n",
        "\n",
        "plt.show()"
      ],
      "metadata": {
        "colab": {
          "base_uri": "https://localhost:8080/",
          "height": 720
        },
        "id": "i-roQ2OHX76O",
        "outputId": "f25e0cf2-5aae-49f1-a06a-87c0a2ca5903"
      },
      "id": "i-roQ2OHX76O",
      "execution_count": 11,
      "outputs": [
        {
          "output_type": "display_data",
          "data": {
            "text/plain": [
              "<Figure size 1080x864 with 4 Axes>"
            ],
            "image/png": "[encoded data removed]"
          },
          "metadata": {}
        }
      ]
    },
    {
      "cell_type": "markdown",
      "source": [
        "### **2.1.2 Distribution vs. Temperature**"
      ],
      "metadata": {
        "id": "jkeV42QdXde-"
      },
      "id": "jkeV42QdXde-"
    },
    {
      "cell_type": "code",
      "source": [
        "# Splitting data into working-day and non-working day\n",
        "data_w = raw_train_data[raw_train_data.workingday==1]\n",
        "data_nw = raw_train_data[raw_train_data.workingday==0]\n",
        "\n",
        "bin_size = 4\n",
        "data_w['temp_round'] = data_w['temp']//bin_size\n",
        "data_nw['temp_round'] = data_nw['temp']//bin_size\n",
        "\n",
        "mean_count_vs_temp_w = data_w.groupby('temp_round')['count'].mean()\n",
        "mean_count_vs_temp_nw = data_nw.groupby('temp_round')['count'].mean()\n",
        "idx_w, idx_nw = range(len(mean_count_vs_temp_w)), range(len(mean_count_vs_temp_nw))\n",
        "labels_w = [str(bin_size*i)+' to '+str(bin_size*(i+1)) for i in range(len(mean_count_vs_temp_w))]\n",
        "labels_nw = [str(bin_size*i)+' to '+str(bin_size*(i+1)) for i in range(len(mean_count_vs_temp_nw))]\n",
        "\n",
        "fig = plt.figure(figsize=(18, 6))\n",
        "axes = fig.add_subplot(1, 2, 1)\n",
        "plt.bar(x=idx_w, height=mean_count_vs_temp_w)\n",
        "plt.xticks(idx_w, labels_w, rotation=90)\n",
        "plt.xlabel('temp bins')\n",
        "plt.ylabel('Average Count')\n",
        "plt.title('Working Days: Average Count given across temperature range')\n",
        "\n",
        "axes = fig.add_subplot(1, 2, 2)\n",
        "plt.bar(x=idx_nw, height=mean_count_vs_temp_nw)\n",
        "plt.xticks(idx_nw, labels_nw, rotation=90)\n",
        "plt.xlabel('temp bins')\n",
        "plt.ylabel('Average Count')\n",
        "plt.title('Non-Working Days: Average Count given across temperature range')\n",
        "\n",
        "plt.show()"
      ],
      "metadata": {
        "colab": {
          "base_uri": "https://localhost:8080/",
          "height": 426
        },
        "id": "uZgDqv3YXl3F",
        "outputId": "d8e9d620-0abe-418c-c606-9edd43d0b2ae"
      },
      "id": "uZgDqv3YXl3F",
      "execution_count": 12,
      "outputs": [
        {
          "output_type": "display_data",
          "data": {
            "text/plain": [
              "<Figure size 1296x432 with 2 Axes>"
            ],
            "image/png": "[encoded data removed]"
          },
          "metadata": {}
        }
      ]
    },
    {
      "cell_type": "markdown",
      "source": [
        "## **2.2  Feature Engineering - Part 1**"
      ],
      "metadata": {
        "id": "-_1S3XpYZZQS"
      },
      "id": "-_1S3XpYZZQS"
    },
    {
      "cell_type": "markdown",
      "source": [
        "### **2.2.1 Converting \"datetime\" Column**"
      ],
      "metadata": {
        "id": "ChVlu7Y7ZonR"
      },
      "id": "ChVlu7Y7ZonR"
    },
    {
      "cell_type": "markdown",
      "source": [
        "We'll convert datetime column to each elements (year, month, dayofweek, hour)"
      ],
      "metadata": {
        "id": "NMVdecEo1Vfk"
      },
      "id": "NMVdecEo1Vfk"
    },
    {
      "cell_type": "code",
      "source": [
        "# Range of time stamp\n",
        "first_date = raw_train_data['datetime'].min()\n",
        "last_date = raw_train_data['datetime'].max()\n",
        "print(first_date)\n",
        "print(last_date)"
      ],
      "metadata": {
        "colab": {
          "base_uri": "https://localhost:8080/"
        },
        "id": "N_dNd_7zJJu7",
        "outputId": "6d89cefc-12d2-4954-b07c-9c3f53574a9a"
      },
      "id": "N_dNd_7zJJu7",
      "execution_count": 13,
      "outputs": [
        {
          "output_type": "stream",
          "name": "stdout",
          "text": [
            "2011-01-01 00:00:00\n",
            "2012-12-19 23:00:00\n"
          ]
        }
      ]
    },
    {
      "cell_type": "code",
      "source": [
        "type(raw_train_data['datetime'][0])"
      ],
      "metadata": {
        "colab": {
          "base_uri": "https://localhost:8080/"
        },
        "id": "GOkzHQnfNGlk",
        "outputId": "d6d5ffc8-fdfd-4a50-a39d-ecc48b0c8f95"
      },
      "id": "GOkzHQnfNGlk",
      "execution_count": 14,
      "outputs": [
        {
          "output_type": "execute_result",
          "data": {
            "text/plain": [
              "str"
            ]
          },
          "metadata": {},
          "execution_count": 14
        }
      ]
    },
    {
      "cell_type": "code",
      "source": [
        "# Convert datetime column to each elements (year, month, dayofweek, hour)\n",
        "\n",
        "raw_train_data['datetime']=pd.to_datetime(raw_train_data['datetime'])\n",
        "raw_test_data['datetime']=pd.to_datetime(raw_test_data['datetime'])\n",
        "\n",
        "def split_datetime(df):\n",
        "    df['year']=df['datetime'].apply(lambda t: t.year)\n",
        "    df['month']=df['datetime'].apply(lambda t: t.month)\n",
        "    df['dayofweek']=df['datetime'].apply(lambda t: t.dayofweek)\n",
        "    df['hour']=df['datetime'].apply(lambda t: t.hour)\n",
        "    df=df.drop(['datetime'], axis=1)\n",
        "    return df\n",
        "    \n",
        "train_data=split_datetime(raw_train_data)\n",
        "test_data=split_datetime(raw_test_data)\n",
        "    \n",
        "train_data.head()"
      ],
      "metadata": {
        "colab": {
          "base_uri": "https://localhost:8080/",
          "height": 270
        },
        "id": "2yrHGVX8NY-G",
        "outputId": "1276a2ea-f4ac-45be-c6c0-2e64c65455d6"
      },
      "id": "2yrHGVX8NY-G",
      "execution_count": 15,
      "outputs": [
        {
          "output_type": "execute_result",
          "data": {
            "text/plain": [
              "   season  holiday  workingday  weather  temp   atemp  humidity  windspeed  \\\n",
              "0       1        0           0        1  9.84  14.395        81        0.0   \n",
              "1       1        0           0        1  9.02  13.635        80        0.0   \n",
              "2       1        0           0        1  9.02  13.635        80        0.0   \n",
              "3       1        0           0        1  9.84  14.395        75        0.0   \n",
              "4       1        0           0        1  9.84  14.395        75        0.0   \n",
              "\n",
              "   casual  registered  count  year  month  dayofweek  hour  \n",
              "0       3          13     16  2011      1          5     0  \n",
              "1       8          32     40  2011      1          5     1  \n",
              "2       5          27     32  2011      1          5     2  \n",
              "3       3          10     13  2011      1          5     3  \n",
              "4       0           1      1  2011      1          5     4  "
            ],
            "text/html": [
              "\n",
              "  <div id=\"df-86de86a9-4da3-499c-a02c-b2bdb438cab1\">\n",
              "    <div class=\"colab-df-container\">\n",
              "      <div>\n",
              "<style scoped>\n",
              "    .dataframe tbody tr th:only-of-type {\n",
              "        vertical-align: middle;\n",
              "    }\n",
              "\n",
              "    .dataframe tbody tr th {\n",
              "        vertical-align: top;\n",
              "    }\n",
              "\n",
              "    .dataframe thead th {\n",
              "        text-align: right;\n",
              "    }\n",
              "</style>\n",
              "<table border=\"1\" class=\"dataframe\">\n",
              "  <thead>\n",
              "    <tr style=\"text-align: right;\">\n",
              "      <th></th>\n",
              "      <th>season</th>\n",
              "      <th>holiday</th>\n",
              "      <th>workingday</th>\n",
              "      <th>weather</th>\n",
              "      <th>temp</th>\n",
              "      <th>atemp</th>\n",
              "      <th>humidity</th>\n",
              "      <th>windspeed</th>\n",
              "      <th>casual</th>\n",
              "      <th>registered</th>\n",
              "      <th>count</th>\n",
              "      <th>year</th>\n",
              "      <th>month</th>\n",
              "      <th>dayofweek</th>\n",
              "      <th>hour</th>\n",
              "    </tr>\n",
              "  </thead>\n",
              "  <tbody>\n",
              "    <tr>\n",
              "      <th>0</th>\n",
              "      <td>1</td>\n",
              "      <td>0</td>\n",
              "      <td>0</td>\n",
              "      <td>1</td>\n",
              "      <td>9.84</td>\n",
              "      <td>14.395</td>\n",
              "      <td>81</td>\n",
              "      <td>0.0</td>\n",
              "      <td>3</td>\n",
              "      <td>13</td>\n",
              "      <td>16</td>\n",
              "      <td>2011</td>\n",
              "      <td>1</td>\n",
              "      <td>5</td>\n",
              "      <td>0</td>\n",
              "    </tr>\n",
              "    <tr>\n",
              "      <th>1</th>\n",
              "      <td>1</td>\n",
              "      <td>0</td>\n",
              "      <td>0</td>\n",
              "      <td>1</td>\n",
              "      <td>9.02</td>\n",
              "      <td>13.635</td>\n",
              "      <td>80</td>\n",
              "      <td>0.0</td>\n",
              "      <td>8</td>\n",
              "      <td>32</td>\n",
              "      <td>40</td>\n",
              "      <td>2011</td>\n",
              "      <td>1</td>\n",
              "      <td>5</td>\n",
              "      <td>1</td>\n",
              "    </tr>\n",
              "    <tr>\n",
              "      <th>2</th>\n",
              "      <td>1</td>\n",
              "      <td>0</td>\n",
              "      <td>0</td>\n",
              "      <td>1</td>\n",
              "      <td>9.02</td>\n",
              "      <td>13.635</td>\n",
              "      <td>80</td>\n",
              "      <td>0.0</td>\n",
              "      <td>5</td>\n",
              "      <td>27</td>\n",
              "      <td>32</td>\n",
              "      <td>2011</td>\n",
              "      <td>1</td>\n",
              "      <td>5</td>\n",
              "      <td>2</td>\n",
              "    </tr>\n",
              "    <tr>\n",
              "      <th>3</th>\n",
              "      <td>1</td>\n",
              "      <td>0</td>\n",
              "      <td>0</td>\n",
              "      <td>1</td>\n",
              "      <td>9.84</td>\n",
              "      <td>14.395</td>\n",
              "      <td>75</td>\n",
              "      <td>0.0</td>\n",
              "      <td>3</td>\n",
              "      <td>10</td>\n",
              "      <td>13</td>\n",
              "      <td>2011</td>\n",
              "      <td>1</td>\n",
              "      <td>5</td>\n",
              "      <td>3</td>\n",
              "    </tr>\n",
              "    <tr>\n",
              "      <th>4</th>\n",
              "      <td>1</td>\n",
              "      <td>0</td>\n",
              "      <td>0</td>\n",
              "      <td>1</td>\n",
              "      <td>9.84</td>\n",
              "      <td>14.395</td>\n",
              "      <td>75</td>\n",
              "      <td>0.0</td>\n",
              "      <td>0</td>\n",
              "      <td>1</td>\n",
              "      <td>1</td>\n",
              "      <td>2011</td>\n",
              "      <td>1</td>\n",
              "      <td>5</td>\n",
              "      <td>4</td>\n",
              "    </tr>\n",
              "  </tbody>\n",
              "</table>\n",
              "</div>\n",
              "      <button class=\"colab-df-convert\" onclick=\"convertToInteractive('df-86de86a9-4da3-499c-a02c-b2bdb438cab1')\"\n",
              "              title=\"Convert this dataframe to an interactive table.\"\n",
              "              style=\"display:none;\">\n",
              "        \n",
              "  <svg xmlns=\"http://www.w3.org/2000/svg\" height=\"24px\"viewBox=\"0 0 24 24\"\n",
              "       width=\"24px\">\n",
              "    <path d=\"M0 0h24v24H0V0z\" fill=\"none\"/>\n",
              "    <path d=\"M18.56 5.44l.94 2.06.94-2.06 2.06-.94-2.06-.94-.94-2.06-.94 2.06-2.06.94zm-11 1L8.5 8.5l.94-2.06 2.06-.94-2.06-.94L8.5 2.5l-.94 2.06-2.06.94zm10 10l.94 2.06.94-2.06 2.06-.94-2.06-.94-.94-2.06-.94 2.06-2.06.94z\"/><path d=\"M17.41 7.96l-1.37-1.37c-.4-.4-.92-.59-1.43-.59-.52 0-1.04.2-1.43.59L10.3 9.45l-7.72 7.72c-.78.78-.78 2.05 0 2.83L4 21.41c.39.39.9.59 1.41.59.51 0 1.02-.2 1.41-.59l7.78-7.78 2.81-2.81c.8-.78.8-2.07 0-2.86zM5.41 20L4 18.59l7.72-7.72 1.47 1.35L5.41 20z\"/>\n",
              "  </svg>\n",
              "      </button>\n",
              "      \n",
              "  <style>\n",
              "    .colab-df-container {\n",
              "      display:flex;\n",
              "      flex-wrap:wrap;\n",
              "      gap: 12px;\n",
              "    }\n",
              "\n",
              "    .colab-df-convert {\n",
              "      background-color: #E8F0FE;\n",
              "      border: none;\n",
              "      border-radius: 50%;\n",
              "      cursor: pointer;\n",
              "      display: none;\n",
              "      fill: #1967D2;\n",
              "      height: 32px;\n",
              "      padding: 0 0 0 0;\n",
              "      width: 32px;\n",
              "    }\n",
              "\n",
              "    .colab-df-convert:hover {\n",
              "      background-color: #E2EBFA;\n",
              "      box-shadow: 0px 1px 2px rgba(60, 64, 67, 0.3), 0px 1px 3px 1px rgba(60, 64, 67, 0.15);\n",
              "      fill: #174EA6;\n",
              "    }\n",
              "\n",
              "    [theme=dark] .colab-df-convert {\n",
              "      background-color: #3B4455;\n",
              "      fill: #D2E3FC;\n",
              "    }\n",
              "\n",
              "    [theme=dark] .colab-df-convert:hover {\n",
              "      background-color: #434B5C;\n",
              "      box-shadow: 0px 1px 3px 1px rgba(0, 0, 0, 0.15);\n",
              "      filter: drop-shadow(0px 1px 2px rgba(0, 0, 0, 0.3));\n",
              "      fill: #FFFFFF;\n",
              "    }\n",
              "  </style>\n",
              "\n",
              "      <script>\n",
              "        const buttonEl =\n",
              "          document.querySelector('#df-86de86a9-4da3-499c-a02c-b2bdb438cab1 button.colab-df-convert');\n",
              "        buttonEl.style.display =\n",
              "          google.colab.kernel.accessAllowed ? 'block' : 'none';\n",
              "\n",
              "        async function convertToInteractive(key) {\n",
              "          const element = document.querySelector('#df-86de86a9-4da3-499c-a02c-b2bdb438cab1');\n",
              "          const dataTable =\n",
              "            await google.colab.kernel.invokeFunction('convertToInteractive',\n",
              "                                                     [key], {});\n",
              "          if (!dataTable) return;\n",
              "\n",
              "          const docLinkHtml = 'Like what you see? Visit the ' +\n",
              "            '<a target=\"_blank\" href=https://colab.research.google.com/notebooks/data_table.ipynb>data table notebook</a>'\n",
              "            + ' to learn more about interactive tables.';\n",
              "          element.innerHTML = '';\n",
              "          dataTable['output_type'] = 'display_data';\n",
              "          await google.colab.output.renderOutput(dataTable, element);\n",
              "          const docLink = document.createElement('div');\n",
              "          docLink.innerHTML = docLinkHtml;\n",
              "          element.appendChild(docLink);\n",
              "        }\n",
              "      </script>\n",
              "    </div>\n",
              "  </div>\n",
              "  "
            ]
          },
          "metadata": {},
          "execution_count": 15
        }
      ]
    },
    {
      "cell_type": "code",
      "source": [
        "test_data.head()"
      ],
      "metadata": {
        "colab": {
          "base_uri": "https://localhost:8080/",
          "height": 206
        },
        "id": "1n-x4vXzVQFr",
        "outputId": "5b094040-27f3-48a9-e4c7-183053928b5c"
      },
      "id": "1n-x4vXzVQFr",
      "execution_count": 16,
      "outputs": [
        {
          "output_type": "execute_result",
          "data": {
            "text/plain": [
              "   season  holiday  workingday  weather   temp   atemp  humidity  windspeed  \\\n",
              "0       1        0           1        1  10.66  11.365        56    26.0027   \n",
              "1       1        0           1        1  10.66  13.635        56     0.0000   \n",
              "2       1        0           1        1  10.66  13.635        56     0.0000   \n",
              "3       1        0           1        1  10.66  12.880        56    11.0014   \n",
              "4       1        0           1        1  10.66  12.880        56    11.0014   \n",
              "\n",
              "   year  month  dayofweek  hour  \n",
              "0  2011      1          3     0  \n",
              "1  2011      1          3     1  \n",
              "2  2011      1          3     2  \n",
              "3  2011      1          3     3  \n",
              "4  2011      1          3     4  "
            ],
            "text/html": [
              "\n",
              "  <div id=\"df-07f279a5-4f7a-4a5a-bd49-c835605f5512\">\n",
              "    <div class=\"colab-df-container\">\n",
              "      <div>\n",
              "<style scoped>\n",
              "    .dataframe tbody tr th:only-of-type {\n",
              "        vertical-align: middle;\n",
              "    }\n",
              "\n",
              "    .dataframe tbody tr th {\n",
              "        vertical-align: top;\n",
              "    }\n",
              "\n",
              "    .dataframe thead th {\n",
              "        text-align: right;\n",
              "    }\n",
              "</style>\n",
              "<table border=\"1\" class=\"dataframe\">\n",
              "  <thead>\n",
              "    <tr style=\"text-align: right;\">\n",
              "      <th></th>\n",
              "      <th>season</th>\n",
              "      <th>holiday</th>\n",
              "      <th>workingday</th>\n",
              "      <th>weather</th>\n",
              "      <th>temp</th>\n",
              "      <th>atemp</th>\n",
              "      <th>humidity</th>\n",
              "      <th>windspeed</th>\n",
              "      <th>year</th>\n",
              "      <th>month</th>\n",
              "      <th>dayofweek</th>\n",
              "      <th>hour</th>\n",
              "    </tr>\n",
              "  </thead>\n",
              "  <tbody>\n",
              "    <tr>\n",
              "      <th>0</th>\n",
              "      <td>1</td>\n",
              "      <td>0</td>\n",
              "      <td>1</td>\n",
              "      <td>1</td>\n",
              "      <td>10.66</td>\n",
              "      <td>11.365</td>\n",
              "      <td>56</td>\n",
              "      <td>26.0027</td>\n",
              "      <td>2011</td>\n",
              "      <td>1</td>\n",
              "      <td>3</td>\n",
              "      <td>0</td>\n",
              "    </tr>\n",
              "    <tr>\n",
              "      <th>1</th>\n",
              "      <td>1</td>\n",
              "      <td>0</td>\n",
              "      <td>1</td>\n",
              "      <td>1</td>\n",
              "      <td>10.66</td>\n",
              "      <td>13.635</td>\n",
              "      <td>56</td>\n",
              "      <td>0.0000</td>\n",
              "      <td>2011</td>\n",
              "      <td>1</td>\n",
              "      <td>3</td>\n",
              "      <td>1</td>\n",
              "    </tr>\n",
              "    <tr>\n",
              "      <th>2</th>\n",
              "      <td>1</td>\n",
              "      <td>0</td>\n",
              "      <td>1</td>\n",
              "      <td>1</td>\n",
              "      <td>10.66</td>\n",
              "      <td>13.635</td>\n",
              "      <td>56</td>\n",
              "      <td>0.0000</td>\n",
              "      <td>2011</td>\n",
              "      <td>1</td>\n",
              "      <td>3</td>\n",
              "      <td>2</td>\n",
              "    </tr>\n",
              "    <tr>\n",
              "      <th>3</th>\n",
              "      <td>1</td>\n",
              "      <td>0</td>\n",
              "      <td>1</td>\n",
              "      <td>1</td>\n",
              "      <td>10.66</td>\n",
              "      <td>12.880</td>\n",
              "      <td>56</td>\n",
              "      <td>11.0014</td>\n",
              "      <td>2011</td>\n",
              "      <td>1</td>\n",
              "      <td>3</td>\n",
              "      <td>3</td>\n",
              "    </tr>\n",
              "    <tr>\n",
              "      <th>4</th>\n",
              "      <td>1</td>\n",
              "      <td>0</td>\n",
              "      <td>1</td>\n",
              "      <td>1</td>\n",
              "      <td>10.66</td>\n",
              "      <td>12.880</td>\n",
              "      <td>56</td>\n",
              "      <td>11.0014</td>\n",
              "      <td>2011</td>\n",
              "      <td>1</td>\n",
              "      <td>3</td>\n",
              "      <td>4</td>\n",
              "    </tr>\n",
              "  </tbody>\n",
              "</table>\n",
              "</div>\n",
              "      <button class=\"colab-df-convert\" onclick=\"convertToInteractive('df-07f279a5-4f7a-4a5a-bd49-c835605f5512')\"\n",
              "              title=\"Convert this dataframe to an interactive table.\"\n",
              "              style=\"display:none;\">\n",
              "        \n",
              "  <svg xmlns=\"http://www.w3.org/2000/svg\" height=\"24px\"viewBox=\"0 0 24 24\"\n",
              "       width=\"24px\">\n",
              "    <path d=\"M0 0h24v24H0V0z\" fill=\"none\"/>\n",
              "    <path d=\"M18.56 5.44l.94 2.06.94-2.06 2.06-.94-2.06-.94-.94-2.06-.94 2.06-2.06.94zm-11 1L8.5 8.5l.94-2.06 2.06-.94-2.06-.94L8.5 2.5l-.94 2.06-2.06.94zm10 10l.94 2.06.94-2.06 2.06-.94-2.06-.94-.94-2.06-.94 2.06-2.06.94z\"/><path d=\"M17.41 7.96l-1.37-1.37c-.4-.4-.92-.59-1.43-.59-.52 0-1.04.2-1.43.59L10.3 9.45l-7.72 7.72c-.78.78-.78 2.05 0 2.83L4 21.41c.39.39.9.59 1.41.59.51 0 1.02-.2 1.41-.59l7.78-7.78 2.81-2.81c.8-.78.8-2.07 0-2.86zM5.41 20L4 18.59l7.72-7.72 1.47 1.35L5.41 20z\"/>\n",
              "  </svg>\n",
              "      </button>\n",
              "      \n",
              "  <style>\n",
              "    .colab-df-container {\n",
              "      display:flex;\n",
              "      flex-wrap:wrap;\n",
              "      gap: 12px;\n",
              "    }\n",
              "\n",
              "    .colab-df-convert {\n",
              "      background-color: #E8F0FE;\n",
              "      border: none;\n",
              "      border-radius: 50%;\n",
              "      cursor: pointer;\n",
              "      display: none;\n",
              "      fill: #1967D2;\n",
              "      height: 32px;\n",
              "      padding: 0 0 0 0;\n",
              "      width: 32px;\n",
              "    }\n",
              "\n",
              "    .colab-df-convert:hover {\n",
              "      background-color: #E2EBFA;\n",
              "      box-shadow: 0px 1px 2px rgba(60, 64, 67, 0.3), 0px 1px 3px 1px rgba(60, 64, 67, 0.15);\n",
              "      fill: #174EA6;\n",
              "    }\n",
              "\n",
              "    [theme=dark] .colab-df-convert {\n",
              "      background-color: #3B4455;\n",
              "      fill: #D2E3FC;\n",
              "    }\n",
              "\n",
              "    [theme=dark] .colab-df-convert:hover {\n",
              "      background-color: #434B5C;\n",
              "      box-shadow: 0px 1px 3px 1px rgba(0, 0, 0, 0.15);\n",
              "      filter: drop-shadow(0px 1px 2px rgba(0, 0, 0, 0.3));\n",
              "      fill: #FFFFFF;\n",
              "    }\n",
              "  </style>\n",
              "\n",
              "      <script>\n",
              "        const buttonEl =\n",
              "          document.querySelector('#df-07f279a5-4f7a-4a5a-bd49-c835605f5512 button.colab-df-convert');\n",
              "        buttonEl.style.display =\n",
              "          google.colab.kernel.accessAllowed ? 'block' : 'none';\n",
              "\n",
              "        async function convertToInteractive(key) {\n",
              "          const element = document.querySelector('#df-07f279a5-4f7a-4a5a-bd49-c835605f5512');\n",
              "          const dataTable =\n",
              "            await google.colab.kernel.invokeFunction('convertToInteractive',\n",
              "                                                     [key], {});\n",
              "          if (!dataTable) return;\n",
              "\n",
              "          const docLinkHtml = 'Like what you see? Visit the ' +\n",
              "            '<a target=\"_blank\" href=https://colab.research.google.com/notebooks/data_table.ipynb>data table notebook</a>'\n",
              "            + ' to learn more about interactive tables.';\n",
              "          element.innerHTML = '';\n",
              "          dataTable['output_type'] = 'display_data';\n",
              "          await google.colab.output.renderOutput(dataTable, element);\n",
              "          const docLink = document.createElement('div');\n",
              "          docLink.innerHTML = docLinkHtml;\n",
              "          element.appendChild(docLink);\n",
              "        }\n",
              "      </script>\n",
              "    </div>\n",
              "  </div>\n",
              "  "
            ]
          },
          "metadata": {},
          "execution_count": 16
        }
      ]
    },
    {
      "cell_type": "markdown",
      "source": [
        "### **2.2.2 Reordering Columns**"
      ],
      "metadata": {
        "id": "wwKU7TPsdGPG"
      },
      "id": "wwKU7TPsdGPG"
    },
    {
      "cell_type": "markdown",
      "source": [
        "Reordering train_data columns"
      ],
      "metadata": {
        "id": "JwFHwb7K1ySV"
      },
      "id": "JwFHwb7K1ySV"
    },
    {
      "cell_type": "code",
      "source": [
        "train_data.columns.values"
      ],
      "metadata": {
        "colab": {
          "base_uri": "https://localhost:8080/"
        },
        "id": "shF3MxJVdJzX",
        "outputId": "69eadbae-f134-4c1f-8d22-d96c34a2be2e"
      },
      "id": "shF3MxJVdJzX",
      "execution_count": 17,
      "outputs": [
        {
          "output_type": "execute_result",
          "data": {
            "text/plain": [
              "array(['season', 'holiday', 'workingday', 'weather', 'temp', 'atemp',\n",
              "       'humidity', 'windspeed', 'casual', 'registered', 'count', 'year',\n",
              "       'month', 'dayofweek', 'hour'], dtype=object)"
            ]
          },
          "metadata": {},
          "execution_count": 17
        }
      ]
    },
    {
      "cell_type": "code",
      "source": [
        "train_column_names_reordered = ['year', 'month', 'dayofweek', 'hour', 'season', 'holiday', 'workingday', 'weather', 'temp', 'atemp',\n",
        "       'humidity', 'windspeed', 'casual', 'registered', 'count']"
      ],
      "metadata": {
        "id": "eE1HiNYTdTN5"
      },
      "id": "eE1HiNYTdTN5",
      "execution_count": 18,
      "outputs": []
    },
    {
      "cell_type": "code",
      "source": [
        "train_data_ordered = train_data[train_column_names_reordered]\n",
        "train_data_ordered.head()"
      ],
      "metadata": {
        "colab": {
          "base_uri": "https://localhost:8080/",
          "height": 270
        },
        "id": "CeaoAteNdTHF",
        "outputId": "5fdcf5f3-70df-4e0d-abce-5ce2871d12b5"
      },
      "id": "CeaoAteNdTHF",
      "execution_count": 19,
      "outputs": [
        {
          "output_type": "execute_result",
          "data": {
            "text/plain": [
              "   year  month  dayofweek  hour  season  holiday  workingday  weather  temp  \\\n",
              "0  2011      1          5     0       1        0           0        1  9.84   \n",
              "1  2011      1          5     1       1        0           0        1  9.02   \n",
              "2  2011      1          5     2       1        0           0        1  9.02   \n",
              "3  2011      1          5     3       1        0           0        1  9.84   \n",
              "4  2011      1          5     4       1        0           0        1  9.84   \n",
              "\n",
              "    atemp  humidity  windspeed  casual  registered  count  \n",
              "0  14.395        81        0.0       3          13     16  \n",
              "1  13.635        80        0.0       8          32     40  \n",
              "2  13.635        80        0.0       5          27     32  \n",
              "3  14.395        75        0.0       3          10     13  \n",
              "4  14.395        75        0.0       0           1      1  "
            ],
            "text/html": [
              "\n",
              "  <div id=\"df-c9b466e2-7d2b-4f59-a26a-f0ec53166b7a\">\n",
              "    <div class=\"colab-df-container\">\n",
              "      <div>\n",
              "<style scoped>\n",
              "    .dataframe tbody tr th:only-of-type {\n",
              "        vertical-align: middle;\n",
              "    }\n",
              "\n",
              "    .dataframe tbody tr th {\n",
              "        vertical-align: top;\n",
              "    }\n",
              "\n",
              "    .dataframe thead th {\n",
              "        text-align: right;\n",
              "    }\n",
              "</style>\n",
              "<table border=\"1\" class=\"dataframe\">\n",
              "  <thead>\n",
              "    <tr style=\"text-align: right;\">\n",
              "      <th></th>\n",
              "      <th>year</th>\n",
              "      <th>month</th>\n",
              "      <th>dayofweek</th>\n",
              "      <th>hour</th>\n",
              "      <th>season</th>\n",
              "      <th>holiday</th>\n",
              "      <th>workingday</th>\n",
              "      <th>weather</th>\n",
              "      <th>temp</th>\n",
              "      <th>atemp</th>\n",
              "      <th>humidity</th>\n",
              "      <th>windspeed</th>\n",
              "      <th>casual</th>\n",
              "      <th>registered</th>\n",
              "      <th>count</th>\n",
              "    </tr>\n",
              "  </thead>\n",
              "  <tbody>\n",
              "    <tr>\n",
              "      <th>0</th>\n",
              "      <td>2011</td>\n",
              "      <td>1</td>\n",
              "      <td>5</td>\n",
              "      <td>0</td>\n",
              "      <td>1</td>\n",
              "      <td>0</td>\n",
              "      <td>0</td>\n",
              "      <td>1</td>\n",
              "      <td>9.84</td>\n",
              "      <td>14.395</td>\n",
              "      <td>81</td>\n",
              "      <td>0.0</td>\n",
              "      <td>3</td>\n",
              "      <td>13</td>\n",
              "      <td>16</td>\n",
              "    </tr>\n",
              "    <tr>\n",
              "      <th>1</th>\n",
              "      <td>2011</td>\n",
              "      <td>1</td>\n",
              "      <td>5</td>\n",
              "      <td>1</td>\n",
              "      <td>1</td>\n",
              "      <td>0</td>\n",
              "      <td>0</td>\n",
              "      <td>1</td>\n",
              "      <td>9.02</td>\n",
              "      <td>13.635</td>\n",
              "      <td>80</td>\n",
              "      <td>0.0</td>\n",
              "      <td>8</td>\n",
              "      <td>32</td>\n",
              "      <td>40</td>\n",
              "    </tr>\n",
              "    <tr>\n",
              "      <th>2</th>\n",
              "      <td>2011</td>\n",
              "      <td>1</td>\n",
              "      <td>5</td>\n",
              "      <td>2</td>\n",
              "      <td>1</td>\n",
              "      <td>0</td>\n",
              "      <td>0</td>\n",
              "      <td>1</td>\n",
              "      <td>9.02</td>\n",
              "      <td>13.635</td>\n",
              "      <td>80</td>\n",
              "      <td>0.0</td>\n",
              "      <td>5</td>\n",
              "      <td>27</td>\n",
              "      <td>32</td>\n",
              "    </tr>\n",
              "    <tr>\n",
              "      <th>3</th>\n",
              "      <td>2011</td>\n",
              "      <td>1</td>\n",
              "      <td>5</td>\n",
              "      <td>3</td>\n",
              "      <td>1</td>\n",
              "      <td>0</td>\n",
              "      <td>0</td>\n",
              "      <td>1</td>\n",
              "      <td>9.84</td>\n",
              "      <td>14.395</td>\n",
              "      <td>75</td>\n",
              "      <td>0.0</td>\n",
              "      <td>3</td>\n",
              "      <td>10</td>\n",
              "      <td>13</td>\n",
              "    </tr>\n",
              "    <tr>\n",
              "      <th>4</th>\n",
              "      <td>2011</td>\n",
              "      <td>1</td>\n",
              "      <td>5</td>\n",
              "      <td>4</td>\n",
              "      <td>1</td>\n",
              "      <td>0</td>\n",
              "      <td>0</td>\n",
              "      <td>1</td>\n",
              "      <td>9.84</td>\n",
              "      <td>14.395</td>\n",
              "      <td>75</td>\n",
              "      <td>0.0</td>\n",
              "      <td>0</td>\n",
              "      <td>1</td>\n",
              "      <td>1</td>\n",
              "    </tr>\n",
              "  </tbody>\n",
              "</table>\n",
              "</div>\n",
              "      <button class=\"colab-df-convert\" onclick=\"convertToInteractive('df-c9b466e2-7d2b-4f59-a26a-f0ec53166b7a')\"\n",
              "              title=\"Convert this dataframe to an interactive table.\"\n",
              "              style=\"display:none;\">\n",
              "        \n",
              "  <svg xmlns=\"http://www.w3.org/2000/svg\" height=\"24px\"viewBox=\"0 0 24 24\"\n",
              "       width=\"24px\">\n",
              "    <path d=\"M0 0h24v24H0V0z\" fill=\"none\"/>\n",
              "    <path d=\"M18.56 5.44l.94 2.06.94-2.06 2.06-.94-2.06-.94-.94-2.06-.94 2.06-2.06.94zm-11 1L8.5 8.5l.94-2.06 2.06-.94-2.06-.94L8.5 2.5l-.94 2.06-2.06.94zm10 10l.94 2.06.94-2.06 2.06-.94-2.06-.94-.94-2.06-.94 2.06-2.06.94z\"/><path d=\"M17.41 7.96l-1.37-1.37c-.4-.4-.92-.59-1.43-.59-.52 0-1.04.2-1.43.59L10.3 9.45l-7.72 7.72c-.78.78-.78 2.05 0 2.83L4 21.41c.39.39.9.59 1.41.59.51 0 1.02-.2 1.41-.59l7.78-7.78 2.81-2.81c.8-.78.8-2.07 0-2.86zM5.41 20L4 18.59l7.72-7.72 1.47 1.35L5.41 20z\"/>\n",
              "  </svg>\n",
              "      </button>\n",
              "      \n",
              "  <style>\n",
              "    .colab-df-container {\n",
              "      display:flex;\n",
              "      flex-wrap:wrap;\n",
              "      gap: 12px;\n",
              "    }\n",
              "\n",
              "    .colab-df-convert {\n",
              "      background-color: #E8F0FE;\n",
              "      border: none;\n",
              "      border-radius: 50%;\n",
              "      cursor: pointer;\n",
              "      display: none;\n",
              "      fill: #1967D2;\n",
              "      height: 32px;\n",
              "      padding: 0 0 0 0;\n",
              "      width: 32px;\n",
              "    }\n",
              "\n",
              "    .colab-df-convert:hover {\n",
              "      background-color: #E2EBFA;\n",
              "      box-shadow: 0px 1px 2px rgba(60, 64, 67, 0.3), 0px 1px 3px 1px rgba(60, 64, 67, 0.15);\n",
              "      fill: #174EA6;\n",
              "    }\n",
              "\n",
              "    [theme=dark] .colab-df-convert {\n",
              "      background-color: #3B4455;\n",
              "      fill: #D2E3FC;\n",
              "    }\n",
              "\n",
              "    [theme=dark] .colab-df-convert:hover {\n",
              "      background-color: #434B5C;\n",
              "      box-shadow: 0px 1px 3px 1px rgba(0, 0, 0, 0.15);\n",
              "      filter: drop-shadow(0px 1px 2px rgba(0, 0, 0, 0.3));\n",
              "      fill: #FFFFFF;\n",
              "    }\n",
              "  </style>\n",
              "\n",
              "      <script>\n",
              "        const buttonEl =\n",
              "          document.querySelector('#df-c9b466e2-7d2b-4f59-a26a-f0ec53166b7a button.colab-df-convert');\n",
              "        buttonEl.style.display =\n",
              "          google.colab.kernel.accessAllowed ? 'block' : 'none';\n",
              "\n",
              "        async function convertToInteractive(key) {\n",
              "          const element = document.querySelector('#df-c9b466e2-7d2b-4f59-a26a-f0ec53166b7a');\n",
              "          const dataTable =\n",
              "            await google.colab.kernel.invokeFunction('convertToInteractive',\n",
              "                                                     [key], {});\n",
              "          if (!dataTable) return;\n",
              "\n",
              "          const docLinkHtml = 'Like what you see? Visit the ' +\n",
              "            '<a target=\"_blank\" href=https://colab.research.google.com/notebooks/data_table.ipynb>data table notebook</a>'\n",
              "            + ' to learn more about interactive tables.';\n",
              "          element.innerHTML = '';\n",
              "          dataTable['output_type'] = 'display_data';\n",
              "          await google.colab.output.renderOutput(dataTable, element);\n",
              "          const docLink = document.createElement('div');\n",
              "          docLink.innerHTML = docLinkHtml;\n",
              "          element.appendChild(docLink);\n",
              "        }\n",
              "      </script>\n",
              "    </div>\n",
              "  </div>\n",
              "  "
            ]
          },
          "metadata": {},
          "execution_count": 19
        }
      ]
    },
    {
      "cell_type": "markdown",
      "source": [
        "Reordering test_data columns"
      ],
      "metadata": {
        "id": "Me0ABwNndr9B"
      },
      "id": "Me0ABwNndr9B"
    },
    {
      "cell_type": "code",
      "source": [
        "test_data.columns.values"
      ],
      "metadata": {
        "colab": {
          "base_uri": "https://localhost:8080/"
        },
        "id": "Q8SWAeabduNq",
        "outputId": "b35f723d-fc6c-4340-ba8a-f549777d47cb"
      },
      "id": "Q8SWAeabduNq",
      "execution_count": 20,
      "outputs": [
        {
          "output_type": "execute_result",
          "data": {
            "text/plain": [
              "array(['season', 'holiday', 'workingday', 'weather', 'temp', 'atemp',\n",
              "       'humidity', 'windspeed', 'year', 'month', 'dayofweek', 'hour'],\n",
              "      dtype=object)"
            ]
          },
          "metadata": {},
          "execution_count": 20
        }
      ]
    },
    {
      "cell_type": "code",
      "source": [
        "test_column_names_reordered = ['year', 'month', 'dayofweek', 'hour', 'season', 'holiday', 'workingday', 'weather', 'temp', 'atemp',\n",
        "       'humidity', 'windspeed']"
      ],
      "metadata": {
        "id": "17z38PVLduQM"
      },
      "id": "17z38PVLduQM",
      "execution_count": 21,
      "outputs": []
    },
    {
      "cell_type": "code",
      "source": [
        "test_data_ordered = test_data[test_column_names_reordered]\n",
        "test_data_ordered.head()"
      ],
      "metadata": {
        "colab": {
          "base_uri": "https://localhost:8080/",
          "height": 206
        },
        "id": "XE48fPSWduSk",
        "outputId": "b8e69fbb-3b92-4682-b308-c67ae0f65b69"
      },
      "id": "XE48fPSWduSk",
      "execution_count": 22,
      "outputs": [
        {
          "output_type": "execute_result",
          "data": {
            "text/plain": [
              "   year  month  dayofweek  hour  season  holiday  workingday  weather   temp  \\\n",
              "0  2011      1          3     0       1        0           1        1  10.66   \n",
              "1  2011      1          3     1       1        0           1        1  10.66   \n",
              "2  2011      1          3     2       1        0           1        1  10.66   \n",
              "3  2011      1          3     3       1        0           1        1  10.66   \n",
              "4  2011      1          3     4       1        0           1        1  10.66   \n",
              "\n",
              "    atemp  humidity  windspeed  \n",
              "0  11.365        56    26.0027  \n",
              "1  13.635        56     0.0000  \n",
              "2  13.635        56     0.0000  \n",
              "3  12.880        56    11.0014  \n",
              "4  12.880        56    11.0014  "
            ],
            "text/html": [
              "\n",
              "  <div id=\"df-58ec2edd-e80e-43b8-be59-58d1a7c83eeb\">\n",
              "    <div class=\"colab-df-container\">\n",
              "      <div>\n",
              "<style scoped>\n",
              "    .dataframe tbody tr th:only-of-type {\n",
              "        vertical-align: middle;\n",
              "    }\n",
              "\n",
              "    .dataframe tbody tr th {\n",
              "        vertical-align: top;\n",
              "    }\n",
              "\n",
              "    .dataframe thead th {\n",
              "        text-align: right;\n",
              "    }\n",
              "</style>\n",
              "<table border=\"1\" class=\"dataframe\">\n",
              "  <thead>\n",
              "    <tr style=\"text-align: right;\">\n",
              "      <th></th>\n",
              "      <th>year</th>\n",
              "      <th>month</th>\n",
              "      <th>dayofweek</th>\n",
              "      <th>hour</th>\n",
              "      <th>season</th>\n",
              "      <th>holiday</th>\n",
              "      <th>workingday</th>\n",
              "      <th>weather</th>\n",
              "      <th>temp</th>\n",
              "      <th>atemp</th>\n",
              "      <th>humidity</th>\n",
              "      <th>windspeed</th>\n",
              "    </tr>\n",
              "  </thead>\n",
              "  <tbody>\n",
              "    <tr>\n",
              "      <th>0</th>\n",
              "      <td>2011</td>\n",
              "      <td>1</td>\n",
              "      <td>3</td>\n",
              "      <td>0</td>\n",
              "      <td>1</td>\n",
              "      <td>0</td>\n",
              "      <td>1</td>\n",
              "      <td>1</td>\n",
              "      <td>10.66</td>\n",
              "      <td>11.365</td>\n",
              "      <td>56</td>\n",
              "      <td>26.0027</td>\n",
              "    </tr>\n",
              "    <tr>\n",
              "      <th>1</th>\n",
              "      <td>2011</td>\n",
              "      <td>1</td>\n",
              "      <td>3</td>\n",
              "      <td>1</td>\n",
              "      <td>1</td>\n",
              "      <td>0</td>\n",
              "      <td>1</td>\n",
              "      <td>1</td>\n",
              "      <td>10.66</td>\n",
              "      <td>13.635</td>\n",
              "      <td>56</td>\n",
              "      <td>0.0000</td>\n",
              "    </tr>\n",
              "    <tr>\n",
              "      <th>2</th>\n",
              "      <td>2011</td>\n",
              "      <td>1</td>\n",
              "      <td>3</td>\n",
              "      <td>2</td>\n",
              "      <td>1</td>\n",
              "      <td>0</td>\n",
              "      <td>1</td>\n",
              "      <td>1</td>\n",
              "      <td>10.66</td>\n",
              "      <td>13.635</td>\n",
              "      <td>56</td>\n",
              "      <td>0.0000</td>\n",
              "    </tr>\n",
              "    <tr>\n",
              "      <th>3</th>\n",
              "      <td>2011</td>\n",
              "      <td>1</td>\n",
              "      <td>3</td>\n",
              "      <td>3</td>\n",
              "      <td>1</td>\n",
              "      <td>0</td>\n",
              "      <td>1</td>\n",
              "      <td>1</td>\n",
              "      <td>10.66</td>\n",
              "      <td>12.880</td>\n",
              "      <td>56</td>\n",
              "      <td>11.0014</td>\n",
              "    </tr>\n",
              "    <tr>\n",
              "      <th>4</th>\n",
              "      <td>2011</td>\n",
              "      <td>1</td>\n",
              "      <td>3</td>\n",
              "      <td>4</td>\n",
              "      <td>1</td>\n",
              "      <td>0</td>\n",
              "      <td>1</td>\n",
              "      <td>1</td>\n",
              "      <td>10.66</td>\n",
              "      <td>12.880</td>\n",
              "      <td>56</td>\n",
              "      <td>11.0014</td>\n",
              "    </tr>\n",
              "  </tbody>\n",
              "</table>\n",
              "</div>\n",
              "      <button class=\"colab-df-convert\" onclick=\"convertToInteractive('df-58ec2edd-e80e-43b8-be59-58d1a7c83eeb')\"\n",
              "              title=\"Convert this dataframe to an interactive table.\"\n",
              "              style=\"display:none;\">\n",
              "        \n",
              "  <svg xmlns=\"http://www.w3.org/2000/svg\" height=\"24px\"viewBox=\"0 0 24 24\"\n",
              "       width=\"24px\">\n",
              "    <path d=\"M0 0h24v24H0V0z\" fill=\"none\"/>\n",
              "    <path d=\"M18.56 5.44l.94 2.06.94-2.06 2.06-.94-2.06-.94-.94-2.06-.94 2.06-2.06.94zm-11 1L8.5 8.5l.94-2.06 2.06-.94-2.06-.94L8.5 2.5l-.94 2.06-2.06.94zm10 10l.94 2.06.94-2.06 2.06-.94-2.06-.94-.94-2.06-.94 2.06-2.06.94z\"/><path d=\"M17.41 7.96l-1.37-1.37c-.4-.4-.92-.59-1.43-.59-.52 0-1.04.2-1.43.59L10.3 9.45l-7.72 7.72c-.78.78-.78 2.05 0 2.83L4 21.41c.39.39.9.59 1.41.59.51 0 1.02-.2 1.41-.59l7.78-7.78 2.81-2.81c.8-.78.8-2.07 0-2.86zM5.41 20L4 18.59l7.72-7.72 1.47 1.35L5.41 20z\"/>\n",
              "  </svg>\n",
              "      </button>\n",
              "      \n",
              "  <style>\n",
              "    .colab-df-container {\n",
              "      display:flex;\n",
              "      flex-wrap:wrap;\n",
              "      gap: 12px;\n",
              "    }\n",
              "\n",
              "    .colab-df-convert {\n",
              "      background-color: #E8F0FE;\n",
              "      border: none;\n",
              "      border-radius: 50%;\n",
              "      cursor: pointer;\n",
              "      display: none;\n",
              "      fill: #1967D2;\n",
              "      height: 32px;\n",
              "      padding: 0 0 0 0;\n",
              "      width: 32px;\n",
              "    }\n",
              "\n",
              "    .colab-df-convert:hover {\n",
              "      background-color: #E2EBFA;\n",
              "      box-shadow: 0px 1px 2px rgba(60, 64, 67, 0.3), 0px 1px 3px 1px rgba(60, 64, 67, 0.15);\n",
              "      fill: #174EA6;\n",
              "    }\n",
              "\n",
              "    [theme=dark] .colab-df-convert {\n",
              "      background-color: #3B4455;\n",
              "      fill: #D2E3FC;\n",
              "    }\n",
              "\n",
              "    [theme=dark] .colab-df-convert:hover {\n",
              "      background-color: #434B5C;\n",
              "      box-shadow: 0px 1px 3px 1px rgba(0, 0, 0, 0.15);\n",
              "      filter: drop-shadow(0px 1px 2px rgba(0, 0, 0, 0.3));\n",
              "      fill: #FFFFFF;\n",
              "    }\n",
              "  </style>\n",
              "\n",
              "      <script>\n",
              "        const buttonEl =\n",
              "          document.querySelector('#df-58ec2edd-e80e-43b8-be59-58d1a7c83eeb button.colab-df-convert');\n",
              "        buttonEl.style.display =\n",
              "          google.colab.kernel.accessAllowed ? 'block' : 'none';\n",
              "\n",
              "        async function convertToInteractive(key) {\n",
              "          const element = document.querySelector('#df-58ec2edd-e80e-43b8-be59-58d1a7c83eeb');\n",
              "          const dataTable =\n",
              "            await google.colab.kernel.invokeFunction('convertToInteractive',\n",
              "                                                     [key], {});\n",
              "          if (!dataTable) return;\n",
              "\n",
              "          const docLinkHtml = 'Like what you see? Visit the ' +\n",
              "            '<a target=\"_blank\" href=https://colab.research.google.com/notebooks/data_table.ipynb>data table notebook</a>'\n",
              "            + ' to learn more about interactive tables.';\n",
              "          element.innerHTML = '';\n",
              "          dataTable['output_type'] = 'display_data';\n",
              "          await google.colab.output.renderOutput(dataTable, element);\n",
              "          const docLink = document.createElement('div');\n",
              "          docLink.innerHTML = docLinkHtml;\n",
              "          element.appendChild(docLink);\n",
              "        }\n",
              "      </script>\n",
              "    </div>\n",
              "  </div>\n",
              "  "
            ]
          },
          "metadata": {},
          "execution_count": 22
        }
      ]
    },
    {
      "cell_type": "markdown",
      "source": [
        "## **2.3  Data Distribution Visualization - Part 2**"
      ],
      "metadata": {
        "id": "mYN4pN-1aTWh"
      },
      "id": "mYN4pN-1aTWh"
    },
    {
      "cell_type": "markdown",
      "source": [
        "### **2.3.1 Hourly Distribution**"
      ],
      "metadata": {
        "id": "PawucaCsahSa"
      },
      "id": "PawucaCsahSa"
    },
    {
      "cell_type": "code",
      "source": [
        "# seaborn boxplots across hours\n",
        "f, axes = plt.subplots(1, 1, figsize=(15, 6))\n",
        "sns.boxplot(data=train_data_ordered, y='count', x='hour', hue='workingday', ax=axes)\n",
        "handles, _ = axes.get_legend_handles_labels()\n",
        "axes.legend(handles, ['Not a Working Day', 'Working Day'])\n",
        "axes.set(title='Hourly Count based on Working day or not')\n",
        "\n",
        "plt.show()\n"
      ],
      "metadata": {
        "colab": {
          "base_uri": "https://localhost:8080/",
          "height": 410
        },
        "id": "Jrm0r70daqDd",
        "outputId": "3b520396-0c0e-4f54-bdcb-103b6f194d80"
      },
      "id": "Jrm0r70daqDd",
      "execution_count": 23,
      "outputs": [
        {
          "output_type": "display_data",
          "data": {
            "text/plain": [
              "<Figure size 1080x432 with 1 Axes>"
            ],
            "image/png": "[encoded data removed]"
          },
          "metadata": {}
        }
      ]
    },
    {
      "cell_type": "code",
      "source": [
        "# Plots of average count across hour in a day for various categories\n",
        "\n",
        "f, axes = plt.subplots(nrows=3, ncols=1, figsize=(15, 18))\n",
        "group_work_hour = pd.DataFrame(train_data_ordered.groupby(['workingday', 'hour'])['count'].mean()).reset_index()\n",
        "sns.pointplot(data=group_work_hour, x='hour', y='count', hue='workingday', ax=axes[0])\n",
        "handles, _ = axes[0].get_legend_handles_labels()\n",
        "axes[0].legend(handles, ['Not a Working Day', 'Working Day'])\n",
        "axes[0].set(xlabel='Hour in the day', ylabel='Count', title='Average Bike Rentals by the day if Working day or Not')\n",
        "\n",
        "hue_order= [0, 1, 2, 3, 4, 5, 6]\n",
        "group_day_hour = pd.DataFrame(train_data_ordered.groupby(['dayofweek', 'hour'])['count'].mean()).reset_index()\n",
        "sns.pointplot(data=group_day_hour, x='hour', y='count', hue='dayofweek', ax=axes[1], hue_order=hue_order)\n",
        "axes[1].set(xlabel='Hour in the day', ylabel='Count', title='Average Bike Rentals by the day across Weekdays')\n",
        "\n",
        "df_melt = pd.melt(frame=train_data_ordered, id_vars='hour', value_vars=['casual', 'registered'], value_name='count', var_name='casual_or_registered')\n",
        "group_casual_hour = pd.DataFrame(df_melt.groupby(['hour', 'casual_or_registered'])['count'].mean()).reset_index()\n",
        "sns.pointplot(data=group_casual_hour, x='hour', y='count', hue='casual_or_registered', ax=axes[2])\n",
        "axes[2].set(xlabel='Hour in the day', ylabel='Count', title='Average Bike Rentals by the day across Casual/Registered Users')\n",
        "\n",
        "plt.show()"
      ],
      "metadata": {
        "colab": {
          "base_uri": "https://localhost:8080/",
          "height": 1000
        },
        "id": "bEvtsqSfa8I0",
        "outputId": "8647eeb0-8715-4560-dbf1-2535c536a824"
      },
      "id": "bEvtsqSfa8I0",
      "execution_count": 24,
      "outputs": [
        {
          "output_type": "display_data",
          "data": {
            "text/plain": [
              "<Figure size 1080x1296 with 3 Axes>"
            ],
            "image/png": "[encoded data removed]"
          },
          "metadata": {}
        }
      ]
    },
    {
      "cell_type": "markdown",
      "source": [
        "### **2.3.2 Monthly Distribution**"
      ],
      "metadata": {
        "id": "UJcYcnkjan5V"
      },
      "id": "UJcYcnkjan5V"
    },
    {
      "cell_type": "code",
      "source": [
        "# Average Monthly Count Distribution plot\n",
        "f, axes = plt.subplots(nrows=1, ncols=1, figsize=(15, 6))\n",
        "group_month = pd.DataFrame(train_data_ordered.groupby(['month', 'workingday'])['count'].mean()).reset_index()\n",
        "sns.barplot(data=group_month, x='month', y='count', hue='workingday', ax=axes)\n",
        "axes.set(xlabel='Month', ylabel='Count', title='Average bike rentals per Month')\n",
        "handles, _ = axes.get_legend_handles_labels()\n",
        "axes.legend(handles, ['Not a Working Day', 'Working Day'])\n",
        "plt.show()"
      ],
      "metadata": {
        "colab": {
          "base_uri": "https://localhost:8080/",
          "height": 410
        },
        "id": "6F1XKI7Cbahq",
        "outputId": "bb1c204e-e653-498a-c49d-215a0c195d28"
      },
      "id": "6F1XKI7Cbahq",
      "execution_count": 25,
      "outputs": [
        {
          "output_type": "display_data",
          "data": {
            "text/plain": [
              "<Figure size 1080x432 with 1 Axes>"
            ],
            "image/png": "[encoded data removed]"
          },
          "metadata": {}
        }
      ]
    },
    {
      "cell_type": "markdown",
      "source": [
        "## **2.4  Outliers Analysis**"
      ],
      "metadata": {
        "id": "9JIOUbSnbwHK"
      },
      "id": "9JIOUbSnbwHK"
    },
    {
      "cell_type": "markdown",
      "source": [
        "### **2.4.1 Count**"
      ],
      "metadata": {
        "id": "IiE4XWTQb_La"
      },
      "id": "IiE4XWTQb_La"
    },
    {
      "cell_type": "code",
      "source": [
        "#boxplot of count\n",
        "sns.boxplot(x='count',data=train_data_ordered,color='mediumpurple')\n",
        "plt.show()"
      ],
      "metadata": {
        "colab": {
          "base_uri": "https://localhost:8080/",
          "height": 285
        },
        "id": "OZhS0n9scmV2",
        "outputId": "cc3b76a7-abf0-4850-965b-224a87d6314c"
      },
      "id": "OZhS0n9scmV2",
      "execution_count": 26,
      "outputs": [
        {
          "output_type": "display_data",
          "data": {
            "text/plain": [
              "<Figure size 432x288 with 1 Axes>"
            ],
            "image/png": "[encoded data removed]"
          },
          "metadata": {}
        }
      ]
    },
    {
      "cell_type": "code",
      "source": [
        "# Histogram of count\n",
        "sns.distplot(train_data_ordered['count'])"
      ],
      "metadata": {
        "colab": {
          "base_uri": "https://localhost:8080/",
          "height": 303
        },
        "id": "iuPnGlkOctIW",
        "outputId": "e08f8d43-93fd-4c43-b9c3-ddd2fc76b737"
      },
      "id": "iuPnGlkOctIW",
      "execution_count": 27,
      "outputs": [
        {
          "output_type": "execute_result",
          "data": {
            "text/plain": [
              "<Axes: xlabel='count', ylabel='Density'>"
            ]
          },
          "metadata": {},
          "execution_count": 27
        },
        {
          "output_type": "display_data",
          "data": {
            "text/plain": [
              "<Figure size 432x288 with 1 Axes>"
            ],
            "image/png": "[encoded data removed]"
          },
          "metadata": {}
        }
      ]
    },
    {
      "cell_type": "code",
      "source": [
        "# Transforming 'count' with a log transformation\n",
        "train_data_ordered['count'] = np.log1p(train_data_ordered['count'])"
      ],
      "metadata": {
        "id": "pn65gDolc1rE"
      },
      "id": "pn65gDolc1rE",
      "execution_count": 28,
      "outputs": []
    },
    {
      "cell_type": "code",
      "source": [
        "# Eliminate outliers\n",
        "\n",
        "train_data_ordered = train_data_ordered[np.abs(train_data_ordered['count'])-train_data_ordered['count'].mean() <=(3*train_data_ordered['count'].std())]\n",
        "train_data_ordered.info()"
      ],
      "metadata": {
        "colab": {
          "base_uri": "https://localhost:8080/"
        },
        "id": "M8oSc-GFejp5",
        "outputId": "b381e7b6-8d4c-4ac9-8d9c-e3b67211ae3f"
      },
      "id": "M8oSc-GFejp5",
      "execution_count": 29,
      "outputs": [
        {
          "output_type": "stream",
          "name": "stdout",
          "text": [
            "<class 'pandas.core.frame.DataFrame'>\n",
            "Int64Index: 10886 entries, 0 to 10885\n",
            "Data columns (total 15 columns):\n",
            " #   Column      Non-Null Count  Dtype  \n",
            "---  ------      --------------  -----  \n",
            " 0   year        10886 non-null  int64  \n",
            " 1   month       10886 non-null  int64  \n",
            " 2   dayofweek   10886 non-null  int64  \n",
            " 3   hour        10886 non-null  int64  \n",
            " 4   season      10886 non-null  int64  \n",
            " 5   holiday     10886 non-null  int64  \n",
            " 6   workingday  10886 non-null  int64  \n",
            " 7   weather     10886 non-null  int64  \n",
            " 8   temp        10886 non-null  float64\n",
            " 9   atemp       10886 non-null  float64\n",
            " 10  humidity    10886 non-null  int64  \n",
            " 11  windspeed   10886 non-null  float64\n",
            " 12  casual      10886 non-null  int64  \n",
            " 13  registered  10886 non-null  int64  \n",
            " 14  count       10886 non-null  float64\n",
            "dtypes: float64(4), int64(11)\n",
            "memory usage: 1.3 MB\n"
          ]
        }
      ]
    },
    {
      "cell_type": "markdown",
      "source": [
        "### **2.4.2 Eliminate Possible Outliers ('atemp', 'temp', 'windspeed', 'humidity')**"
      ],
      "metadata": {
        "id": "A4JVQvVHe4VM"
      },
      "id": "A4JVQvVHe4VM"
    },
    {
      "cell_type": "code",
      "source": [
        "possible_outlier_cols = ['atemp', 'temp', 'windspeed', 'humidity'] \n",
        "possible_outlier_cols"
      ],
      "metadata": {
        "colab": {
          "base_uri": "https://localhost:8080/"
        },
        "id": "O_j7csGyfHst",
        "outputId": "da7f9f92-9378-4675-f970-e120a38f6699"
      },
      "id": "O_j7csGyfHst",
      "execution_count": 30,
      "outputs": [
        {
          "output_type": "execute_result",
          "data": {
            "text/plain": [
              "['atemp', 'temp', 'windspeed', 'humidity']"
            ]
          },
          "metadata": {},
          "execution_count": 30
        }
      ]
    },
    {
      "cell_type": "code",
      "source": [
        "#Creating a boxplot to detect columns with outliers\n",
        "\n",
        "plt.figure(figsize=(15,7))\n",
        "\n",
        "for index,item in enumerate(possible_outlier_cols):\n",
        "    ax = plt.subplot(2, 4, index+1)\n",
        "    sns.boxplot(train_data_ordered[item], ax=ax)\n",
        "    ax.set_title(item)"
      ],
      "metadata": {
        "colab": {
          "base_uri": "https://localhost:8080/",
          "height": 239
        },
        "id": "3tezMf2QfLAH",
        "outputId": "43f5c7f3-378b-4931-ebff-40da4561e627"
      },
      "id": "3tezMf2QfLAH",
      "execution_count": 31,
      "outputs": [
        {
          "output_type": "display_data",
          "data": {
            "text/plain": [
              "<Figure size 1080x504 with 4 Axes>"
            ],
            "image/png": "[encoded data removed]"
          },
          "metadata": {}
        }
      ]
    },
    {
      "cell_type": "code",
      "source": [
        "#Finding the inter-quartile range for the columns with outliers\n",
        "Q1 = train_data_ordered[possible_outlier_cols].quantile(0.25)\n",
        "Q3 = train_data_ordered[possible_outlier_cols].quantile(0.75)\n",
        "IQR = Q3-Q1\n",
        "IQR"
      ],
      "metadata": {
        "colab": {
          "base_uri": "https://localhost:8080/"
        },
        "id": "lsh5fVcmfa9C",
        "outputId": "962aaf76-1ce6-4e15-d123-29e74f2f576f"
      },
      "id": "lsh5fVcmfa9C",
      "execution_count": 32,
      "outputs": [
        {
          "output_type": "execute_result",
          "data": {
            "text/plain": [
              "atemp        14.3950\n",
              "temp         12.3000\n",
              "windspeed     9.9964\n",
              "humidity     30.0000\n",
              "dtype: float64"
            ]
          },
          "metadata": {},
          "execution_count": 32
        }
      ]
    },
    {
      "cell_type": "code",
      "source": [
        "#Calculating the upper and lower fence for outlier removal\n",
        "u_fence = Q3 + (1.5*IQR)\n",
        "l_fence = Q1 - (1.5*IQR)"
      ],
      "metadata": {
        "id": "g2oBwb9BfnvZ"
      },
      "id": "g2oBwb9BfnvZ",
      "execution_count": 33,
      "outputs": []
    },
    {
      "cell_type": "code",
      "source": [
        "#Detecting and removing the outliers\n",
        "train_data_ordered[possible_outlier_cols] = train_data_ordered[possible_outlier_cols][~((train_data_ordered[possible_outlier_cols] < l_fence) | (train_data_ordered[possible_outlier_cols] > u_fence))]"
      ],
      "metadata": {
        "id": "wrJxarLHfrq2"
      },
      "id": "wrJxarLHfrq2",
      "execution_count": 34,
      "outputs": []
    },
    {
      "cell_type": "code",
      "source": [
        "#Checking the number of outliers deleted\n",
        "train_data_ordered.info()"
      ],
      "metadata": {
        "colab": {
          "base_uri": "https://localhost:8080/"
        },
        "id": "WMlOpMB9f0QQ",
        "outputId": "6137b8c5-da58-48aa-e400-e792945d954a"
      },
      "id": "WMlOpMB9f0QQ",
      "execution_count": 35,
      "outputs": [
        {
          "output_type": "stream",
          "name": "stdout",
          "text": [
            "<class 'pandas.core.frame.DataFrame'>\n",
            "Int64Index: 10886 entries, 0 to 10885\n",
            "Data columns (total 15 columns):\n",
            " #   Column      Non-Null Count  Dtype  \n",
            "---  ------      --------------  -----  \n",
            " 0   year        10886 non-null  int64  \n",
            " 1   month       10886 non-null  int64  \n",
            " 2   dayofweek   10886 non-null  int64  \n",
            " 3   hour        10886 non-null  int64  \n",
            " 4   season      10886 non-null  int64  \n",
            " 5   holiday     10886 non-null  int64  \n",
            " 6   workingday  10886 non-null  int64  \n",
            " 7   weather     10886 non-null  int64  \n",
            " 8   temp        10886 non-null  float64\n",
            " 9   atemp       10886 non-null  float64\n",
            " 10  humidity    10864 non-null  float64\n",
            " 11  windspeed   10659 non-null  float64\n",
            " 12  casual      10886 non-null  int64  \n",
            " 13  registered  10886 non-null  int64  \n",
            " 14  count       10886 non-null  float64\n",
            "dtypes: float64(5), int64(10)\n",
            "memory usage: 1.6 MB\n"
          ]
        }
      ]
    },
    {
      "cell_type": "markdown",
      "source": [
        "As a result of removing outliers, four columns now contain null values. We have two options: either delete the observations with null values or replace them with meaningful values. I will opt for the latter and replace the null values with the median value of each column instead of the mean, as mean is more sensitive to outliers, while the median is not."
      ],
      "metadata": {
        "id": "w1V7uAmFf52Y"
      },
      "id": "w1V7uAmFf52Y"
    },
    {
      "cell_type": "code",
      "source": [
        "#Creating a function to impute the null values created by outlier handling\n",
        "def impute_null(possible_outlier_cols):\n",
        "  for col in possible_outlier_cols:\n",
        "    train_data_ordered[col].fillna(train_data_ordered[col].median(),inplace=True)"
      ],
      "metadata": {
        "id": "JB8bB05DgPGz"
      },
      "id": "JB8bB05DgPGz",
      "execution_count": 36,
      "outputs": []
    },
    {
      "cell_type": "code",
      "source": [
        "#Calling the imputing function\n",
        "impute_null(possible_outlier_cols)"
      ],
      "metadata": {
        "id": "NMpwXUm5gPOs"
      },
      "id": "NMpwXUm5gPOs",
      "execution_count": 37,
      "outputs": []
    },
    {
      "cell_type": "code",
      "source": [
        "#Checking if the imputation is successful\n",
        "train_data_ordered.info()"
      ],
      "metadata": {
        "colab": {
          "base_uri": "https://localhost:8080/"
        },
        "id": "I2hnTNKOgbCk",
        "outputId": "50a7506e-8df2-472a-9ae6-2faf303c137b"
      },
      "id": "I2hnTNKOgbCk",
      "execution_count": 38,
      "outputs": [
        {
          "output_type": "stream",
          "name": "stdout",
          "text": [
            "<class 'pandas.core.frame.DataFrame'>\n",
            "Int64Index: 10886 entries, 0 to 10885\n",
            "Data columns (total 15 columns):\n",
            " #   Column      Non-Null Count  Dtype  \n",
            "---  ------      --------------  -----  \n",
            " 0   year        10886 non-null  int64  \n",
            " 1   month       10886 non-null  int64  \n",
            " 2   dayofweek   10886 non-null  int64  \n",
            " 3   hour        10886 non-null  int64  \n",
            " 4   season      10886 non-null  int64  \n",
            " 5   holiday     10886 non-null  int64  \n",
            " 6   workingday  10886 non-null  int64  \n",
            " 7   weather     10886 non-null  int64  \n",
            " 8   temp        10886 non-null  float64\n",
            " 9   atemp       10886 non-null  float64\n",
            " 10  humidity    10886 non-null  float64\n",
            " 11  windspeed   10886 non-null  float64\n",
            " 12  casual      10886 non-null  int64  \n",
            " 13  registered  10886 non-null  int64  \n",
            " 14  count       10886 non-null  float64\n",
            "dtypes: float64(5), int64(10)\n",
            "memory usage: 1.6 MB\n"
          ]
        }
      ]
    },
    {
      "cell_type": "markdown",
      "source": [
        "## **2.5  Correlation Analysis**"
      ],
      "metadata": {
        "id": "c_ONzfh4gnsD"
      },
      "id": "c_ONzfh4gnsD"
    },
    {
      "cell_type": "code",
      "source": [
        "# Correlation between each features\n",
        "\n",
        "plt.figure(figsize=(15,15))\n",
        "sns.heatmap(train_data_ordered.corr('pearson'), vmin=-1, vmax=1, cmap='coolwarm', annot=True, square=True)"
      ],
      "metadata": {
        "colab": {
          "base_uri": "https://localhost:8080/",
          "height": 874
        },
        "id": "j1XA80sHgmfg",
        "outputId": "32bca994-6154-417e-d131-18823affb1b1"
      },
      "id": "j1XA80sHgmfg",
      "execution_count": 39,
      "outputs": [
        {
          "output_type": "execute_result",
          "data": {
            "text/plain": [
              "<Axes: >"
            ]
          },
          "metadata": {},
          "execution_count": 39
        },
        {
          "output_type": "display_data",
          "data": {
            "text/plain": [
              "<Figure size 1080x1080 with 2 Axes>"
            ],
            "image/png": "[encoded data removed]"
          },
          "metadata": {}
        }
      ]
    },
    {
      "cell_type": "markdown",
      "source": [
        "Based on the heatmap shown above, we can draw the following conclusions:\n",
        "\n",
        "* As expected, there is a high correlation between temp and atemp.\n",
        "* Also, as expected, there is a high correlation between count and casual, as well as registered, since count is equal to the sum of casual and registered.\n",
        "* We observe a positive correlation between count and temp (as indicated by the regplot), but this may only be true within the range of temperatures provided.\n",
        "* Conversely, we see a negative correlation between count and humidity. This implies that people may be less likely to bike when humidity is high.\n",
        "* There appears to be little correlation between humidity and temperature.\n",
        "* Finally, windspeed has a weak effect on count, indicating that it has little influence on the number of people who choose to bike."
      ],
      "metadata": {
        "id": "0RxOk1XNhVgL"
      },
      "id": "0RxOk1XNhVgL"
    },
    {
      "cell_type": "markdown",
      "source": [
        "## **2.6  Feature Engineering - Part 2**"
      ],
      "metadata": {
        "id": "28-0eiQIXtFU"
      },
      "id": "28-0eiQIXtFU"
    },
    {
      "cell_type": "markdown",
      "source": [
        "### **2.6.1 Dropping Columns (casual and registered)**"
      ],
      "metadata": {
        "id": "aH_pDV70eqIT"
      },
      "id": "aH_pDV70eqIT"
    },
    {
      "cell_type": "code",
      "source": [
        "train_data_dropped = train_data_ordered.drop(['casual', 'registered'], axis = 1)\n",
        "test_data_dropped = test_data_ordered.copy()"
      ],
      "metadata": {
        "id": "PVkBTElWVpCf"
      },
      "id": "PVkBTElWVpCf",
      "execution_count": 40,
      "outputs": []
    },
    {
      "cell_type": "code",
      "source": [
        "train_data_dropped.head()"
      ],
      "metadata": {
        "colab": {
          "base_uri": "https://localhost:8080/",
          "height": 206
        },
        "id": "9dYvX6MsOeCe",
        "outputId": "3cf5d8eb-a245-4c3a-fff0-ceb22d2d17c0"
      },
      "id": "9dYvX6MsOeCe",
      "execution_count": 41,
      "outputs": [
        {
          "output_type": "execute_result",
          "data": {
            "text/plain": [
              "   year  month  dayofweek  hour  season  holiday  workingday  weather  temp  \\\n",
              "0  2011      1          5     0       1        0           0        1  9.84   \n",
              "1  2011      1          5     1       1        0           0        1  9.02   \n",
              "2  2011      1          5     2       1        0           0        1  9.02   \n",
              "3  2011      1          5     3       1        0           0        1  9.84   \n",
              "4  2011      1          5     4       1        0           0        1  9.84   \n",
              "\n",
              "    atemp  humidity  windspeed     count  \n",
              "0  14.395      81.0        0.0  2.833213  \n",
              "1  13.635      80.0        0.0  3.713572  \n",
              "2  13.635      80.0        0.0  3.496508  \n",
              "3  14.395      75.0        0.0  2.639057  \n",
              "4  14.395      75.0        0.0  0.693147  "
            ],
            "text/html": [
              "\n",
              "  <div id=\"df-9be04c1c-82dc-48b0-8bbf-70548d22b386\">\n",
              "    <div class=\"colab-df-container\">\n",
              "      <div>\n",
              "<style scoped>\n",
              "    .dataframe tbody tr th:only-of-type {\n",
              "        vertical-align: middle;\n",
              "    }\n",
              "\n",
              "    .dataframe tbody tr th {\n",
              "        vertical-align: top;\n",
              "    }\n",
              "\n",
              "    .dataframe thead th {\n",
              "        text-align: right;\n",
              "    }\n",
              "</style>\n",
              "<table border=\"1\" class=\"dataframe\">\n",
              "  <thead>\n",
              "    <tr style=\"text-align: right;\">\n",
              "      <th></th>\n",
              "      <th>year</th>\n",
              "      <th>month</th>\n",
              "      <th>dayofweek</th>\n",
              "      <th>hour</th>\n",
              "      <th>season</th>\n",
              "      <th>holiday</th>\n",
              "      <th>workingday</th>\n",
              "      <th>weather</th>\n",
              "      <th>temp</th>\n",
              "      <th>atemp</th>\n",
              "      <th>humidity</th>\n",
              "      <th>windspeed</th>\n",
              "      <th>count</th>\n",
              "    </tr>\n",
              "  </thead>\n",
              "  <tbody>\n",
              "    <tr>\n",
              "      <th>0</th>\n",
              "      <td>2011</td>\n",
              "      <td>1</td>\n",
              "      <td>5</td>\n",
              "      <td>0</td>\n",
              "      <td>1</td>\n",
              "      <td>0</td>\n",
              "      <td>0</td>\n",
              "      <td>1</td>\n",
              "      <td>9.84</td>\n",
              "      <td>14.395</td>\n",
              "      <td>81.0</td>\n",
              "      <td>0.0</td>\n",
              "      <td>2.833213</td>\n",
              "    </tr>\n",
              "    <tr>\n",
              "      <th>1</th>\n",
              "      <td>2011</td>\n",
              "      <td>1</td>\n",
              "      <td>5</td>\n",
              "      <td>1</td>\n",
              "      <td>1</td>\n",
              "      <td>0</td>\n",
              "      <td>0</td>\n",
              "      <td>1</td>\n",
              "      <td>9.02</td>\n",
              "      <td>13.635</td>\n",
              "      <td>80.0</td>\n",
              "      <td>0.0</td>\n",
              "      <td>3.713572</td>\n",
              "    </tr>\n",
              "    <tr>\n",
              "      <th>2</th>\n",
              "      <td>2011</td>\n",
              "      <td>1</td>\n",
              "      <td>5</td>\n",
              "      <td>2</td>\n",
              "      <td>1</td>\n",
              "      <td>0</td>\n",
              "      <td>0</td>\n",
              "      <td>1</td>\n",
              "      <td>9.02</td>\n",
              "      <td>13.635</td>\n",
              "      <td>80.0</td>\n",
              "      <td>0.0</td>\n",
              "      <td>3.496508</td>\n",
              "    </tr>\n",
              "    <tr>\n",
              "      <th>3</th>\n",
              "      <td>2011</td>\n",
              "      <td>1</td>\n",
              "      <td>5</td>\n",
              "      <td>3</td>\n",
              "      <td>1</td>\n",
              "      <td>0</td>\n",
              "      <td>0</td>\n",
              "      <td>1</td>\n",
              "      <td>9.84</td>\n",
              "      <td>14.395</td>\n",
              "      <td>75.0</td>\n",
              "      <td>0.0</td>\n",
              "      <td>2.639057</td>\n",
              "    </tr>\n",
              "    <tr>\n",
              "      <th>4</th>\n",
              "      <td>2011</td>\n",
              "      <td>1</td>\n",
              "      <td>5</td>\n",
              "      <td>4</td>\n",
              "      <td>1</td>\n",
              "      <td>0</td>\n",
              "      <td>0</td>\n",
              "      <td>1</td>\n",
              "      <td>9.84</td>\n",
              "      <td>14.395</td>\n",
              "      <td>75.0</td>\n",
              "      <td>0.0</td>\n",
              "      <td>0.693147</td>\n",
              "    </tr>\n",
              "  </tbody>\n",
              "</table>\n",
              "</div>\n",
              "      <button class=\"colab-df-convert\" onclick=\"convertToInteractive('df-9be04c1c-82dc-48b0-8bbf-70548d22b386')\"\n",
              "              title=\"Convert this dataframe to an interactive table.\"\n",
              "              style=\"display:none;\">\n",
              "        \n",
              "  <svg xmlns=\"http://www.w3.org/2000/svg\" height=\"24px\"viewBox=\"0 0 24 24\"\n",
              "       width=\"24px\">\n",
              "    <path d=\"M0 0h24v24H0V0z\" fill=\"none\"/>\n",
              "    <path d=\"M18.56 5.44l.94 2.06.94-2.06 2.06-.94-2.06-.94-.94-2.06-.94 2.06-2.06.94zm-11 1L8.5 8.5l.94-2.06 2.06-.94-2.06-.94L8.5 2.5l-.94 2.06-2.06.94zm10 10l.94 2.06.94-2.06 2.06-.94-2.06-.94-.94-2.06-.94 2.06-2.06.94z\"/><path d=\"M17.41 7.96l-1.37-1.37c-.4-.4-.92-.59-1.43-.59-.52 0-1.04.2-1.43.59L10.3 9.45l-7.72 7.72c-.78.78-.78 2.05 0 2.83L4 21.41c.39.39.9.59 1.41.59.51 0 1.02-.2 1.41-.59l7.78-7.78 2.81-2.81c.8-.78.8-2.07 0-2.86zM5.41 20L4 18.59l7.72-7.72 1.47 1.35L5.41 20z\"/>\n",
              "  </svg>\n",
              "      </button>\n",
              "      \n",
              "  <style>\n",
              "    .colab-df-container {\n",
              "      display:flex;\n",
              "      flex-wrap:wrap;\n",
              "      gap: 12px;\n",
              "    }\n",
              "\n",
              "    .colab-df-convert {\n",
              "      background-color: #E8F0FE;\n",
              "      border: none;\n",
              "      border-radius: 50%;\n",
              "      cursor: pointer;\n",
              "      display: none;\n",
              "      fill: #1967D2;\n",
              "      height: 32px;\n",
              "      padding: 0 0 0 0;\n",
              "      width: 32px;\n",
              "    }\n",
              "\n",
              "    .colab-df-convert:hover {\n",
              "      background-color: #E2EBFA;\n",
              "      box-shadow: 0px 1px 2px rgba(60, 64, 67, 0.3), 0px 1px 3px 1px rgba(60, 64, 67, 0.15);\n",
              "      fill: #174EA6;\n",
              "    }\n",
              "\n",
              "    [theme=dark] .colab-df-convert {\n",
              "      background-color: #3B4455;\n",
              "      fill: #D2E3FC;\n",
              "    }\n",
              "\n",
              "    [theme=dark] .colab-df-convert:hover {\n",
              "      background-color: #434B5C;\n",
              "      box-shadow: 0px 1px 3px 1px rgba(0, 0, 0, 0.15);\n",
              "      filter: drop-shadow(0px 1px 2px rgba(0, 0, 0, 0.3));\n",
              "      fill: #FFFFFF;\n",
              "    }\n",
              "  </style>\n",
              "\n",
              "      <script>\n",
              "        const buttonEl =\n",
              "          document.querySelector('#df-9be04c1c-82dc-48b0-8bbf-70548d22b386 button.colab-df-convert');\n",
              "        buttonEl.style.display =\n",
              "          google.colab.kernel.accessAllowed ? 'block' : 'none';\n",
              "\n",
              "        async function convertToInteractive(key) {\n",
              "          const element = document.querySelector('#df-9be04c1c-82dc-48b0-8bbf-70548d22b386');\n",
              "          const dataTable =\n",
              "            await google.colab.kernel.invokeFunction('convertToInteractive',\n",
              "                                                     [key], {});\n",
              "          if (!dataTable) return;\n",
              "\n",
              "          const docLinkHtml = 'Like what you see? Visit the ' +\n",
              "            '<a target=\"_blank\" href=https://colab.research.google.com/notebooks/data_table.ipynb>data table notebook</a>'\n",
              "            + ' to learn more about interactive tables.';\n",
              "          element.innerHTML = '';\n",
              "          dataTable['output_type'] = 'display_data';\n",
              "          await google.colab.output.renderOutput(dataTable, element);\n",
              "          const docLink = document.createElement('div');\n",
              "          docLink.innerHTML = docLinkHtml;\n",
              "          element.appendChild(docLink);\n",
              "        }\n",
              "      </script>\n",
              "    </div>\n",
              "  </div>\n",
              "  "
            ]
          },
          "metadata": {},
          "execution_count": 41
        }
      ]
    },
    {
      "cell_type": "code",
      "source": [
        "test_data_dropped.head()"
      ],
      "metadata": {
        "colab": {
          "base_uri": "https://localhost:8080/",
          "height": 206
        },
        "id": "sKxX8C34V8Uz",
        "outputId": "d4d5419e-8cab-4eec-a921-924fa7e4a40b"
      },
      "id": "sKxX8C34V8Uz",
      "execution_count": 42,
      "outputs": [
        {
          "output_type": "execute_result",
          "data": {
            "text/plain": [
              "   year  month  dayofweek  hour  season  holiday  workingday  weather   temp  \\\n",
              "0  2011      1          3     0       1        0           1        1  10.66   \n",
              "1  2011      1          3     1       1        0           1        1  10.66   \n",
              "2  2011      1          3     2       1        0           1        1  10.66   \n",
              "3  2011      1          3     3       1        0           1        1  10.66   \n",
              "4  2011      1          3     4       1        0           1        1  10.66   \n",
              "\n",
              "    atemp  humidity  windspeed  \n",
              "0  11.365        56    26.0027  \n",
              "1  13.635        56     0.0000  \n",
              "2  13.635        56     0.0000  \n",
              "3  12.880        56    11.0014  \n",
              "4  12.880        56    11.0014  "
            ],
            "text/html": [
              "\n",
              "  <div id=\"df-e53419ac-8efe-4690-9907-ba04314848c3\">\n",
              "    <div class=\"colab-df-container\">\n",
              "      <div>\n",
              "<style scoped>\n",
              "    .dataframe tbody tr th:only-of-type {\n",
              "        vertical-align: middle;\n",
              "    }\n",
              "\n",
              "    .dataframe tbody tr th {\n",
              "        vertical-align: top;\n",
              "    }\n",
              "\n",
              "    .dataframe thead th {\n",
              "        text-align: right;\n",
              "    }\n",
              "</style>\n",
              "<table border=\"1\" class=\"dataframe\">\n",
              "  <thead>\n",
              "    <tr style=\"text-align: right;\">\n",
              "      <th></th>\n",
              "      <th>year</th>\n",
              "      <th>month</th>\n",
              "      <th>dayofweek</th>\n",
              "      <th>hour</th>\n",
              "      <th>season</th>\n",
              "      <th>holiday</th>\n",
              "      <th>workingday</th>\n",
              "      <th>weather</th>\n",
              "      <th>temp</th>\n",
              "      <th>atemp</th>\n",
              "      <th>humidity</th>\n",
              "      <th>windspeed</th>\n",
              "    </tr>\n",
              "  </thead>\n",
              "  <tbody>\n",
              "    <tr>\n",
              "      <th>0</th>\n",
              "      <td>2011</td>\n",
              "      <td>1</td>\n",
              "      <td>3</td>\n",
              "      <td>0</td>\n",
              "      <td>1</td>\n",
              "      <td>0</td>\n",
              "      <td>1</td>\n",
              "      <td>1</td>\n",
              "      <td>10.66</td>\n",
              "      <td>11.365</td>\n",
              "      <td>56</td>\n",
              "      <td>26.0027</td>\n",
              "    </tr>\n",
              "    <tr>\n",
              "      <th>1</th>\n",
              "      <td>2011</td>\n",
              "      <td>1</td>\n",
              "      <td>3</td>\n",
              "      <td>1</td>\n",
              "      <td>1</td>\n",
              "      <td>0</td>\n",
              "      <td>1</td>\n",
              "      <td>1</td>\n",
              "      <td>10.66</td>\n",
              "      <td>13.635</td>\n",
              "      <td>56</td>\n",
              "      <td>0.0000</td>\n",
              "    </tr>\n",
              "    <tr>\n",
              "      <th>2</th>\n",
              "      <td>2011</td>\n",
              "      <td>1</td>\n",
              "      <td>3</td>\n",
              "      <td>2</td>\n",
              "      <td>1</td>\n",
              "      <td>0</td>\n",
              "      <td>1</td>\n",
              "      <td>1</td>\n",
              "      <td>10.66</td>\n",
              "      <td>13.635</td>\n",
              "      <td>56</td>\n",
              "      <td>0.0000</td>\n",
              "    </tr>\n",
              "    <tr>\n",
              "      <th>3</th>\n",
              "      <td>2011</td>\n",
              "      <td>1</td>\n",
              "      <td>3</td>\n",
              "      <td>3</td>\n",
              "      <td>1</td>\n",
              "      <td>0</td>\n",
              "      <td>1</td>\n",
              "      <td>1</td>\n",
              "      <td>10.66</td>\n",
              "      <td>12.880</td>\n",
              "      <td>56</td>\n",
              "      <td>11.0014</td>\n",
              "    </tr>\n",
              "    <tr>\n",
              "      <th>4</th>\n",
              "      <td>2011</td>\n",
              "      <td>1</td>\n",
              "      <td>3</td>\n",
              "      <td>4</td>\n",
              "      <td>1</td>\n",
              "      <td>0</td>\n",
              "      <td>1</td>\n",
              "      <td>1</td>\n",
              "      <td>10.66</td>\n",
              "      <td>12.880</td>\n",
              "      <td>56</td>\n",
              "      <td>11.0014</td>\n",
              "    </tr>\n",
              "  </tbody>\n",
              "</table>\n",
              "</div>\n",
              "      <button class=\"colab-df-convert\" onclick=\"convertToInteractive('df-e53419ac-8efe-4690-9907-ba04314848c3')\"\n",
              "              title=\"Convert this dataframe to an interactive table.\"\n",
              "              style=\"display:none;\">\n",
              "        \n",
              "  <svg xmlns=\"http://www.w3.org/2000/svg\" height=\"24px\"viewBox=\"0 0 24 24\"\n",
              "       width=\"24px\">\n",
              "    <path d=\"M0 0h24v24H0V0z\" fill=\"none\"/>\n",
              "    <path d=\"M18.56 5.44l.94 2.06.94-2.06 2.06-.94-2.06-.94-.94-2.06-.94 2.06-2.06.94zm-11 1L8.5 8.5l.94-2.06 2.06-.94-2.06-.94L8.5 2.5l-.94 2.06-2.06.94zm10 10l.94 2.06.94-2.06 2.06-.94-2.06-.94-.94-2.06-.94 2.06-2.06.94z\"/><path d=\"M17.41 7.96l-1.37-1.37c-.4-.4-.92-.59-1.43-.59-.52 0-1.04.2-1.43.59L10.3 9.45l-7.72 7.72c-.78.78-.78 2.05 0 2.83L4 21.41c.39.39.9.59 1.41.59.51 0 1.02-.2 1.41-.59l7.78-7.78 2.81-2.81c.8-.78.8-2.07 0-2.86zM5.41 20L4 18.59l7.72-7.72 1.47 1.35L5.41 20z\"/>\n",
              "  </svg>\n",
              "      </button>\n",
              "      \n",
              "  <style>\n",
              "    .colab-df-container {\n",
              "      display:flex;\n",
              "      flex-wrap:wrap;\n",
              "      gap: 12px;\n",
              "    }\n",
              "\n",
              "    .colab-df-convert {\n",
              "      background-color: #E8F0FE;\n",
              "      border: none;\n",
              "      border-radius: 50%;\n",
              "      cursor: pointer;\n",
              "      display: none;\n",
              "      fill: #1967D2;\n",
              "      height: 32px;\n",
              "      padding: 0 0 0 0;\n",
              "      width: 32px;\n",
              "    }\n",
              "\n",
              "    .colab-df-convert:hover {\n",
              "      background-color: #E2EBFA;\n",
              "      box-shadow: 0px 1px 2px rgba(60, 64, 67, 0.3), 0px 1px 3px 1px rgba(60, 64, 67, 0.15);\n",
              "      fill: #174EA6;\n",
              "    }\n",
              "\n",
              "    [theme=dark] .colab-df-convert {\n",
              "      background-color: #3B4455;\n",
              "      fill: #D2E3FC;\n",
              "    }\n",
              "\n",
              "    [theme=dark] .colab-df-convert:hover {\n",
              "      background-color: #434B5C;\n",
              "      box-shadow: 0px 1px 3px 1px rgba(0, 0, 0, 0.15);\n",
              "      filter: drop-shadow(0px 1px 2px rgba(0, 0, 0, 0.3));\n",
              "      fill: #FFFFFF;\n",
              "    }\n",
              "  </style>\n",
              "\n",
              "      <script>\n",
              "        const buttonEl =\n",
              "          document.querySelector('#df-e53419ac-8efe-4690-9907-ba04314848c3 button.colab-df-convert');\n",
              "        buttonEl.style.display =\n",
              "          google.colab.kernel.accessAllowed ? 'block' : 'none';\n",
              "\n",
              "        async function convertToInteractive(key) {\n",
              "          const element = document.querySelector('#df-e53419ac-8efe-4690-9907-ba04314848c3');\n",
              "          const dataTable =\n",
              "            await google.colab.kernel.invokeFunction('convertToInteractive',\n",
              "                                                     [key], {});\n",
              "          if (!dataTable) return;\n",
              "\n",
              "          const docLinkHtml = 'Like what you see? Visit the ' +\n",
              "            '<a target=\"_blank\" href=https://colab.research.google.com/notebooks/data_table.ipynb>data table notebook</a>'\n",
              "            + ' to learn more about interactive tables.';\n",
              "          element.innerHTML = '';\n",
              "          dataTable['output_type'] = 'display_data';\n",
              "          await google.colab.output.renderOutput(dataTable, element);\n",
              "          const docLink = document.createElement('div');\n",
              "          docLink.innerHTML = docLinkHtml;\n",
              "          element.appendChild(docLink);\n",
              "        }\n",
              "      </script>\n",
              "    </div>\n",
              "  </div>\n",
              "  "
            ]
          },
          "metadata": {},
          "execution_count": 42
        }
      ]
    },
    {
      "cell_type": "markdown",
      "source": [
        "### **2.6.2 Weather Conversion**"
      ],
      "metadata": {
        "id": "l4nQjLeTfluU"
      },
      "id": "l4nQjLeTfluU"
    },
    {
      "cell_type": "code",
      "source": [
        "train_data_dropped['weather'].value_counts()"
      ],
      "metadata": {
        "colab": {
          "base_uri": "https://localhost:8080/"
        },
        "id": "Jo6VkAkZfoqk",
        "outputId": "5d33d90a-81f8-4b39-eb5b-69822acb6030"
      },
      "id": "Jo6VkAkZfoqk",
      "execution_count": 43,
      "outputs": [
        {
          "output_type": "execute_result",
          "data": {
            "text/plain": [
              "1    7192\n",
              "2    2834\n",
              "3     859\n",
              "4       1\n",
              "Name: weather, dtype: int64"
            ]
          },
          "metadata": {},
          "execution_count": 43
        }
      ]
    },
    {
      "cell_type": "code",
      "source": [
        "test_data_dropped['weather'].value_counts()"
      ],
      "metadata": {
        "colab": {
          "base_uri": "https://localhost:8080/"
        },
        "id": "9eNvSWAJf0hL",
        "outputId": "ed5a0fce-824d-40d2-a543-0ae13552e54a"
      },
      "id": "9eNvSWAJf0hL",
      "execution_count": 44,
      "outputs": [
        {
          "output_type": "execute_result",
          "data": {
            "text/plain": [
              "1    4221\n",
              "2    1710\n",
              "3     560\n",
              "4       2\n",
              "Name: weather, dtype: int64"
            ]
          },
          "metadata": {},
          "execution_count": 44
        }
      ]
    },
    {
      "cell_type": "code",
      "source": [
        "heavy_weather_data = train_data_dropped.loc[train_data_dropped['weather'] == 4]\n",
        "idx = heavy_weather_data.index.values[0]\n",
        "heavy_weather_range = train_data_dropped.loc[(idx - 12 <= train_data_dropped.index) & (train_data_dropped.index <= idx + 5)]\n",
        "print(heavy_weather_range)"
      ],
      "metadata": {
        "colab": {
          "base_uri": "https://localhost:8080/"
        },
        "id": "K812LBeOjEFd",
        "outputId": "bed3f470-a0df-40c6-aca7-5d0d3359347c"
      },
      "id": "K812LBeOjEFd",
      "execution_count": 45,
      "outputs": [
        {
          "output_type": "stream",
          "name": "stdout",
          "text": [
            "      year  month  dayofweek  hour  season  holiday  workingday  weather  \\\n",
            "5619  2012      1          0     6       1        0           1        2   \n",
            "5620  2012      1          0     7       1        0           1        2   \n",
            "5621  2012      1          0     8       1        0           1        2   \n",
            "5622  2012      1          0     9       1        0           1        2   \n",
            "5623  2012      1          0    10       1        0           1        1   \n",
            "5624  2012      1          0    11       1        0           1        2   \n",
            "5625  2012      1          0    12       1        0           1        2   \n",
            "5626  2012      1          0    13       1        0           1        2   \n",
            "5627  2012      1          0    14       1        0           1        3   \n",
            "5628  2012      1          0    15       1        0           1        3   \n",
            "5629  2012      1          0    16       1        0           1        3   \n",
            "5630  2012      1          0    17       1        0           1        3   \n",
            "5631  2012      1          0    18       1        0           1        4   \n",
            "5632  2012      1          0    19       1        0           1        3   \n",
            "5633  2012      1          0    20       1        0           1        2   \n",
            "5634  2012      1          0    21       1        0           1        2   \n",
            "5635  2012      1          0    22       1        0           1        2   \n",
            "5636  2012      1          0    23       1        0           1        2   \n",
            "\n",
            "       temp   atemp  humidity  windspeed     count  \n",
            "5619   9.02  11.365      60.0     8.9981  4.488636  \n",
            "5620   9.02  12.120      60.0     7.0015  5.484797  \n",
            "5621   9.02  12.880      55.0     6.0032  6.042633  \n",
            "5622   9.02  13.635      64.0     0.0000  5.288267  \n",
            "5623   9.84  14.395      60.0     0.0000  4.691348  \n",
            "5624  10.66  14.395      56.0     6.0032  4.488636  \n",
            "5625  10.66  13.635      56.0     7.0015  4.644391  \n",
            "5626  10.66  13.635      56.0     7.0015  4.394449  \n",
            "5627   9.02  11.365      75.0    11.0014  3.931826  \n",
            "5628   9.02  11.365      75.0    11.0014  4.248495  \n",
            "5629   9.02  12.880      87.0     6.0032  3.912023  \n",
            "5630   9.02  13.635      87.0     0.0000  5.030438  \n",
            "5631   8.20  11.365      86.0     6.0032  5.105945  \n",
            "5632   8.20  11.365      93.0     6.0032  5.252273  \n",
            "5633   8.20  11.365      86.0     6.0032  4.890349  \n",
            "5634   8.20  12.880      93.0     0.0000  4.382027  \n",
            "5635   8.20  11.365      92.0     7.0015  4.143135  \n",
            "5636   9.02  12.120      87.0     7.0015  3.970292  \n"
          ]
        }
      ]
    },
    {
      "cell_type": "code",
      "source": [
        "train_data_dropped['weather'] = train_data_ordered['weather'].map({1:0, 2:1, 3:2, 4:2})\n",
        "test_data_dropped['weather'] = test_data_ordered['weather'].map({1:0, 2:1, 3:2, 4:2})"
      ],
      "metadata": {
        "id": "9YvGgxEtf3V1"
      },
      "id": "9YvGgxEtf3V1",
      "execution_count": 46,
      "outputs": []
    },
    {
      "cell_type": "code",
      "source": [
        "train_data_dropped['weather'].value_counts()"
      ],
      "metadata": {
        "colab": {
          "base_uri": "https://localhost:8080/"
        },
        "id": "HoUSWPlWgAHr",
        "outputId": "f4674719-0de9-4493-d32a-85bdb90e787a"
      },
      "id": "HoUSWPlWgAHr",
      "execution_count": 47,
      "outputs": [
        {
          "output_type": "execute_result",
          "data": {
            "text/plain": [
              "0    7192\n",
              "1    2834\n",
              "2     860\n",
              "Name: weather, dtype: int64"
            ]
          },
          "metadata": {},
          "execution_count": 47
        }
      ]
    },
    {
      "cell_type": "markdown",
      "source": [
        "### **2.6.3 Creating Dummy Variables**"
      ],
      "metadata": {
        "id": "GSUR3oxcgPKW"
      },
      "id": "GSUR3oxcgPKW"
    },
    {
      "cell_type": "code",
      "source": [
        "train_data_with_dummies = pd.get_dummies(train_data_dropped, columns=['year','month', 'dayofweek', 'hour', 'season','weather'], drop_first=True)\n",
        "test_data_with_dummies = pd.get_dummies(test_data_dropped, columns=['year','month', 'dayofweek', 'hour', 'season', 'weather'], drop_first=True)\n",
        "train_data_with_dummies.head()"
      ],
      "metadata": {
        "colab": {
          "base_uri": "https://localhost:8080/",
          "height": 300
        },
        "id": "VXRjTF-qgie_",
        "outputId": "5e825cde-cda2-4946-9a6a-a54285f835a3"
      },
      "id": "VXRjTF-qgie_",
      "execution_count": 48,
      "outputs": [
        {
          "output_type": "execute_result",
          "data": {
            "text/plain": [
              "   holiday  workingday  temp   atemp  humidity  windspeed     count  \\\n",
              "0        0           0  9.84  14.395      81.0        0.0  2.833213   \n",
              "1        0           0  9.02  13.635      80.0        0.0  3.713572   \n",
              "2        0           0  9.02  13.635      80.0        0.0  3.496508   \n",
              "3        0           0  9.84  14.395      75.0        0.0  2.639057   \n",
              "4        0           0  9.84  14.395      75.0        0.0  0.693147   \n",
              "\n",
              "   year_2012  month_2  month_3  ...  hour_19  hour_20  hour_21  hour_22  \\\n",
              "0          0        0        0  ...        0        0        0        0   \n",
              "1          0        0        0  ...        0        0        0        0   \n",
              "2          0        0        0  ...        0        0        0        0   \n",
              "3          0        0        0  ...        0        0        0        0   \n",
              "4          0        0        0  ...        0        0        0        0   \n",
              "\n",
              "   hour_23  season_2  season_3  season_4  weather_1  weather_2  \n",
              "0        0         0         0         0          0          0  \n",
              "1        0         0         0         0          0          0  \n",
              "2        0         0         0         0          0          0  \n",
              "3        0         0         0         0          0          0  \n",
              "4        0         0         0         0          0          0  \n",
              "\n",
              "[5 rows x 53 columns]"
            ],
            "text/html": [
              "\n",
              "  <div id=\"df-b7d696ed-d326-435b-a2bb-2837fff2bc08\">\n",
              "    <div class=\"colab-df-container\">\n",
              "      <div>\n",
              "<style scoped>\n",
              "    .dataframe tbody tr th:only-of-type {\n",
              "        vertical-align: middle;\n",
              "    }\n",
              "\n",
              "    .dataframe tbody tr th {\n",
              "        vertical-align: top;\n",
              "    }\n",
              "\n",
              "    .dataframe thead th {\n",
              "        text-align: right;\n",
              "    }\n",
              "</style>\n",
              "<table border=\"1\" class=\"dataframe\">\n",
              "  <thead>\n",
              "    <tr style=\"text-align: right;\">\n",
              "      <th></th>\n",
              "      <th>holiday</th>\n",
              "      <th>workingday</th>\n",
              "      <th>temp</th>\n",
              "      <th>atemp</th>\n",
              "      <th>humidity</th>\n",
              "      <th>windspeed</th>\n",
              "      <th>count</th>\n",
              "      <th>year_2012</th>\n",
              "      <th>month_2</th>\n",
              "      <th>month_3</th>\n",
              "      <th>...</th>\n",
              "      <th>hour_19</th>\n",
              "      <th>hour_20</th>\n",
              "      <th>hour_21</th>\n",
              "      <th>hour_22</th>\n",
              "      <th>hour_23</th>\n",
              "      <th>season_2</th>\n",
              "      <th>season_3</th>\n",
              "      <th>season_4</th>\n",
              "      <th>weather_1</th>\n",
              "      <th>weather_2</th>\n",
              "    </tr>\n",
              "  </thead>\n",
              "  <tbody>\n",
              "    <tr>\n",
              "      <th>0</th>\n",
              "      <td>0</td>\n",
              "      <td>0</td>\n",
              "      <td>9.84</td>\n",
              "      <td>14.395</td>\n",
              "      <td>81.0</td>\n",
              "      <td>0.0</td>\n",
              "      <td>2.833213</td>\n",
              "      <td>0</td>\n",
              "      <td>0</td>\n",
              "      <td>0</td>\n",
              "      <td>...</td>\n",
              "      <td>0</td>\n",
              "      <td>0</td>\n",
              "      <td>0</td>\n",
              "      <td>0</td>\n",
              "      <td>0</td>\n",
              "      <td>0</td>\n",
              "      <td>0</td>\n",
              "      <td>0</td>\n",
              "      <td>0</td>\n",
              "      <td>0</td>\n",
              "    </tr>\n",
              "    <tr>\n",
              "      <th>1</th>\n",
              "      <td>0</td>\n",
              "      <td>0</td>\n",
              "      <td>9.02</td>\n",
              "      <td>13.635</td>\n",
              "      <td>80.0</td>\n",
              "      <td>0.0</td>\n",
              "      <td>3.713572</td>\n",
              "      <td>0</td>\n",
              "      <td>0</td>\n",
              "      <td>0</td>\n",
              "      <td>...</td>\n",
              "      <td>0</td>\n",
              "      <td>0</td>\n",
              "      <td>0</td>\n",
              "      <td>0</td>\n",
              "      <td>0</td>\n",
              "      <td>0</td>\n",
              "      <td>0</td>\n",
              "      <td>0</td>\n",
              "      <td>0</td>\n",
              "      <td>0</td>\n",
              "    </tr>\n",
              "    <tr>\n",
              "      <th>2</th>\n",
              "      <td>0</td>\n",
              "      <td>0</td>\n",
              "      <td>9.02</td>\n",
              "      <td>13.635</td>\n",
              "      <td>80.0</td>\n",
              "      <td>0.0</td>\n",
              "      <td>3.496508</td>\n",
              "      <td>0</td>\n",
              "      <td>0</td>\n",
              "      <td>0</td>\n",
              "      <td>...</td>\n",
              "      <td>0</td>\n",
              "      <td>0</td>\n",
              "      <td>0</td>\n",
              "      <td>0</td>\n",
              "      <td>0</td>\n",
              "      <td>0</td>\n",
              "      <td>0</td>\n",
              "      <td>0</td>\n",
              "      <td>0</td>\n",
              "      <td>0</td>\n",
              "    </tr>\n",
              "    <tr>\n",
              "      <th>3</th>\n",
              "      <td>0</td>\n",
              "      <td>0</td>\n",
              "      <td>9.84</td>\n",
              "      <td>14.395</td>\n",
              "      <td>75.0</td>\n",
              "      <td>0.0</td>\n",
              "      <td>2.639057</td>\n",
              "      <td>0</td>\n",
              "      <td>0</td>\n",
              "      <td>0</td>\n",
              "      <td>...</td>\n",
              "      <td>0</td>\n",
              "      <td>0</td>\n",
              "      <td>0</td>\n",
              "      <td>0</td>\n",
              "      <td>0</td>\n",
              "      <td>0</td>\n",
              "      <td>0</td>\n",
              "      <td>0</td>\n",
              "      <td>0</td>\n",
              "      <td>0</td>\n",
              "    </tr>\n",
              "    <tr>\n",
              "      <th>4</th>\n",
              "      <td>0</td>\n",
              "      <td>0</td>\n",
              "      <td>9.84</td>\n",
              "      <td>14.395</td>\n",
              "      <td>75.0</td>\n",
              "      <td>0.0</td>\n",
              "      <td>0.693147</td>\n",
              "      <td>0</td>\n",
              "      <td>0</td>\n",
              "      <td>0</td>\n",
              "      <td>...</td>\n",
              "      <td>0</td>\n",
              "      <td>0</td>\n",
              "      <td>0</td>\n",
              "      <td>0</td>\n",
              "      <td>0</td>\n",
              "      <td>0</td>\n",
              "      <td>0</td>\n",
              "      <td>0</td>\n",
              "      <td>0</td>\n",
              "      <td>0</td>\n",
              "    </tr>\n",
              "  </tbody>\n",
              "</table>\n",
              "<p>5 rows × 53 columns</p>\n",
              "</div>\n",
              "      <button class=\"colab-df-convert\" onclick=\"convertToInteractive('df-b7d696ed-d326-435b-a2bb-2837fff2bc08')\"\n",
              "              title=\"Convert this dataframe to an interactive table.\"\n",
              "              style=\"display:none;\">\n",
              "        \n",
              "  <svg xmlns=\"http://www.w3.org/2000/svg\" height=\"24px\"viewBox=\"0 0 24 24\"\n",
              "       width=\"24px\">\n",
              "    <path d=\"M0 0h24v24H0V0z\" fill=\"none\"/>\n",
              "    <path d=\"M18.56 5.44l.94 2.06.94-2.06 2.06-.94-2.06-.94-.94-2.06-.94 2.06-2.06.94zm-11 1L8.5 8.5l.94-2.06 2.06-.94-2.06-.94L8.5 2.5l-.94 2.06-2.06.94zm10 10l.94 2.06.94-2.06 2.06-.94-2.06-.94-.94-2.06-.94 2.06-2.06.94z\"/><path d=\"M17.41 7.96l-1.37-1.37c-.4-.4-.92-.59-1.43-.59-.52 0-1.04.2-1.43.59L10.3 9.45l-7.72 7.72c-.78.78-.78 2.05 0 2.83L4 21.41c.39.39.9.59 1.41.59.51 0 1.02-.2 1.41-.59l7.78-7.78 2.81-2.81c.8-.78.8-2.07 0-2.86zM5.41 20L4 18.59l7.72-7.72 1.47 1.35L5.41 20z\"/>\n",
              "  </svg>\n",
              "      </button>\n",
              "      \n",
              "  <style>\n",
              "    .colab-df-container {\n",
              "      display:flex;\n",
              "      flex-wrap:wrap;\n",
              "      gap: 12px;\n",
              "    }\n",
              "\n",
              "    .colab-df-convert {\n",
              "      background-color: #E8F0FE;\n",
              "      border: none;\n",
              "      border-radius: 50%;\n",
              "      cursor: pointer;\n",
              "      display: none;\n",
              "      fill: #1967D2;\n",
              "      height: 32px;\n",
              "      padding: 0 0 0 0;\n",
              "      width: 32px;\n",
              "    }\n",
              "\n",
              "    .colab-df-convert:hover {\n",
              "      background-color: #E2EBFA;\n",
              "      box-shadow: 0px 1px 2px rgba(60, 64, 67, 0.3), 0px 1px 3px 1px rgba(60, 64, 67, 0.15);\n",
              "      fill: #174EA6;\n",
              "    }\n",
              "\n",
              "    [theme=dark] .colab-df-convert {\n",
              "      background-color: #3B4455;\n",
              "      fill: #D2E3FC;\n",
              "    }\n",
              "\n",
              "    [theme=dark] .colab-df-convert:hover {\n",
              "      background-color: #434B5C;\n",
              "      box-shadow: 0px 1px 3px 1px rgba(0, 0, 0, 0.15);\n",
              "      filter: drop-shadow(0px 1px 2px rgba(0, 0, 0, 0.3));\n",
              "      fill: #FFFFFF;\n",
              "    }\n",
              "  </style>\n",
              "\n",
              "      <script>\n",
              "        const buttonEl =\n",
              "          document.querySelector('#df-b7d696ed-d326-435b-a2bb-2837fff2bc08 button.colab-df-convert');\n",
              "        buttonEl.style.display =\n",
              "          google.colab.kernel.accessAllowed ? 'block' : 'none';\n",
              "\n",
              "        async function convertToInteractive(key) {\n",
              "          const element = document.querySelector('#df-b7d696ed-d326-435b-a2bb-2837fff2bc08');\n",
              "          const dataTable =\n",
              "            await google.colab.kernel.invokeFunction('convertToInteractive',\n",
              "                                                     [key], {});\n",
              "          if (!dataTable) return;\n",
              "\n",
              "          const docLinkHtml = 'Like what you see? Visit the ' +\n",
              "            '<a target=\"_blank\" href=https://colab.research.google.com/notebooks/data_table.ipynb>data table notebook</a>'\n",
              "            + ' to learn more about interactive tables.';\n",
              "          element.innerHTML = '';\n",
              "          dataTable['output_type'] = 'display_data';\n",
              "          await google.colab.output.renderOutput(dataTable, element);\n",
              "          const docLink = document.createElement('div');\n",
              "          docLink.innerHTML = docLinkHtml;\n",
              "          element.appendChild(docLink);\n",
              "        }\n",
              "      </script>\n",
              "    </div>\n",
              "  </div>\n",
              "  "
            ]
          },
          "metadata": {},
          "execution_count": 48
        }
      ]
    },
    {
      "cell_type": "markdown",
      "source": [
        "# **3 Modelling**"
      ],
      "metadata": {
        "id": "jfdcGYsxjdgh"
      },
      "id": "jfdcGYsxjdgh"
    },
    {
      "cell_type": "markdown",
      "source": [
        "## **3.1  Scaling Numeric Values**"
      ],
      "metadata": {
        "id": "SUibxIO8jtb4"
      },
      "id": "SUibxIO8jtb4"
    },
    {
      "cell_type": "code",
      "source": [
        "# MinMax scaling numeric values\n",
        "\n",
        "from sklearn.preprocessing import MinMaxScaler\n",
        "\n",
        "def scaling(df):\n",
        "    scaler=MinMaxScaler()\n",
        "    num_cols=['temp', 'atemp', 'humidity','windspeed']\n",
        "    df[num_cols]=scaler.fit_transform(df[num_cols])\n",
        "    return df"
      ],
      "metadata": {
        "id": "0OlVGDM9kJbc"
      },
      "id": "0OlVGDM9kJbc",
      "execution_count": 49,
      "outputs": []
    },
    {
      "cell_type": "code",
      "source": [
        "train_data_scaled = scaling(train_data_with_dummies)\n",
        "test_data_scaled = scaling(test_data_with_dummies)"
      ],
      "metadata": {
        "id": "GxQk0vUxkR0U"
      },
      "id": "GxQk0vUxkR0U",
      "execution_count": 50,
      "outputs": []
    },
    {
      "cell_type": "code",
      "source": [
        "train_data_scaled.head()"
      ],
      "metadata": {
        "colab": {
          "base_uri": "https://localhost:8080/",
          "height": 300
        },
        "id": "QsqrSRhskYWL",
        "outputId": "67f1f1f3-b7ec-4a3a-cc40-a87d57aa9c1f"
      },
      "id": "QsqrSRhskYWL",
      "execution_count": 51,
      "outputs": [
        {
          "output_type": "execute_result",
          "data": {
            "text/plain": [
              "   holiday  workingday      temp     atemp  humidity  windspeed     count  \\\n",
              "0        0           0  0.224490  0.305068  0.793478        0.0  2.833213   \n",
              "1        0           0  0.204082  0.288064  0.782609        0.0  3.713572   \n",
              "2        0           0  0.204082  0.288064  0.782609        0.0  3.496508   \n",
              "3        0           0  0.224490  0.305068  0.728261        0.0  2.639057   \n",
              "4        0           0  0.224490  0.305068  0.728261        0.0  0.693147   \n",
              "\n",
              "   year_2012  month_2  month_3  ...  hour_19  hour_20  hour_21  hour_22  \\\n",
              "0          0        0        0  ...        0        0        0        0   \n",
              "1          0        0        0  ...        0        0        0        0   \n",
              "2          0        0        0  ...        0        0        0        0   \n",
              "3          0        0        0  ...        0        0        0        0   \n",
              "4          0        0        0  ...        0        0        0        0   \n",
              "\n",
              "   hour_23  season_2  season_3  season_4  weather_1  weather_2  \n",
              "0        0         0         0         0          0          0  \n",
              "1        0         0         0         0          0          0  \n",
              "2        0         0         0         0          0          0  \n",
              "3        0         0         0         0          0          0  \n",
              "4        0         0         0         0          0          0  \n",
              "\n",
              "[5 rows x 53 columns]"
            ],
            "text/html": [
              "\n",
              "  <div id=\"df-daa78e5f-82e1-47bb-9719-aeea2547d215\">\n",
              "    <div class=\"colab-df-container\">\n",
              "      <div>\n",
              "<style scoped>\n",
              "    .dataframe tbody tr th:only-of-type {\n",
              "        vertical-align: middle;\n",
              "    }\n",
              "\n",
              "    .dataframe tbody tr th {\n",
              "        vertical-align: top;\n",
              "    }\n",
              "\n",
              "    .dataframe thead th {\n",
              "        text-align: right;\n",
              "    }\n",
              "</style>\n",
              "<table border=\"1\" class=\"dataframe\">\n",
              "  <thead>\n",
              "    <tr style=\"text-align: right;\">\n",
              "      <th></th>\n",
              "      <th>holiday</th>\n",
              "      <th>workingday</th>\n",
              "      <th>temp</th>\n",
              "      <th>atemp</th>\n",
              "      <th>humidity</th>\n",
              "      <th>windspeed</th>\n",
              "      <th>count</th>\n",
              "      <th>year_2012</th>\n",
              "      <th>month_2</th>\n",
              "      <th>month_3</th>\n",
              "      <th>...</th>\n",
              "      <th>hour_19</th>\n",
              "      <th>hour_20</th>\n",
              "      <th>hour_21</th>\n",
              "      <th>hour_22</th>\n",
              "      <th>hour_23</th>\n",
              "      <th>season_2</th>\n",
              "      <th>season_3</th>\n",
              "      <th>season_4</th>\n",
              "      <th>weather_1</th>\n",
              "      <th>weather_2</th>\n",
              "    </tr>\n",
              "  </thead>\n",
              "  <tbody>\n",
              "    <tr>\n",
              "      <th>0</th>\n",
              "      <td>0</td>\n",
              "      <td>0</td>\n",
              "      <td>0.224490</td>\n",
              "      <td>0.305068</td>\n",
              "      <td>0.793478</td>\n",
              "      <td>0.0</td>\n",
              "      <td>2.833213</td>\n",
              "      <td>0</td>\n",
              "      <td>0</td>\n",
              "      <td>0</td>\n",
              "      <td>...</td>\n",
              "      <td>0</td>\n",
              "      <td>0</td>\n",
              "      <td>0</td>\n",
              "      <td>0</td>\n",
              "      <td>0</td>\n",
              "      <td>0</td>\n",
              "      <td>0</td>\n",
              "      <td>0</td>\n",
              "      <td>0</td>\n",
              "      <td>0</td>\n",
              "    </tr>\n",
              "    <tr>\n",
              "      <th>1</th>\n",
              "      <td>0</td>\n",
              "      <td>0</td>\n",
              "      <td>0.204082</td>\n",
              "      <td>0.288064</td>\n",
              "      <td>0.782609</td>\n",
              "      <td>0.0</td>\n",
              "      <td>3.713572</td>\n",
              "      <td>0</td>\n",
              "      <td>0</td>\n",
              "      <td>0</td>\n",
              "      <td>...</td>\n",
              "      <td>0</td>\n",
              "      <td>0</td>\n",
              "      <td>0</td>\n",
              "      <td>0</td>\n",
              "      <td>0</td>\n",
              "      <td>0</td>\n",
              "      <td>0</td>\n",
              "      <td>0</td>\n",
              "      <td>0</td>\n",
              "      <td>0</td>\n",
              "    </tr>\n",
              "    <tr>\n",
              "      <th>2</th>\n",
              "      <td>0</td>\n",
              "      <td>0</td>\n",
              "      <td>0.204082</td>\n",
              "      <td>0.288064</td>\n",
              "      <td>0.782609</td>\n",
              "      <td>0.0</td>\n",
              "      <td>3.496508</td>\n",
              "      <td>0</td>\n",
              "      <td>0</td>\n",
              "      <td>0</td>\n",
              "      <td>...</td>\n",
              "      <td>0</td>\n",
              "      <td>0</td>\n",
              "      <td>0</td>\n",
              "      <td>0</td>\n",
              "      <td>0</td>\n",
              "      <td>0</td>\n",
              "      <td>0</td>\n",
              "      <td>0</td>\n",
              "      <td>0</td>\n",
              "      <td>0</td>\n",
              "    </tr>\n",
              "    <tr>\n",
              "      <th>3</th>\n",
              "      <td>0</td>\n",
              "      <td>0</td>\n",
              "      <td>0.224490</td>\n",
              "      <td>0.305068</td>\n",
              "      <td>0.728261</td>\n",
              "      <td>0.0</td>\n",
              "      <td>2.639057</td>\n",
              "      <td>0</td>\n",
              "      <td>0</td>\n",
              "      <td>0</td>\n",
              "      <td>...</td>\n",
              "      <td>0</td>\n",
              "      <td>0</td>\n",
              "      <td>0</td>\n",
              "      <td>0</td>\n",
              "      <td>0</td>\n",
              "      <td>0</td>\n",
              "      <td>0</td>\n",
              "      <td>0</td>\n",
              "      <td>0</td>\n",
              "      <td>0</td>\n",
              "    </tr>\n",
              "    <tr>\n",
              "      <th>4</th>\n",
              "      <td>0</td>\n",
              "      <td>0</td>\n",
              "      <td>0.224490</td>\n",
              "      <td>0.305068</td>\n",
              "      <td>0.728261</td>\n",
              "      <td>0.0</td>\n",
              "      <td>0.693147</td>\n",
              "      <td>0</td>\n",
              "      <td>0</td>\n",
              "      <td>0</td>\n",
              "      <td>...</td>\n",
              "      <td>0</td>\n",
              "      <td>0</td>\n",
              "      <td>0</td>\n",
              "      <td>0</td>\n",
              "      <td>0</td>\n",
              "      <td>0</td>\n",
              "      <td>0</td>\n",
              "      <td>0</td>\n",
              "      <td>0</td>\n",
              "      <td>0</td>\n",
              "    </tr>\n",
              "  </tbody>\n",
              "</table>\n",
              "<p>5 rows × 53 columns</p>\n",
              "</div>\n",
              "      <button class=\"colab-df-convert\" onclick=\"convertToInteractive('df-daa78e5f-82e1-47bb-9719-aeea2547d215')\"\n",
              "              title=\"Convert this dataframe to an interactive table.\"\n",
              "              style=\"display:none;\">\n",
              "        \n",
              "  <svg xmlns=\"http://www.w3.org/2000/svg\" height=\"24px\"viewBox=\"0 0 24 24\"\n",
              "       width=\"24px\">\n",
              "    <path d=\"M0 0h24v24H0V0z\" fill=\"none\"/>\n",
              "    <path d=\"M18.56 5.44l.94 2.06.94-2.06 2.06-.94-2.06-.94-.94-2.06-.94 2.06-2.06.94zm-11 1L8.5 8.5l.94-2.06 2.06-.94-2.06-.94L8.5 2.5l-.94 2.06-2.06.94zm10 10l.94 2.06.94-2.06 2.06-.94-2.06-.94-.94-2.06-.94 2.06-2.06.94z\"/><path d=\"M17.41 7.96l-1.37-1.37c-.4-.4-.92-.59-1.43-.59-.52 0-1.04.2-1.43.59L10.3 9.45l-7.72 7.72c-.78.78-.78 2.05 0 2.83L4 21.41c.39.39.9.59 1.41.59.51 0 1.02-.2 1.41-.59l7.78-7.78 2.81-2.81c.8-.78.8-2.07 0-2.86zM5.41 20L4 18.59l7.72-7.72 1.47 1.35L5.41 20z\"/>\n",
              "  </svg>\n",
              "      </button>\n",
              "      \n",
              "  <style>\n",
              "    .colab-df-container {\n",
              "      display:flex;\n",
              "      flex-wrap:wrap;\n",
              "      gap: 12px;\n",
              "    }\n",
              "\n",
              "    .colab-df-convert {\n",
              "      background-color: #E8F0FE;\n",
              "      border: none;\n",
              "      border-radius: 50%;\n",
              "      cursor: pointer;\n",
              "      display: none;\n",
              "      fill: #1967D2;\n",
              "      height: 32px;\n",
              "      padding: 0 0 0 0;\n",
              "      width: 32px;\n",
              "    }\n",
              "\n",
              "    .colab-df-convert:hover {\n",
              "      background-color: #E2EBFA;\n",
              "      box-shadow: 0px 1px 2px rgba(60, 64, 67, 0.3), 0px 1px 3px 1px rgba(60, 64, 67, 0.15);\n",
              "      fill: #174EA6;\n",
              "    }\n",
              "\n",
              "    [theme=dark] .colab-df-convert {\n",
              "      background-color: #3B4455;\n",
              "      fill: #D2E3FC;\n",
              "    }\n",
              "\n",
              "    [theme=dark] .colab-df-convert:hover {\n",
              "      background-color: #434B5C;\n",
              "      box-shadow: 0px 1px 3px 1px rgba(0, 0, 0, 0.15);\n",
              "      filter: drop-shadow(0px 1px 2px rgba(0, 0, 0, 0.3));\n",
              "      fill: #FFFFFF;\n",
              "    }\n",
              "  </style>\n",
              "\n",
              "      <script>\n",
              "        const buttonEl =\n",
              "          document.querySelector('#df-daa78e5f-82e1-47bb-9719-aeea2547d215 button.colab-df-convert');\n",
              "        buttonEl.style.display =\n",
              "          google.colab.kernel.accessAllowed ? 'block' : 'none';\n",
              "\n",
              "        async function convertToInteractive(key) {\n",
              "          const element = document.querySelector('#df-daa78e5f-82e1-47bb-9719-aeea2547d215');\n",
              "          const dataTable =\n",
              "            await google.colab.kernel.invokeFunction('convertToInteractive',\n",
              "                                                     [key], {});\n",
              "          if (!dataTable) return;\n",
              "\n",
              "          const docLinkHtml = 'Like what you see? Visit the ' +\n",
              "            '<a target=\"_blank\" href=https://colab.research.google.com/notebooks/data_table.ipynb>data table notebook</a>'\n",
              "            + ' to learn more about interactive tables.';\n",
              "          element.innerHTML = '';\n",
              "          dataTable['output_type'] = 'display_data';\n",
              "          await google.colab.output.renderOutput(dataTable, element);\n",
              "          const docLink = document.createElement('div');\n",
              "          docLink.innerHTML = docLinkHtml;\n",
              "          element.appendChild(docLink);\n",
              "        }\n",
              "      </script>\n",
              "    </div>\n",
              "  </div>\n",
              "  "
            ]
          },
          "metadata": {},
          "execution_count": 51
        }
      ]
    },
    {
      "cell_type": "code",
      "source": [
        "test_data_scaled.head()"
      ],
      "metadata": {
        "colab": {
          "base_uri": "https://localhost:8080/",
          "height": 300
        },
        "id": "eKtBQP0lkdFD",
        "outputId": "0c7f933b-7322-45fc-b34c-fb75b3c8ccf7"
      },
      "id": "eKtBQP0lkdFD",
      "execution_count": 52,
      "outputs": [
        {
          "output_type": "execute_result",
          "data": {
            "text/plain": [
              "   holiday  workingday  temp   atemp  humidity  windspeed  year_2012  month_2  \\\n",
              "0        0           1  0.25  0.2273   0.47619   0.464346          0        0   \n",
              "1        0           1  0.25  0.2727   0.47619   0.000000          0        0   \n",
              "2        0           1  0.25  0.2727   0.47619   0.000000          0        0   \n",
              "3        0           1  0.25  0.2576   0.47619   0.196458          0        0   \n",
              "4        0           1  0.25  0.2576   0.47619   0.196458          0        0   \n",
              "\n",
              "   month_3  month_4  ...  hour_19  hour_20  hour_21  hour_22  hour_23  \\\n",
              "0        0        0  ...        0        0        0        0        0   \n",
              "1        0        0  ...        0        0        0        0        0   \n",
              "2        0        0  ...        0        0        0        0        0   \n",
              "3        0        0  ...        0        0        0        0        0   \n",
              "4        0        0  ...        0        0        0        0        0   \n",
              "\n",
              "   season_2  season_3  season_4  weather_1  weather_2  \n",
              "0         0         0         0          0          0  \n",
              "1         0         0         0          0          0  \n",
              "2         0         0         0          0          0  \n",
              "3         0         0         0          0          0  \n",
              "4         0         0         0          0          0  \n",
              "\n",
              "[5 rows x 52 columns]"
            ],
            "text/html": [
              "\n",
              "  <div id=\"df-07356e50-8d08-409a-afb1-f3fc4ccd616c\">\n",
              "    <div class=\"colab-df-container\">\n",
              "      <div>\n",
              "<style scoped>\n",
              "    .dataframe tbody tr th:only-of-type {\n",
              "        vertical-align: middle;\n",
              "    }\n",
              "\n",
              "    .dataframe tbody tr th {\n",
              "        vertical-align: top;\n",
              "    }\n",
              "\n",
              "    .dataframe thead th {\n",
              "        text-align: right;\n",
              "    }\n",
              "</style>\n",
              "<table border=\"1\" class=\"dataframe\">\n",
              "  <thead>\n",
              "    <tr style=\"text-align: right;\">\n",
              "      <th></th>\n",
              "      <th>holiday</th>\n",
              "      <th>workingday</th>\n",
              "      <th>temp</th>\n",
              "      <th>atemp</th>\n",
              "      <th>humidity</th>\n",
              "      <th>windspeed</th>\n",
              "      <th>year_2012</th>\n",
              "      <th>month_2</th>\n",
              "      <th>month_3</th>\n",
              "      <th>month_4</th>\n",
              "      <th>...</th>\n",
              "      <th>hour_19</th>\n",
              "      <th>hour_20</th>\n",
              "      <th>hour_21</th>\n",
              "      <th>hour_22</th>\n",
              "      <th>hour_23</th>\n",
              "      <th>season_2</th>\n",
              "      <th>season_3</th>\n",
              "      <th>season_4</th>\n",
              "      <th>weather_1</th>\n",
              "      <th>weather_2</th>\n",
              "    </tr>\n",
              "  </thead>\n",
              "  <tbody>\n",
              "    <tr>\n",
              "      <th>0</th>\n",
              "      <td>0</td>\n",
              "      <td>1</td>\n",
              "      <td>0.25</td>\n",
              "      <td>0.2273</td>\n",
              "      <td>0.47619</td>\n",
              "      <td>0.464346</td>\n",
              "      <td>0</td>\n",
              "      <td>0</td>\n",
              "      <td>0</td>\n",
              "      <td>0</td>\n",
              "      <td>...</td>\n",
              "      <td>0</td>\n",
              "      <td>0</td>\n",
              "      <td>0</td>\n",
              "      <td>0</td>\n",
              "      <td>0</td>\n",
              "      <td>0</td>\n",
              "      <td>0</td>\n",
              "      <td>0</td>\n",
              "      <td>0</td>\n",
              "      <td>0</td>\n",
              "    </tr>\n",
              "    <tr>\n",
              "      <th>1</th>\n",
              "      <td>0</td>\n",
              "      <td>1</td>\n",
              "      <td>0.25</td>\n",
              "      <td>0.2727</td>\n",
              "      <td>0.47619</td>\n",
              "      <td>0.000000</td>\n",
              "      <td>0</td>\n",
              "      <td>0</td>\n",
              "      <td>0</td>\n",
              "      <td>0</td>\n",
              "      <td>...</td>\n",
              "      <td>0</td>\n",
              "      <td>0</td>\n",
              "      <td>0</td>\n",
              "      <td>0</td>\n",
              "      <td>0</td>\n",
              "      <td>0</td>\n",
              "      <td>0</td>\n",
              "      <td>0</td>\n",
              "      <td>0</td>\n",
              "      <td>0</td>\n",
              "    </tr>\n",
              "    <tr>\n",
              "      <th>2</th>\n",
              "      <td>0</td>\n",
              "      <td>1</td>\n",
              "      <td>0.25</td>\n",
              "      <td>0.2727</td>\n",
              "      <td>0.47619</td>\n",
              "      <td>0.000000</td>\n",
              "      <td>0</td>\n",
              "      <td>0</td>\n",
              "      <td>0</td>\n",
              "      <td>0</td>\n",
              "      <td>...</td>\n",
              "      <td>0</td>\n",
              "      <td>0</td>\n",
              "      <td>0</td>\n",
              "      <td>0</td>\n",
              "      <td>0</td>\n",
              "      <td>0</td>\n",
              "      <td>0</td>\n",
              "      <td>0</td>\n",
              "      <td>0</td>\n",
              "      <td>0</td>\n",
              "    </tr>\n",
              "    <tr>\n",
              "      <th>3</th>\n",
              "      <td>0</td>\n",
              "      <td>1</td>\n",
              "      <td>0.25</td>\n",
              "      <td>0.2576</td>\n",
              "      <td>0.47619</td>\n",
              "      <td>0.196458</td>\n",
              "      <td>0</td>\n",
              "      <td>0</td>\n",
              "      <td>0</td>\n",
              "      <td>0</td>\n",
              "      <td>...</td>\n",
              "      <td>0</td>\n",
              "      <td>0</td>\n",
              "      <td>0</td>\n",
              "      <td>0</td>\n",
              "      <td>0</td>\n",
              "      <td>0</td>\n",
              "      <td>0</td>\n",
              "      <td>0</td>\n",
              "      <td>0</td>\n",
              "      <td>0</td>\n",
              "    </tr>\n",
              "    <tr>\n",
              "      <th>4</th>\n",
              "      <td>0</td>\n",
              "      <td>1</td>\n",
              "      <td>0.25</td>\n",
              "      <td>0.2576</td>\n",
              "      <td>0.47619</td>\n",
              "      <td>0.196458</td>\n",
              "      <td>0</td>\n",
              "      <td>0</td>\n",
              "      <td>0</td>\n",
              "      <td>0</td>\n",
              "      <td>...</td>\n",
              "      <td>0</td>\n",
              "      <td>0</td>\n",
              "      <td>0</td>\n",
              "      <td>0</td>\n",
              "      <td>0</td>\n",
              "      <td>0</td>\n",
              "      <td>0</td>\n",
              "      <td>0</td>\n",
              "      <td>0</td>\n",
              "      <td>0</td>\n",
              "    </tr>\n",
              "  </tbody>\n",
              "</table>\n",
              "<p>5 rows × 52 columns</p>\n",
              "</div>\n",
              "      <button class=\"colab-df-convert\" onclick=\"convertToInteractive('df-07356e50-8d08-409a-afb1-f3fc4ccd616c')\"\n",
              "              title=\"Convert this dataframe to an interactive table.\"\n",
              "              style=\"display:none;\">\n",
              "        \n",
              "  <svg xmlns=\"http://www.w3.org/2000/svg\" height=\"24px\"viewBox=\"0 0 24 24\"\n",
              "       width=\"24px\">\n",
              "    <path d=\"M0 0h24v24H0V0z\" fill=\"none\"/>\n",
              "    <path d=\"M18.56 5.44l.94 2.06.94-2.06 2.06-.94-2.06-.94-.94-2.06-.94 2.06-2.06.94zm-11 1L8.5 8.5l.94-2.06 2.06-.94-2.06-.94L8.5 2.5l-.94 2.06-2.06.94zm10 10l.94 2.06.94-2.06 2.06-.94-2.06-.94-.94-2.06-.94 2.06-2.06.94z\"/><path d=\"M17.41 7.96l-1.37-1.37c-.4-.4-.92-.59-1.43-.59-.52 0-1.04.2-1.43.59L10.3 9.45l-7.72 7.72c-.78.78-.78 2.05 0 2.83L4 21.41c.39.39.9.59 1.41.59.51 0 1.02-.2 1.41-.59l7.78-7.78 2.81-2.81c.8-.78.8-2.07 0-2.86zM5.41 20L4 18.59l7.72-7.72 1.47 1.35L5.41 20z\"/>\n",
              "  </svg>\n",
              "      </button>\n",
              "      \n",
              "  <style>\n",
              "    .colab-df-container {\n",
              "      display:flex;\n",
              "      flex-wrap:wrap;\n",
              "      gap: 12px;\n",
              "    }\n",
              "\n",
              "    .colab-df-convert {\n",
              "      background-color: #E8F0FE;\n",
              "      border: none;\n",
              "      border-radius: 50%;\n",
              "      cursor: pointer;\n",
              "      display: none;\n",
              "      fill: #1967D2;\n",
              "      height: 32px;\n",
              "      padding: 0 0 0 0;\n",
              "      width: 32px;\n",
              "    }\n",
              "\n",
              "    .colab-df-convert:hover {\n",
              "      background-color: #E2EBFA;\n",
              "      box-shadow: 0px 1px 2px rgba(60, 64, 67, 0.3), 0px 1px 3px 1px rgba(60, 64, 67, 0.15);\n",
              "      fill: #174EA6;\n",
              "    }\n",
              "\n",
              "    [theme=dark] .colab-df-convert {\n",
              "      background-color: #3B4455;\n",
              "      fill: #D2E3FC;\n",
              "    }\n",
              "\n",
              "    [theme=dark] .colab-df-convert:hover {\n",
              "      background-color: #434B5C;\n",
              "      box-shadow: 0px 1px 3px 1px rgba(0, 0, 0, 0.15);\n",
              "      filter: drop-shadow(0px 1px 2px rgba(0, 0, 0, 0.3));\n",
              "      fill: #FFFFFF;\n",
              "    }\n",
              "  </style>\n",
              "\n",
              "      <script>\n",
              "        const buttonEl =\n",
              "          document.querySelector('#df-07356e50-8d08-409a-afb1-f3fc4ccd616c button.colab-df-convert');\n",
              "        buttonEl.style.display =\n",
              "          google.colab.kernel.accessAllowed ? 'block' : 'none';\n",
              "\n",
              "        async function convertToInteractive(key) {\n",
              "          const element = document.querySelector('#df-07356e50-8d08-409a-afb1-f3fc4ccd616c');\n",
              "          const dataTable =\n",
              "            await google.colab.kernel.invokeFunction('convertToInteractive',\n",
              "                                                     [key], {});\n",
              "          if (!dataTable) return;\n",
              "\n",
              "          const docLinkHtml = 'Like what you see? Visit the ' +\n",
              "            '<a target=\"_blank\" href=https://colab.research.google.com/notebooks/data_table.ipynb>data table notebook</a>'\n",
              "            + ' to learn more about interactive tables.';\n",
              "          element.innerHTML = '';\n",
              "          dataTable['output_type'] = 'display_data';\n",
              "          await google.colab.output.renderOutput(dataTable, element);\n",
              "          const docLink = document.createElement('div');\n",
              "          docLink.innerHTML = docLinkHtml;\n",
              "          element.appendChild(docLink);\n",
              "        }\n",
              "      </script>\n",
              "    </div>\n",
              "  </div>\n",
              "  "
            ]
          },
          "metadata": {},
          "execution_count": 52
        }
      ]
    },
    {
      "cell_type": "markdown",
      "source": [
        "## **3.2  Train/Validation Split**"
      ],
      "metadata": {
        "id": "SIWoAFXrj1QB"
      },
      "id": "SIWoAFXrj1QB"
    },
    {
      "cell_type": "code",
      "source": [
        "# Split Train & Validation\n",
        "from sklearn.model_selection import train_test_split\n",
        "X_train,X_test,y_train,y_test=train_test_split(train_data_scaled.drop(['count'],axis=1),train_data_scaled['count'],test_size=0.2)"
      ],
      "metadata": {
        "id": "1C7thoO-kkCY"
      },
      "id": "1C7thoO-kkCY",
      "execution_count": 53,
      "outputs": []
    },
    {
      "cell_type": "markdown",
      "source": [
        "## **3.3  Defining Metric**"
      ],
      "metadata": {
        "id": "ERj2SBOKj68P"
      },
      "id": "ERj2SBOKj68P"
    },
    {
      "cell_type": "code",
      "source": [
        "def rmsle(y,pred):\n",
        "    log_y=np.log1p(y)\n",
        "    log_pred=np.log1p(pred)\n",
        "    squared_error=(log_y-log_pred)**2\n",
        "    rmsle=np.sqrt(np.mean(squared_error))\n",
        "    return rmsle"
      ],
      "metadata": {
        "id": "k50_xI4dkpaq"
      },
      "id": "k50_xI4dkpaq",
      "execution_count": 54,
      "outputs": []
    },
    {
      "cell_type": "markdown",
      "source": [
        "## **3.4  Model Selection**"
      ],
      "metadata": {
        "id": "I7_D-XrPj-VS"
      },
      "id": "I7_D-XrPj-VS"
    },
    {
      "cell_type": "code",
      "source": [
        "from sklearn.linear_model import LinearRegression,Ridge,Lasso\n",
        "from sklearn.ensemble import RandomForestRegressor,GradientBoostingRegressor\n",
        "from xgboost import XGBRegressor\n",
        "from lightgbm import LGBMRegressor\n",
        "\n",
        "from sklearn.model_selection import GridSearchCV"
      ],
      "metadata": {
        "id": "LNGNodViks6R"
      },
      "id": "LNGNodViks6R",
      "execution_count": 55,
      "outputs": []
    },
    {
      "cell_type": "code",
      "source": [
        "def evaluate(reg_cls,params=None):\n",
        "    reg=reg_cls()\n",
        "    if params:\n",
        "        reg=GridSearchCV(reg,param_grid=params,refit=True)\n",
        "    reg.fit(X_train,y_train)\n",
        "    pred=reg.predict(X_test)\n",
        "    \n",
        "    y_test_exp=np.expm1(y_test)\n",
        "    pred_exp=np.expm1(pred)\n",
        "    print('\\n',reg_cls)\n",
        "    if params:\n",
        "        print(reg.best_params_)\n",
        "        reg=reg.best_estimator_\n",
        "    print(rmsle(y_test_exp,pred_exp))\n",
        "    return reg,pred_exp"
      ],
      "metadata": {
        "id": "SdG63NmOkwy3"
      },
      "id": "SdG63NmOkwy3",
      "execution_count": 56,
      "outputs": []
    },
    {
      "cell_type": "code",
      "source": [
        "lr_reg,pred_lr=evaluate(LinearRegression)\n",
        "rg_reg,pred_rg=evaluate(Ridge)\n",
        "ls_reg,pred_ls=evaluate(Lasso)\n",
        "rf_reg,pred_rf=evaluate(RandomForestRegressor)\n",
        "gb_reg,pred_gb=evaluate(GradientBoostingRegressor)\n",
        "xg_reg,pred_xg=evaluate(XGBRegressor)\n",
        "lg_reg,pred_lg=evaluate(LGBMRegressor)\n",
        "\n",
        "params={'n_estimators':[100*i for i in range(1,6)]}\n",
        "xg_reg,pred_xg=evaluate(XGBRegressor,params)\n",
        "lg_reg,pred_Ig=evaluate(LGBMRegressor,params)"
      ],
      "metadata": {
        "colab": {
          "base_uri": "https://localhost:8080/"
        },
        "id": "0ZuTMljCkzm_",
        "outputId": "96e55451-1a71-4f9b-edf0-b4881c6b5a0f"
      },
      "id": "0ZuTMljCkzm_",
      "execution_count": 57,
      "outputs": [
        {
          "output_type": "stream",
          "name": "stdout",
          "text": [
            "\n",
            " <class 'sklearn.linear_model._base.LinearRegression'>\n",
            "0.5833378254459833\n",
            "\n",
            " <class 'sklearn.linear_model._ridge.Ridge'>\n",
            "0.5831805886479768\n",
            "\n",
            " <class 'sklearn.linear_model._coordinate_descent.Lasso'>\n",
            "1.4189993971688077\n",
            "\n",
            " <class 'sklearn.ensemble._forest.RandomForestRegressor'>\n",
            "0.425871238322336\n",
            "\n",
            " <class 'sklearn.ensemble._gb.GradientBoostingRegressor'>\n",
            "0.5091360701279454\n",
            "\n",
            " <class 'xgboost.sklearn.XGBRegressor'>\n",
            "0.3660678295397579\n",
            "\n",
            " <class 'lightgbm.sklearn.LGBMRegressor'>\n",
            "0.3328178154829942\n",
            "\n",
            " <class 'xgboost.sklearn.XGBRegressor'>\n",
            "{'n_estimators': 500}\n",
            "0.3517956672997657\n",
            "\n",
            " <class 'lightgbm.sklearn.LGBMRegressor'>\n",
            "{'n_estimators': 500}\n",
            "0.3034494661517461\n"
          ]
        }
      ]
    },
    {
      "cell_type": "markdown",
      "source": [
        "## **3.5  Feature Importance**"
      ],
      "metadata": {
        "id": "_yJrYrCakBWg"
      },
      "id": "_yJrYrCakBWg"
    },
    {
      "cell_type": "code",
      "source": [
        "def feature_importance(reg):\n",
        "    plt.figure(figsize=(20,10))\n",
        "    print(type(reg))\n",
        "    df=pd.DataFrame(sorted(zip(X_train.columns,reg.feature_importances_)),columns=['features','values'])\n",
        "    sns.barplot(x='values',y='features',data=df.sort_values(by='values',ascending=False))\n",
        "    plt.show()"
      ],
      "metadata": {
        "id": "MPkK-haplXAa"
      },
      "id": "MPkK-haplXAa",
      "execution_count": 58,
      "outputs": []
    },
    {
      "cell_type": "code",
      "source": [
        "# XGBRegressor feature importance\n",
        "feature_importance(xg_reg)"
      ],
      "metadata": {
        "colab": {
          "base_uri": "https://localhost:8080/",
          "height": 526
        },
        "id": "1Hbk-NhElXz7",
        "outputId": "7ef223c6-190a-4a09-a324-a9edd77970e1"
      },
      "id": "1Hbk-NhElXz7",
      "execution_count": 59,
      "outputs": [
        {
          "output_type": "stream",
          "name": "stdout",
          "text": [
            "<class 'xgboost.sklearn.XGBRegressor'>\n"
          ]
        },
        {
          "output_type": "display_data",
          "data": {
            "text/plain": [
              "<Figure size 1440x720 with 1 Axes>"
            ],
            "image/png": "[encoded data removed]"
          },
          "metadata": {}
        }
      ]
    },
    {
      "cell_type": "code",
      "source": [
        "# LightGBMRegressor feature importance\n",
        "feature_importance(lg_reg)"
      ],
      "metadata": {
        "colab": {
          "base_uri": "https://localhost:8080/",
          "height": 526
        },
        "id": "P5kKNxtPlbNQ",
        "outputId": "f3fd511c-1e3f-4e14-bd6b-603bc4642869"
      },
      "id": "P5kKNxtPlbNQ",
      "execution_count": 60,
      "outputs": [
        {
          "output_type": "stream",
          "name": "stdout",
          "text": [
            "<class 'lightgbm.sklearn.LGBMRegressor'>\n"
          ]
        },
        {
          "output_type": "display_data",
          "data": {
            "text/plain": [
              "<Figure size 1440x720 with 1 Axes>"
            ],
            "image/png": "[encoded data removed]"
          },
          "metadata": {}
        }
      ]
    },
    {
      "cell_type": "markdown",
      "source": [
        "## **3.6  Submission**"
      ],
      "metadata": {
        "id": "spJK2CaEkFbj"
      },
      "id": "spJK2CaEkFbj"
    },
    {
      "cell_type": "code",
      "source": [
        "submission=pd.read_csv('/content/drive/MyDrive/sampleSubmission.csv')\n",
        "submission.head()"
      ],
      "metadata": {
        "colab": {
          "base_uri": "https://localhost:8080/",
          "height": 206
        },
        "id": "hh4evoHEkEyQ",
        "outputId": "7b8cdf80-fd3e-4bfa-e508-7416fe5184b1"
      },
      "id": "hh4evoHEkEyQ",
      "execution_count": 61,
      "outputs": [
        {
          "output_type": "execute_result",
          "data": {
            "text/plain": [
              "              datetime  count\n",
              "0  2011-01-20 00:00:00      0\n",
              "1  2011-01-20 01:00:00      0\n",
              "2  2011-01-20 02:00:00      0\n",
              "3  2011-01-20 03:00:00      0\n",
              "4  2011-01-20 04:00:00      0"
            ],
            "text/html": [
              "\n",
              "  <div id=\"df-a5686f3b-67c3-43a2-808b-e59f3ce0ecae\">\n",
              "    <div class=\"colab-df-container\">\n",
              "      <div>\n",
              "<style scoped>\n",
              "    .dataframe tbody tr th:only-of-type {\n",
              "        vertical-align: middle;\n",
              "    }\n",
              "\n",
              "    .dataframe tbody tr th {\n",
              "        vertical-align: top;\n",
              "    }\n",
              "\n",
              "    .dataframe thead th {\n",
              "        text-align: right;\n",
              "    }\n",
              "</style>\n",
              "<table border=\"1\" class=\"dataframe\">\n",
              "  <thead>\n",
              "    <tr style=\"text-align: right;\">\n",
              "      <th></th>\n",
              "      <th>datetime</th>\n",
              "      <th>count</th>\n",
              "    </tr>\n",
              "  </thead>\n",
              "  <tbody>\n",
              "    <tr>\n",
              "      <th>0</th>\n",
              "      <td>2011-01-20 00:00:00</td>\n",
              "      <td>0</td>\n",
              "    </tr>\n",
              "    <tr>\n",
              "      <th>1</th>\n",
              "      <td>2011-01-20 01:00:00</td>\n",
              "      <td>0</td>\n",
              "    </tr>\n",
              "    <tr>\n",
              "      <th>2</th>\n",
              "      <td>2011-01-20 02:00:00</td>\n",
              "      <td>0</td>\n",
              "    </tr>\n",
              "    <tr>\n",
              "      <th>3</th>\n",
              "      <td>2011-01-20 03:00:00</td>\n",
              "      <td>0</td>\n",
              "    </tr>\n",
              "    <tr>\n",
              "      <th>4</th>\n",
              "      <td>2011-01-20 04:00:00</td>\n",
              "      <td>0</td>\n",
              "    </tr>\n",
              "  </tbody>\n",
              "</table>\n",
              "</div>\n",
              "      <button class=\"colab-df-convert\" onclick=\"convertToInteractive('df-a5686f3b-67c3-43a2-808b-e59f3ce0ecae')\"\n",
              "              title=\"Convert this dataframe to an interactive table.\"\n",
              "              style=\"display:none;\">\n",
              "        \n",
              "  <svg xmlns=\"http://www.w3.org/2000/svg\" height=\"24px\"viewBox=\"0 0 24 24\"\n",
              "       width=\"24px\">\n",
              "    <path d=\"M0 0h24v24H0V0z\" fill=\"none\"/>\n",
              "    <path d=\"M18.56 5.44l.94 2.06.94-2.06 2.06-.94-2.06-.94-.94-2.06-.94 2.06-2.06.94zm-11 1L8.5 8.5l.94-2.06 2.06-.94-2.06-.94L8.5 2.5l-.94 2.06-2.06.94zm10 10l.94 2.06.94-2.06 2.06-.94-2.06-.94-.94-2.06-.94 2.06-2.06.94z\"/><path d=\"M17.41 7.96l-1.37-1.37c-.4-.4-.92-.59-1.43-.59-.52 0-1.04.2-1.43.59L10.3 9.45l-7.72 7.72c-.78.78-.78 2.05 0 2.83L4 21.41c.39.39.9.59 1.41.59.51 0 1.02-.2 1.41-.59l7.78-7.78 2.81-2.81c.8-.78.8-2.07 0-2.86zM5.41 20L4 18.59l7.72-7.72 1.47 1.35L5.41 20z\"/>\n",
              "  </svg>\n",
              "      </button>\n",
              "      \n",
              "  <style>\n",
              "    .colab-df-container {\n",
              "      display:flex;\n",
              "      flex-wrap:wrap;\n",
              "      gap: 12px;\n",
              "    }\n",
              "\n",
              "    .colab-df-convert {\n",
              "      background-color: #E8F0FE;\n",
              "      border: none;\n",
              "      border-radius: 50%;\n",
              "      cursor: pointer;\n",
              "      display: none;\n",
              "      fill: #1967D2;\n",
              "      height: 32px;\n",
              "      padding: 0 0 0 0;\n",
              "      width: 32px;\n",
              "    }\n",
              "\n",
              "    .colab-df-convert:hover {\n",
              "      background-color: #E2EBFA;\n",
              "      box-shadow: 0px 1px 2px rgba(60, 64, 67, 0.3), 0px 1px 3px 1px rgba(60, 64, 67, 0.15);\n",
              "      fill: #174EA6;\n",
              "    }\n",
              "\n",
              "    [theme=dark] .colab-df-convert {\n",
              "      background-color: #3B4455;\n",
              "      fill: #D2E3FC;\n",
              "    }\n",
              "\n",
              "    [theme=dark] .colab-df-convert:hover {\n",
              "      background-color: #434B5C;\n",
              "      box-shadow: 0px 1px 3px 1px rgba(0, 0, 0, 0.15);\n",
              "      filter: drop-shadow(0px 1px 2px rgba(0, 0, 0, 0.3));\n",
              "      fill: #FFFFFF;\n",
              "    }\n",
              "  </style>\n",
              "\n",
              "      <script>\n",
              "        const buttonEl =\n",
              "          document.querySelector('#df-a5686f3b-67c3-43a2-808b-e59f3ce0ecae button.colab-df-convert');\n",
              "        buttonEl.style.display =\n",
              "          google.colab.kernel.accessAllowed ? 'block' : 'none';\n",
              "\n",
              "        async function convertToInteractive(key) {\n",
              "          const element = document.querySelector('#df-a5686f3b-67c3-43a2-808b-e59f3ce0ecae');\n",
              "          const dataTable =\n",
              "            await google.colab.kernel.invokeFunction('convertToInteractive',\n",
              "                                                     [key], {});\n",
              "          if (!dataTable) return;\n",
              "\n",
              "          const docLinkHtml = 'Like what you see? Visit the ' +\n",
              "            '<a target=\"_blank\" href=https://colab.research.google.com/notebooks/data_table.ipynb>data table notebook</a>'\n",
              "            + ' to learn more about interactive tables.';\n",
              "          element.innerHTML = '';\n",
              "          dataTable['output_type'] = 'display_data';\n",
              "          await google.colab.output.renderOutput(dataTable, element);\n",
              "          const docLink = document.createElement('div');\n",
              "          docLink.innerHTML = docLinkHtml;\n",
              "          element.appendChild(docLink);\n",
              "        }\n",
              "      </script>\n",
              "    </div>\n",
              "  </div>\n",
              "  "
            ]
          },
          "metadata": {},
          "execution_count": 61
        }
      ]
    },
    {
      "cell_type": "code",
      "source": [
        "test_data_scaled.shape"
      ],
      "metadata": {
        "colab": {
          "base_uri": "https://localhost:8080/"
        },
        "id": "fsr96YBkmaI0",
        "outputId": "bb77b025-d827-4760-ab50-0e4859d9cb03"
      },
      "id": "fsr96YBkmaI0",
      "execution_count": 62,
      "outputs": [
        {
          "output_type": "execute_result",
          "data": {
            "text/plain": [
              "(6493, 52)"
            ]
          },
          "metadata": {},
          "execution_count": 62
        }
      ]
    },
    {
      "cell_type": "code",
      "source": [
        "submission.shape"
      ],
      "metadata": {
        "colab": {
          "base_uri": "https://localhost:8080/"
        },
        "id": "WTImRtBMmc66",
        "outputId": "1c83465b-8a30-4e93-f82e-61def78662eb"
      },
      "id": "WTImRtBMmc66",
      "execution_count": 63,
      "outputs": [
        {
          "output_type": "execute_result",
          "data": {
            "text/plain": [
              "(6493, 2)"
            ]
          },
          "metadata": {},
          "execution_count": 63
        }
      ]
    },
    {
      "cell_type": "code",
      "source": [
        "pred=lg_reg.predict(test_data_scaled)\n",
        "pred_exp=np.expm1(pred)\n",
        "print(pred_exp)"
      ],
      "metadata": {
        "colab": {
          "base_uri": "https://localhost:8080/"
        },
        "id": "gTTApKFznVn5",
        "outputId": "57df5b2a-c97d-4b85-f6ec-32268e699f21"
      },
      "id": "gTTApKFznVn5",
      "execution_count": 64,
      "outputs": [
        {
          "output_type": "stream",
          "name": "stdout",
          "text": [
            "[13.91478406  3.88641563  2.98933555 ... 97.36944212 82.51683987\n",
            " 40.73318456]\n"
          ]
        }
      ]
    },
    {
      "cell_type": "code",
      "source": [
        "submission.loc[:,'count']=pred_exp\n",
        "submission"
      ],
      "metadata": {
        "colab": {
          "base_uri": "https://localhost:8080/",
          "height": 424
        },
        "id": "NT9l22pmncsD",
        "outputId": "6d4294f4-5f55-4161-e9fa-8cede13bdd38"
      },
      "id": "NT9l22pmncsD",
      "execution_count": 65,
      "outputs": [
        {
          "output_type": "execute_result",
          "data": {
            "text/plain": [
              "                 datetime       count\n",
              "0     2011-01-20 00:00:00   13.914784\n",
              "1     2011-01-20 01:00:00    3.886416\n",
              "2     2011-01-20 02:00:00    2.989336\n",
              "3     2011-01-20 03:00:00    2.063520\n",
              "4     2011-01-20 04:00:00    2.186224\n",
              "...                   ...         ...\n",
              "6488  2012-12-31 19:00:00  255.733222\n",
              "6489  2012-12-31 20:00:00  156.450964\n",
              "6490  2012-12-31 21:00:00   97.369442\n",
              "6491  2012-12-31 22:00:00   82.516840\n",
              "6492  2012-12-31 23:00:00   40.733185\n",
              "\n",
              "[6493 rows x 2 columns]"
            ],
            "text/html": [
              "\n",
              "  <div id=\"df-6c424025-bd89-4549-917a-2306c00565b7\">\n",
              "    <div class=\"colab-df-container\">\n",
              "      <div>\n",
              "<style scoped>\n",
              "    .dataframe tbody tr th:only-of-type {\n",
              "        vertical-align: middle;\n",
              "    }\n",
              "\n",
              "    .dataframe tbody tr th {\n",
              "        vertical-align: top;\n",
              "    }\n",
              "\n",
              "    .dataframe thead th {\n",
              "        text-align: right;\n",
              "    }\n",
              "</style>\n",
              "<table border=\"1\" class=\"dataframe\">\n",
              "  <thead>\n",
              "    <tr style=\"text-align: right;\">\n",
              "      <th></th>\n",
              "      <th>datetime</th>\n",
              "      <th>count</th>\n",
              "    </tr>\n",
              "  </thead>\n",
              "  <tbody>\n",
              "    <tr>\n",
              "      <th>0</th>\n",
              "      <td>2011-01-20 00:00:00</td>\n",
              "      <td>13.914784</td>\n",
              "    </tr>\n",
              "    <tr>\n",
              "      <th>1</th>\n",
              "      <td>2011-01-20 01:00:00</td>\n",
              "      <td>3.886416</td>\n",
              "    </tr>\n",
              "    <tr>\n",
              "      <th>2</th>\n",
              "      <td>2011-01-20 02:00:00</td>\n",
              "      <td>2.989336</td>\n",
              "    </tr>\n",
              "    <tr>\n",
              "      <th>3</th>\n",
              "      <td>2011-01-20 03:00:00</td>\n",
              "      <td>2.063520</td>\n",
              "    </tr>\n",
              "    <tr>\n",
              "      <th>4</th>\n",
              "      <td>2011-01-20 04:00:00</td>\n",
              "      <td>2.186224</td>\n",
              "    </tr>\n",
              "    <tr>\n",
              "      <th>...</th>\n",
              "      <td>...</td>\n",
              "      <td>...</td>\n",
              "    </tr>\n",
              "    <tr>\n",
              "      <th>6488</th>\n",
              "      <td>2012-12-31 19:00:00</td>\n",
              "      <td>255.733222</td>\n",
              "    </tr>\n",
              "    <tr>\n",
              "      <th>6489</th>\n",
              "      <td>2012-12-31 20:00:00</td>\n",
              "      <td>156.450964</td>\n",
              "    </tr>\n",
              "    <tr>\n",
              "      <th>6490</th>\n",
              "      <td>2012-12-31 21:00:00</td>\n",
              "      <td>97.369442</td>\n",
              "    </tr>\n",
              "    <tr>\n",
              "      <th>6491</th>\n",
              "      <td>2012-12-31 22:00:00</td>\n",
              "      <td>82.516840</td>\n",
              "    </tr>\n",
              "    <tr>\n",
              "      <th>6492</th>\n",
              "      <td>2012-12-31 23:00:00</td>\n",
              "      <td>40.733185</td>\n",
              "    </tr>\n",
              "  </tbody>\n",
              "</table>\n",
              "<p>6493 rows × 2 columns</p>\n",
              "</div>\n",
              "      <button class=\"colab-df-convert\" onclick=\"convertToInteractive('df-6c424025-bd89-4549-917a-2306c00565b7')\"\n",
              "              title=\"Convert this dataframe to an interactive table.\"\n",
              "              style=\"display:none;\">\n",
              "        \n",
              "  <svg xmlns=\"http://www.w3.org/2000/svg\" height=\"24px\"viewBox=\"0 0 24 24\"\n",
              "       width=\"24px\">\n",
              "    <path d=\"M0 0h24v24H0V0z\" fill=\"none\"/>\n",
              "    <path d=\"M18.56 5.44l.94 2.06.94-2.06 2.06-.94-2.06-.94-.94-2.06-.94 2.06-2.06.94zm-11 1L8.5 8.5l.94-2.06 2.06-.94-2.06-.94L8.5 2.5l-.94 2.06-2.06.94zm10 10l.94 2.06.94-2.06 2.06-.94-2.06-.94-.94-2.06-.94 2.06-2.06.94z\"/><path d=\"M17.41 7.96l-1.37-1.37c-.4-.4-.92-.59-1.43-.59-.52 0-1.04.2-1.43.59L10.3 9.45l-7.72 7.72c-.78.78-.78 2.05 0 2.83L4 21.41c.39.39.9.59 1.41.59.51 0 1.02-.2 1.41-.59l7.78-7.78 2.81-2.81c.8-.78.8-2.07 0-2.86zM5.41 20L4 18.59l7.72-7.72 1.47 1.35L5.41 20z\"/>\n",
              "  </svg>\n",
              "      </button>\n",
              "      \n",
              "  <style>\n",
              "    .colab-df-container {\n",
              "      display:flex;\n",
              "      flex-wrap:wrap;\n",
              "      gap: 12px;\n",
              "    }\n",
              "\n",
              "    .colab-df-convert {\n",
              "      background-color: #E8F0FE;\n",
              "      border: none;\n",
              "      border-radius: 50%;\n",
              "      cursor: pointer;\n",
              "      display: none;\n",
              "      fill: #1967D2;\n",
              "      height: 32px;\n",
              "      padding: 0 0 0 0;\n",
              "      width: 32px;\n",
              "    }\n",
              "\n",
              "    .colab-df-convert:hover {\n",
              "      background-color: #E2EBFA;\n",
              "      box-shadow: 0px 1px 2px rgba(60, 64, 67, 0.3), 0px 1px 3px 1px rgba(60, 64, 67, 0.15);\n",
              "      fill: #174EA6;\n",
              "    }\n",
              "\n",
              "    [theme=dark] .colab-df-convert {\n",
              "      background-color: #3B4455;\n",
              "      fill: #D2E3FC;\n",
              "    }\n",
              "\n",
              "    [theme=dark] .colab-df-convert:hover {\n",
              "      background-color: #434B5C;\n",
              "      box-shadow: 0px 1px 3px 1px rgba(0, 0, 0, 0.15);\n",
              "      filter: drop-shadow(0px 1px 2px rgba(0, 0, 0, 0.3));\n",
              "      fill: #FFFFFF;\n",
              "    }\n",
              "  </style>\n",
              "\n",
              "      <script>\n",
              "        const buttonEl =\n",
              "          document.querySelector('#df-6c424025-bd89-4549-917a-2306c00565b7 button.colab-df-convert');\n",
              "        buttonEl.style.display =\n",
              "          google.colab.kernel.accessAllowed ? 'block' : 'none';\n",
              "\n",
              "        async function convertToInteractive(key) {\n",
              "          const element = document.querySelector('#df-6c424025-bd89-4549-917a-2306c00565b7');\n",
              "          const dataTable =\n",
              "            await google.colab.kernel.invokeFunction('convertToInteractive',\n",
              "                                                     [key], {});\n",
              "          if (!dataTable) return;\n",
              "\n",
              "          const docLinkHtml = 'Like what you see? Visit the ' +\n",
              "            '<a target=\"_blank\" href=https://colab.research.google.com/notebooks/data_table.ipynb>data table notebook</a>'\n",
              "            + ' to learn more about interactive tables.';\n",
              "          element.innerHTML = '';\n",
              "          dataTable['output_type'] = 'display_data';\n",
              "          await google.colab.output.renderOutput(dataTable, element);\n",
              "          const docLink = document.createElement('div');\n",
              "          docLink.innerHTML = docLinkHtml;\n",
              "          element.appendChild(docLink);\n",
              "        }\n",
              "      </script>\n",
              "    </div>\n",
              "  </div>\n",
              "  "
            ]
          },
          "metadata": {},
          "execution_count": 65
        }
      ]
    },
    {
      "cell_type": "code",
      "source": [
        "submission.to_csv('submission.csv', index=False)"
      ],
      "metadata": {
        "id": "0y1oi1tanfsm"
      },
      "id": "0y1oi1tanfsm",
      "execution_count": 66,
      "outputs": []
    },
    {
      "cell_type": "markdown",
      "source": [
        "# **4 Summary**"
      ],
      "metadata": {
        "id": "HWHPp_MepoUO"
      },
      "id": "HWHPp_MepoUO"
    },
    {
      "cell_type": "markdown",
      "source": [
        "This report details the development of a model that predicts the number of bike rentals based on weather conditions and time of year using data from the Capital Bikeshare program in Washington, D.C. \n",
        "\n",
        "The report begins with an exploratory data analysis that includes identifying and handling missing data values and outliers, conducting correlation analysis to select relevant features, and performing feature engineering. \n",
        "\n",
        "The report then compares several popular individual models, including Linear Regressor, Ridge and Lasso Regularization Models, Random Forest, Gradient Boost, XGBRegressor and LGBMRegressor. \n",
        "\n",
        "The provided labeled data set consists of the first 19 days of each month, while the Kaggle Test Data includes rental information from the 20th until the end of the month. Out of all the models tested, LGBMRegressor was found to be the most suitable choice, achieving a test scores of 0.29.The model yielded a score of 0.39 on Kaggle Test Data."
      ],
      "metadata": {
        "id": "NajvKtRkpqML"
      },
      "id": "NajvKtRkpqML"
    },
    {
      "cell_type": "markdown",
      "source": [
        "## **4.1 Data Exploration Conclusions**"
      ],
      "metadata": {
        "id": "4fhK9qkQuQZn"
      },
      "id": "4fhK9qkQuQZn"
    },
    {
      "cell_type": "markdown",
      "source": [
        "In this project, we investigated various factors that affect the bike rental count. Here's a brief overview of our exploratory data analysis:\n",
        "\n",
        "**Working vs Non-working Day:** We observed two distinct rental patterns based on whether it was a working day or not. On a working day, rental count was highest during peak office hours (8am and 5pm), while on a non-working day, the rental count was relatively uniform throughout the day, with a peak around noon.\n",
        "\n",
        "**Hour of the Day:** Bike rental count was strongly correlated with the time of day. As mentioned earlier, the count peaked during working hours and remained relatively consistent during non-working hours.\n",
        "\n",
        "**Casual vs Registered Users:** Casual users, likely tourists, had higher rental counts during non-working days, while registered users, mainly city natives, had higher rental counts during working days.\n",
        "\n",
        "**Temperature:** Moderate to high temperatures were preferred for biking, with the highest rental counts observed between 32 to 36 degrees Celsius.\n",
        "\n",
        "**Season:** Bike rentals were highest during the Fall (July to September) and Summer (April to June) seasons, and lowest during the Spring (January to March) season.\n",
        "\n",
        "**Weather:** As expected, the highest number of bike rentals occurred on clear days, and the lowest during snowy or rainy days.\n",
        "\n",
        "**Humidity:** We observed a decrease in the number of bike rentals as humidity increased."
      ],
      "metadata": {
        "id": "JpJXDS3XxlAy"
      },
      "id": "JpJXDS3XxlAy"
    },
    {
      "cell_type": "markdown",
      "source": [
        "## **4.2 Limitations and Scope for Future Work**"
      ],
      "metadata": {
        "id": "-77juAFpyrI7"
      },
      "id": "-77juAFpyrI7"
    },
    {
      "cell_type": "markdown",
      "source": [
        "Here are some limitations of our analysis and ideas to enhance the prediction accuracy of our model:\n",
        "\n",
        "\n",
        "* In this analysis, we only predicted the total bike rental count by disregarding the information about casual and registered users. A potential improvement could be to develop separate models for these user groups and combine their predictions.\n",
        "\n",
        "* A limitation of the provided training data set was the absence of data on extreme weather conditions (weather = 4), which compelled us to adjust it to weather = 3.\n",
        "\n",
        "* There are several instances where windspeed = 0. One possible method could be to first estimate those windspeed and then use it as a feature to estimate count."
      ],
      "metadata": {
        "id": "9H6nH6RDysJ7"
      },
      "id": "9H6nH6RDysJ7"
    }
  ],
  "metadata": {
    "kernelspec": {
      "display_name": "Python 3 (ipykernel)",
      "language": "python",
      "name": "python3"
    },
    "language_info": {
      "codemirror_mode": {
        "name": "ipython",
        "version": 3
      },
      "file_extension": ".py",
      "mimetype": "text/x-python",
      "name": "python",
      "nbconvert_exporter": "python",
      "pygments_lexer": "ipython3",
      "version": "3.9.13"
    },
    "colab": {
      "provenance": [],
      "include_colab_link": true
    }
  },
  "nbformat": 4,
  "nbformat_minor": 5
}